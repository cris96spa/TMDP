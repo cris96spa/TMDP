{
 "cells": [
  {
   "cell_type": "code",
   "execution_count": 1,
   "metadata": {},
   "outputs": [],
   "source": [
    "import numpy as np\n",
    "from TMDP import TMDP\n",
    "from River_swim import River\n",
    "\n",
    "from algorithms import *\n",
    "from model_functions import *\n",
    "\n",
    "import matplotlib.pyplot as plt\n",
    "\n",
    "\n",
    "#np.set_printoptions(precision=4)\n",
    "import math\n",
    "from utils import *\n",
    "\n",
    "nS = 250\n",
    "nA = 2\n",
    "seed = 2184109\n",
    "gamma = .9\n",
    "mu = np.ones(nS) * 1/nS\n",
    "river = River(nS, mu, gamma=gamma, small=5, large=1000, seed=seed)\n",
    "tau = 1.\n",
    "xi = np.ones(nS) * 1/nS\n",
    "tmdp = TMDP(river, xi, tau=tau, gamma=gamma, seed=seed)\n",
    "\n"
   ]
  },
  {
   "cell_type": "code",
   "execution_count": 2,
   "metadata": {},
   "outputs": [
    {
     "name": "stdout",
     "output_type": "stream",
     "text": [
      "Gradient:  -0.18462439024390248\n",
      "Updating tau from 1.0 to 0.9994461268292683\n",
      "Gradient:  -0.22473379662338702\n",
      "Updating tau from 0.9994461268292683 to 0.9987719254393981\n",
      "Gradient:  -13.419981291371993\n",
      "Updating tau from 0.9987719254393981 to 0.9585119815652821\n",
      "Gradient:  -8.529586876703275\n",
      "Updating tau from 0.9585119815652821 to 0.9329232209351722\n",
      "Gradient:  -9.524704690609893\n",
      "Updating tau from 0.9329232209351722 to 0.9043491068633426\n",
      "Gradient:  -0.15880669916007362\n",
      "Updating tau from 0.9043491068633426 to 0.9038726867658624\n",
      "Gradient:  -0.17712338093689406\n",
      "Updating tau from 0.9038726867658624 to 0.9033413166230517\n",
      "Gradient:  -0.2241078392510257\n",
      "Updating tau from 0.9033413166230517 to 0.9026689931052987\n",
      "Gradient:  -0.22616888820316364\n",
      "Updating tau from 0.9026689931052987 to 0.9019904864406892\n",
      "Gradient:  -0.1368585973559579\n",
      "Updating tau from 0.9019904864406892 to 0.9015799106486214\n",
      "Gradient:  -0.23150414084590668\n",
      "Updating tau from 0.9015799106486214 to 0.9008853982260837\n",
      "Gradient:  -10.632586995635483\n",
      "Updating tau from 0.9008853982260837 to 0.8689876372391773\n",
      "Gradient:  -12.426139343583134\n",
      "Updating tau from 0.8689876372391773 to 0.8317092192084279\n",
      "Gradient:  -9.40115995637213\n",
      "Updating tau from 0.8317092192084279 to 0.8035057393393115\n",
      "Gradient:  -9.180627925101222\n",
      "Updating tau from 0.8035057393393115 to 0.7759638555640078\n",
      "Gradient:  -4.516132129282479\n",
      "Updating tau from 0.7759638555640078 to 0.7624154591761604\n",
      "Gradient:  -5.3207811095779425\n",
      "Updating tau from 0.7624154591761604 to 0.7464531158474266\n",
      "Gradient:  -7.774226392715628\n",
      "Updating tau from 0.7464531158474266 to 0.7231304366692797\n",
      "Gradient:  -7.929196042962597\n",
      "Updating tau from 0.7231304366692797 to 0.6993428485403919\n",
      "Gradient:  -12.92370671273889\n",
      "Updating tau from 0.6993428485403919 to 0.6605717284021752\n",
      "Gradient:  -7.477821746889558\n",
      "Updating tau from 0.6605717284021752 to 0.6381382631615065\n",
      "Gradient:  -5.918043254493476\n",
      "Updating tau from 0.6381382631615065 to 0.620384133398026\n",
      "Gradient:  -5.821544689934011\n",
      "Updating tau from 0.620384133398026 to 0.602919499328224\n",
      "Gradient:  -9.132692963174279\n",
      "Updating tau from 0.602919499328224 to 0.5755214204387011\n",
      "Gradient:  -9.835066885507215\n",
      "Updating tau from 0.5755214204387011 to 0.5460162197821795\n",
      "Gradient:  -5.950692948351169\n",
      "Updating tau from 0.5460162197821795 to 0.528164140937126\n",
      "Gradient:  -7.656079485758868\n",
      "Updating tau from 0.528164140937126 to 0.5051959024798495\n",
      "Gradient:  -8.709557723291116\n",
      "Updating tau from 0.5051959024798495 to 0.47906722930997614\n",
      "Gradient:  -7.364823664632177\n",
      "Updating tau from 0.47906722930997614 to 0.4569727583160796\n",
      "Gradient:  -8.208856776952427\n",
      "Updating tau from 0.4569727583160796 to 0.4323461879852223\n",
      "Gradient:  -10.123798050564119\n",
      "Updating tau from 0.4323461879852223 to 0.4019747938335299\n",
      "Gradient:  -5.361827617277269\n",
      "Updating tau from 0.4019747938335299 to 0.3858893109816981\n",
      "Gradient:  -5.405810389935887\n",
      "Updating tau from 0.3858893109816981 to 0.3696718798118904\n",
      "Gradient:  -6.655684508937875\n",
      "Updating tau from 0.3696718798118904 to 0.3497048262850768\n",
      "Gradient:  -3.6685381918247257\n",
      "Updating tau from 0.3497048262850768 to 0.33869921170960265\n",
      "Gradient:  -5.440947944687884\n",
      "Updating tau from 0.33869921170960265 to 0.322376367875539\n",
      "Gradient:  -4.6832895257292195\n",
      "Updating tau from 0.322376367875539 to 0.3083264992983514\n",
      "Gradient:  -16.622527043215314\n",
      "Updating tau from 0.3083264992983514 to 0.2584589181687054\n",
      "Gradient:  -6.432210732298804\n",
      "Updating tau from 0.2584589181687054 to 0.239162285971809\n",
      "Gradient:  1.2941636849392215\n",
      "Gradient:  -4.560147490077181\n",
      "Updating tau from 0.239162285971809 to 0.22548184350157746\n",
      "Gradient:  -4.119132131884757\n",
      "Updating tau from 0.22548184350157746 to 0.21312444710592318\n",
      "Gradient:  3.638447242442152\n",
      "Gradient:  -9.278259281969031\n",
      "Updating tau from 0.21312444710592318 to 0.18528966926001608\n",
      "Gradient:  -24.122010190360264\n",
      "Updating tau from 0.18528966926001608 to 0.11292363868893529\n",
      "Gradient:  -2.5986755421383783\n",
      "Updating tau from 0.11292363868893529 to 0.10512761206252015\n",
      "Gradient:  5.356688264085097\n",
      "Gradient:  -1.8598469490266205\n",
      "Updating tau from 0.10512761206252015 to 0.09954807121544029\n",
      "Gradient:  -4.221416679032139\n",
      "Updating tau from 0.09954807121544029 to 0.08688382117834388\n",
      "Gradient:  12.723883965548902\n",
      "Gradient:  -1.0519699891590597\n",
      "Updating tau from 0.08688382117834388 to 0.0837279112108667\n",
      "Gradient:  -17.16835006671503\n",
      "Updating tau from 0.0837279112108667 to 0.032222861010721617\n",
      "Gradient:  4.198155823583277\n",
      "Gradient:  23.709383444011895\n",
      "Gradient:  8.895166651645908\n",
      "Gradient:  -0.5433570167030545\n",
      "Updating tau from 0.032222861010721617 to 0.030592789960612453\n",
      "Gradient:  23.933680788752273\n",
      "Gradient:  14.533338025998358\n",
      "Gradient:  4.199750907337589\n",
      "Gradient:  40.053291931041464\n",
      "Gradient:  20.624869764364703\n",
      "Gradient:  22.26916674053813\n",
      "Gradient:  21.74445224523808\n",
      "Gradient:  23.00868323272885\n",
      "Gradient:  26.059299597153043\n",
      "Gradient:  64.11860628614374\n",
      "Gradient:  12.082993853323403\n",
      "Gradient:  18.124871027259093\n",
      "Gradient:  39.59935843911827\n",
      "Gradient:  42.05390527616185\n",
      "Gradient:  -2.1503850581316746\n",
      "Updating tau from 0.030592789960612453 to 0.02414163478621743\n",
      "Gradient:  29.685685434914884\n",
      "Gradient:  8.439779163888703\n",
      "Gradient:  69.25759484300156\n",
      "Gradient:  23.581953690516556\n",
      "Gradient:  -82.95522556830115\n",
      "Updating tau from 0.02414163478621743 to 0\n"
     ]
    }
   ],
   "source": [
    "episodes = 10000\n",
    "status_step = 10000\n",
    "alpha = 0.25\n",
    "alpha_tau = 0.003\n",
    "results = {\"Qs\": [], \"taus\": [], \"steps\": 0, \"visit_distributions\": []}\n",
    "\n",
    "Q = np.zeros((nS, nA))\n",
    "while tau < 1.00001 and tau > 0:\n",
    "    res = Q_learning(tmdp, Q, episodes=episodes, alpha=alpha, status_step=status_step)\n",
    "    Q = res[\"Qs\"][-1]\n",
    "    visit_dist = res[\"visit_distributions\"][-1]\n",
    "    results[\"steps\"] += episodes\n",
    "    \n",
    "    pi = get_policy(Q)\n",
    "\n",
    "    r_s_a_xi = compute_r_s_a(tmdp.xi, tmdp.reward)\n",
    "    r_s_a_p = compute_r_s_a(tmdp.P_mat, tmdp.reward)\n",
    "    r_s_a = compute_r_s_a(tmdp.P_mat_tau, tmdp.reward)\n",
    "\n",
    "    #d = compute_d(mu, tmdp.P_mat_tau, pi, tmdp.gamma)\n",
    "\n",
    "    q_p = get_q_hat( tmdp.P_mat, r_s_a_p, tmdp.gamma, Q)\n",
    "    q_xi = get_q_hat(tmdp.xi, r_s_a_xi, tmdp.gamma, Q)\n",
    "    grad = compute_grad_j(pi, q_p, q_xi, visit_dist, tmdp.gamma)\n",
    "\n",
    "    print(\"Gradient: \", grad)\n",
    "    if grad < 0:\n",
    "        tau = max(0, tau + alpha_tau * grad)\n",
    "        results[\"Qs\"].append(Q)\n",
    "        results[\"taus\"].append(tmdp.tau)\n",
    "        results[\"visit_distributions\"].append(visit_dist)\n",
    "        print(\"Updating tau from {} to {}\".format(tmdp.tau, tau))\n",
    "        tmdp.update_tau(tau)"
   ]
  },
  {
   "cell_type": "code",
   "execution_count": 3,
   "metadata": {},
   "outputs": [
    {
     "name": "stdout",
     "output_type": "stream",
     "text": [
      "51\n"
     ]
    }
   ],
   "source": [
    "Q_star = bellman_optimal_q(tmdp.P_mat, tmdp.reward, tmdp.gamma)[\"Q\"]\n",
    "print(len(results[\"Qs\"]))\n",
    "\n",
    "metrics_curr = compute_metrics(tmdp, results[\"Qs\"], Q_star, results[\"visit_distributions\"])\n"
   ]
  },
  {
   "cell_type": "code",
   "execution_count": null,
   "metadata": {},
   "outputs": [
    {
     "name": "stdout",
     "output_type": "stream",
     "text": [
      "51\n",
      "15800.0\n"
     ]
    }
   ],
   "source": [
    "\n",
    "print(results[\"steps\"]/50)"
   ]
  },
  {
   "cell_type": "code",
   "execution_count": 4,
   "metadata": {},
   "outputs": [
    {
     "name": "stdout",
     "output_type": "stream",
     "text": [
      "760000\n"
     ]
    }
   ],
   "source": [
    "print(results[\"steps\"])\n",
    "Q_0 = np.zeros((nS, nA))\n",
    "res_0 = Q_learning(tmdp, Q_0, episodes=results[\"steps\"], alpha=alpha, status_step=math.floor(results[\"steps\"]/len(results[\"Qs\"])))\n",
    "\n"
   ]
  },
  {
   "cell_type": "code",
   "execution_count": 5,
   "metadata": {},
   "outputs": [
    {
     "name": "stdout",
     "output_type": "stream",
     "text": [
      "53\n",
      "51\n"
     ]
    }
   ],
   "source": [
    "print(len(res_0[\"Qs\"]))\n",
    "print(len(results[\"Qs\"]))"
   ]
  },
  {
   "cell_type": "code",
   "execution_count": 6,
   "metadata": {},
   "outputs": [
    {
     "name": "stdout",
     "output_type": "stream",
     "text": [
      "2\n"
     ]
    }
   ],
   "source": [
    "diff = len(res_0[\"Qs\"]) - len(results[\"Qs\"])\n",
    "print(diff)\n",
    "if diff > 0:\n",
    "    for i in range(diff):\n",
    "        res_0[\"Qs\"].pop(i)\n",
    "        res_0[\"visit_distributions\"].pop(i)\n"
   ]
  },
  {
   "cell_type": "code",
   "execution_count": 7,
   "metadata": {},
   "outputs": [
    {
     "name": "stdout",
     "output_type": "stream",
     "text": [
      "51\n"
     ]
    }
   ],
   "source": [
    "print(len(res_0[\"Qs\"]))"
   ]
  },
  {
   "cell_type": "code",
   "execution_count": 8,
   "metadata": {},
   "outputs": [],
   "source": [
    "metrics_0 = compute_metrics(tmdp, res_0[\"Qs\"], Q_star, res_0[\"visit_distributions\"])"
   ]
  },
  {
   "cell_type": "code",
   "execution_count": 15,
   "metadata": {},
   "outputs": [
    {
     "data": {
      "image/png": "[encoded data removed]",
      "text/plain": [
       "<Figure size 1000x562.5 with 1 Axes>"
      ]
     },
     "metadata": {},
     "output_type": "display_data"
    }
   ],
   "source": [
    "x = np.array([])\n",
    "y_0 = np.array([])\n",
    "y = np.array([])\n",
    "\n",
    "for i, J in enumerate(metrics_curr[\"J\"]):\n",
    "    y = np.append(y, J)\n",
    "    y_0 = np.append(y_0, metrics_0[\"J\"][i])\n",
    "    if i < len(metrics_curr[\"J\"])-1:\n",
    "        x = np.append(x, \"{:.3f}\".format(results[\"taus\"][i]))\n",
    "    else:\n",
    "        x = np.append(x, \"Q*\")\n",
    "x_map = np.array([i for i in range(len(x))])\n",
    "plt.figure(figsize=(10,5.625))\n",
    "plt.xticks(rotation=90, fontsize=10)\n",
    "plt.scatter(x, y, c=\"orange\")\n",
    "plt.scatter(x, y_0, c=\"blue\")\n",
    "plt.plot(x[:-1], y[:-1], c=\"orange\", label=\"Curriculum\")\n",
    "plt.plot(x[:-1], y_0[:-1], c=\"blue\", label=\"No curriculum\")\n",
    "plt.legend(loc=\"lower right\")\n",
    "plt.xlabel(\"τ\")\n",
    "plt.ylabel(\"E[J(0)]\")\n",
    "plt.title(\"Expected discounted sum of rewards J(τ=0)\")\n",
    "plt.grid(visible=True)"
   ]
  },
  {
   "cell_type": "code",
   "execution_count": 10,
   "metadata": {},
   "outputs": [
    {
     "name": "stdout",
     "output_type": "stream",
     "text": [
      "J_final:  12.607596750714237\n",
      "J_star:  14.209656304397933\n",
      "J_0:  7.286662643323082\n"
     ]
    }
   ],
   "source": [
    "# Evaluating performance of the final policy\n",
    "J_final = get_expected_avg_reward(tmdp.P_mat, get_policy(results[\"Qs\"][-1]), tmdp.reward, tmdp.gamma, tmdp.mu)\n",
    "J_star = get_expected_avg_reward(tmdp.P_mat, get_policy(Q_star), tmdp.reward, tmdp.gamma, tmdp.mu)\n",
    "J_0 = get_expected_avg_reward(tmdp.P_mat, get_policy(res_0[\"Qs\"][-1]), tmdp.reward, tmdp.gamma, tmdp.mu)\n",
    "\n",
    "print(\"J_final: \", J_final)\n",
    "print(\"J_star: \", J_star)\n",
    "print(\"J_0: \", J_0)"
   ]
  },
  {
   "cell_type": "code",
   "execution_count": null,
   "metadata": {},
   "outputs": [],
   "source": []
  }
 ],
 "metadata": {
  "kernelspec": {
   "display_name": "Python 3",
   "language": "python",
   "name": "python3"
  },
  "language_info": {
   "codemirror_mode": {
    "name": "ipython",
    "version": 3
   },
   "file_extension": ".py",
   "mimetype": "text/x-python",
   "name": "python",
   "nbconvert_exporter": "python",
   "pygments_lexer": "ipython3",
   "version": "3.11.5"
  }
 },
 "nbformat": 4,
 "nbformat_minor": 2
}
