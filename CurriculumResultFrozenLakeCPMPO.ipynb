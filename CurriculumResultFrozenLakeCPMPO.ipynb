{
 "cells": [
  {
   "cell_type": "code",
   "execution_count": 1,
   "metadata": {},
   "outputs": [],
   "source": [
    "import numpy as np\n",
    "import matplotlib.pyplot as plt\n",
    "import gymnasium as gym\n",
    "import math\n",
    "import mlflow\n",
    "import optuna\n",
    "import os\n",
    "\n",
    "from TMDP import TMDP\n",
    "from algorithms import *\n",
    "from model_functions import *\n",
    "from policy_utils import *\n",
    "from experiment_result_utils import *\n",
    "from constants import *\n",
    "\n",
    "from FrozenLake import *\n",
    "from CurriculumPMPO import CurriculumPMPO"
   ]
  },
  {
   "cell_type": "code",
   "execution_count": 2,
   "metadata": {},
   "outputs": [],
   "source": [
    "is_slippery = False\n",
    "reward_shape = False\n",
    "dense_reward = True\n",
    "num_bins = 7\n",
    "nrows = 10\n",
    "\n",
    "num_runs = 10\n",
    "episodes = 4900000\n",
    "checkpoint_step=500\n",
    "test_episodes = 1000\n",
    "\n",
    "shape_range=(-1,0)\n",
    "goal_reward = 1.\n",
    "debug = False\n",
    "param_decay=True\n",
    "\n",
    "lam = 1\n",
    "experiment_results = []\n",
    "exp_taus = []\n",
    "tests_returns = []\n",
    "tests_lens = []"
   ]
  },
  {
   "cell_type": "code",
   "execution_count": 3,
   "metadata": {},
   "outputs": [],
   "source": [
    "if num_bins == 0:\n",
    "    reward_shape = dense_reward = False\n",
    "    discount_tau = True\n",
    "else:\n",
    "    reward_shape = dense_reward = True\n",
    "    discount_tau = False"
   ]
  },
  {
   "cell_type": "code",
   "execution_count": 4,
   "metadata": {},
   "outputs": [],
   "source": [
    "#Frozen Lake Environment\n",
    "tau = 0.2\n",
    "nS = nrows**2\n",
    "nA = 4\n",
    "gamma = 0.99999999\n",
    "xi = np.ones(nS) * 1/nS"
   ]
  },
  {
   "cell_type": "code",
   "execution_count": 5,
   "metadata": {},
   "outputs": [],
   "source": [
    "pol_lr = 0.215723\n",
    "model_lr = 0.373715\n",
    "temp = 36.039501\n",
    "entropy_coef = 0.0010124439030950623\n",
    "epochs = 3\n",
    "batch_size = 20\n",
    "final_temp=1\n",
    "\n",
    "check_convergence = True\n",
    "eps_shift = 1e-3 #1.5 best\n",
    "max_eps_model = 0.5*eps_shift\n",
    "eps_ppo = 0.2"
   ]
  },
  {
   "cell_type": "code",
   "execution_count": 6,
   "metadata": {},
   "outputs": [],
   "source": [
    "run_name = f\"CurrPMPO_{num_bins}\"\n",
    "\n",
    "mlflow.set_tracking_uri(MLFLOW_URI)\n",
    "experiment_name = f\"FrozenLake_{nrows}x{nrows}_{num_bins}\"\n",
    "experiment_id = get_or_create_experiment(experiment_name)\n",
    "mlflow.set_experiment(experiment_name)\n",
    "\n",
    "save_path = f\"results/{experiment_name}/run_{run_name}\"\n",
    "label = run_name.split(\"_\")[0]"
   ]
  },
  {
   "cell_type": "code",
   "execution_count": 7,
   "metadata": {},
   "outputs": [],
   "source": [
    "def run_experiment(index, seed, run_name, change_map=False):\n",
    "    sub_run_name = f\"{run_name}_{index}\"\n",
    "    \n",
    "    with mlflow.start_run(nested=True, run_name=sub_run_name):\n",
    "        # Environment specific configuration   \n",
    "        map_seed = seed if change_map else constants.SEEDS[0]\n",
    "        set_policy_seed(seed)\n",
    "        env = FrozenLakeEnv(is_slippery=is_slippery, seed=seed, \n",
    "                        desc=generate_random_map(nrows, seed=map_seed), \n",
    "                        reward_shape=reward_shape,\n",
    "                        num_bins=num_bins,\n",
    "                        dense_reward=dense_reward,\n",
    "                        shape_range=shape_range,\n",
    "                        goal_reward=goal_reward,\n",
    "                        )\n",
    "        \n",
    "        # Environment independent configuration\n",
    "        tmdp = TMDP(env, xi, tau=tau, \n",
    "                    gamma=gamma, discount_tau=discount_tau,\n",
    "                    seed=seed)\n",
    "        tmdp.update_tau(tau)\n",
    "        curr_PMPO = CurriculumPMPO(tmdp, checkpoint_step=checkpoint_step)\n",
    "\n",
    "        curr_PMPO.train(model_lr, pol_lr, batch_size=batch_size, \n",
    "                lam=lam, temp=temp, final_temp=final_temp,\n",
    "                episodes=episodes, eps_ppo=eps_ppo,\n",
    "                eps_shift=eps_shift,\n",
    "                param_decay=param_decay, epochs=epochs, max_length=1000,\n",
    "                entropy_coef=entropy_coef, debug=debug,\n",
    "                max_eps_model=max_eps_model, check_convergence=check_convergence)\n",
    "        \n",
    "        \n",
    "        avg_return = np.average(curr_PMPO.reward_records[-10:])/batch_size\n",
    "        \n",
    "        mlflow.log_metric(\"Avg Return\", avg_return)\n",
    "        test_policies = test_policies_len(tmdp, curr_PMPO.thetas, test_episodes, 1e-5)\n",
    "        test_policies_return = test_policies[0]\n",
    "        test_pol_len = test_policies[1]\n",
    "        \n",
    "        result_dict = {\n",
    "            \"thetas\" : curr_PMPO.thetas,\n",
    "            \"taus\" : curr_PMPO.taus,\n",
    "            \"reward_records\" : curr_PMPO.reward_records,\n",
    "            \"test_policies_return\" : test_policies_return,\n",
    "            \"index\" : index,\n",
    "            \"test_pol_len\" : test_pol_len,\n",
    "        }\n",
    "\n",
    "        tests_returns.append(test_policies_return)\n",
    "        experiment_results.append(result_dict)\n",
    "        tests_lens.append(test_pol_len)\n",
    "        exp_taus.append(curr_PMPO.taus)"
   ]
  },
  {
   "cell_type": "code",
   "execution_count": 8,
   "metadata": {},
   "outputs": [],
   "source": [
    "def run_experiments(change_map=False, num_runs=10):\n",
    "    with mlflow.start_run(run_name=run_name):\n",
    "        \n",
    "        for i in range(num_runs):\n",
    "            seed = constants.SEEDS[i]\n",
    "            run_experiment(i, seed, run_name, change_map)\n",
    "        \n",
    "        pad_returns = pad_to_same_length(tests_returns)\n",
    "        pad_lens = pad_to_same_length(tests_lens)\n",
    "        pad_taus = pad_to_same_length(exp_taus)\n",
    "        experiment_dict = {\n",
    "            \"tests_returns\": pad_returns,\n",
    "            \"taus\": pad_taus,\n",
    "            \"tests_lens\": pad_lens,\n",
    "            \"num_runs\": num_runs,\n",
    "            \"change_map\": change_map,\n",
    "            \"num_bins\": num_bins,\n",
    "            \"label\": label,\n",
    "            \"checkpoint_step\": checkpoint_step,\n",
    "        }\n",
    "\n",
    "        mlflow.set_tags(tags={\n",
    "            \"change_map\": change_map,\n",
    "            \"seed\": seed,\n",
    "            \"tau\": tau,\n",
    "            \"gamma\": gamma,\n",
    "            \"checkpoint_step\": checkpoint_step,\n",
    "            \"test_episodes\": test_episodes,\n",
    "            \"dense_reward\": dense_reward,\n",
    "            \"shape_range\": shape_range,\n",
    "            \"goal_reward\": goal_reward,\n",
    "            \"reward_shape\": reward_shape,\n",
    "            \"episodes\": episodes,\n",
    "            \"model_lr\": model_lr,\n",
    "            \"pol_lr\": pol_lr,\n",
    "            \"temp\": temp,\n",
    "            \"final_temp\": final_temp,\n",
    "            \"batch_size\": batch_size,\n",
    "            \"epochs\": epochs,\n",
    "            \"lam\": lam,\n",
    "            \"eps_ppo\": eps_ppo,\n",
    "            \"eps_model\": eps_shift,\n",
    "            \"entropy_coef\": entropy_coef,\n",
    "            \"max_eps_model\": max_eps_model,\n",
    "            \"param_decay\": param_decay,\n",
    "        })\n",
    "\n",
    "        try:\n",
    "            save_to_mlflow(experiment_dict, run_name)\n",
    "        except Exception as e:\n",
    "            print(e)\n",
    "            print(\"Something went wrong saving the experiment results to MLFlow.\")\n",
    "            print(\"Saving locally instead.\")\n",
    "            time.sleep(5)\n",
    "            save(save_path, experiment_dict)\n",
    "\n",
    "        rewards_fig = plot_avg_test_return(tests_returns, f\"CPMPO Avg Rewards on {num_runs} runs\")\n",
    "        try:\n",
    "            mlflow.log_figure(figure=rewards_fig, artifact_file=\"reward_image.png\")\n",
    "        except Exception as e:\n",
    "            print(e)\n",
    "            print(\"Something went wrong saving the figure to MLFlow.\")\n",
    "            print(\"Saving locally instead.\")\n",
    "            time.sleep(5)\n",
    "            rewards_fig.savefig(save_path+\"/reward_image.png\")"
   ]
  },
  {
   "cell_type": "code",
   "execution_count": 6,
   "metadata": {},
   "outputs": [
    {
     "name": "stdout",
     "output_type": "stream",
     "text": [
      "0\n"
     ]
    }
   ],
   "source": [
    "print(len(tests_returns))"
   ]
  },
  {
   "cell_type": "code",
   "execution_count": 7,
   "metadata": {},
   "outputs": [
    {
     "ename": "NameError",
     "evalue": "name 'run_experiments' is not defined",
     "output_type": "error",
     "traceback": [
      "\u001b[1;31m---------------------------------------------------------------------------\u001b[0m",
      "\u001b[1;31mNameError\u001b[0m                                 Traceback (most recent call last)",
      "Cell \u001b[1;32mIn[7], line 1\u001b[0m\n\u001b[1;32m----> 1\u001b[0m \u001b[43mrun_experiments\u001b[49m(change_map\u001b[38;5;241m=\u001b[39m\u001b[38;5;28;01mFalse\u001b[39;00m, num_runs\u001b[38;5;241m=\u001b[39mnum_runs)\n",
      "\u001b[1;31mNameError\u001b[0m: name 'run_experiments' is not defined"
     ]
    }
   ],
   "source": [
    "run_experiments(change_map=False, num_runs=num_runs)"
   ]
  },
  {
   "cell_type": "code",
   "execution_count": 8,
   "metadata": {},
   "outputs": [
    {
     "ename": "IndexError",
     "evalue": "list index out of range",
     "output_type": "error",
     "traceback": [
      "\u001b[1;31m---------------------------------------------------------------------------\u001b[0m",
      "\u001b[1;31mIndexError\u001b[0m                                Traceback (most recent call last)",
      "Cell \u001b[1;32mIn[8], line 1\u001b[0m\n\u001b[1;32m----> 1\u001b[0m \u001b[38;5;28mprint\u001b[39m(\u001b[43mexperiment_results\u001b[49m\u001b[43m[\u001b[49m\u001b[38;5;241;43m0\u001b[39;49m\u001b[43m]\u001b[49m\u001b[38;5;241m.\u001b[39mkeys())\n\u001b[0;32m      2\u001b[0m \u001b[38;5;28mprint\u001b[39m(experiment_results[\u001b[38;5;241m0\u001b[39m][\u001b[38;5;124m\"\u001b[39m\u001b[38;5;124mthetas\u001b[39m\u001b[38;5;124m\"\u001b[39m][\u001b[38;5;241m-\u001b[39m\u001b[38;5;241m1\u001b[39m])\n\u001b[0;32m      3\u001b[0m \u001b[38;5;28mprint\u001b[39m(experiment_results[\u001b[38;5;241m1\u001b[39m][\u001b[38;5;124m\"\u001b[39m\u001b[38;5;124mthetas\u001b[39m\u001b[38;5;124m\"\u001b[39m][\u001b[38;5;241m-\u001b[39m\u001b[38;5;241m1\u001b[39m])\n",
      "\u001b[1;31mIndexError\u001b[0m: list index out of range"
     ]
    }
   ],
   "source": [
    "print(experiment_results[0].keys())\n",
    "print(experiment_results[0][\"thetas\"][-1])\n",
    "print(experiment_results[1][\"thetas\"][-1])"
   ]
  },
  {
   "cell_type": "code",
   "execution_count": 6,
   "metadata": {},
   "outputs": [
    {
     "name": "stdout",
     "output_type": "stream",
     "text": [
      "Current seed for result reproducibility: 2999\n"
     ]
    }
   ],
   "source": [
    "map_seed = seed = SEEDS[0]\n",
    "set_policy_seed(seed)\n",
    "env = FrozenLakeEnv(is_slippery=is_slippery, seed=seed, \n",
    "                desc=generate_random_map(nrows, seed=map_seed), \n",
    "                reward_shape=reward_shape,\n",
    "                num_bins=num_bins,\n",
    "                dense_reward=dense_reward,\n",
    "                shape_range=shape_range,\n",
    "                goal_reward=goal_reward,\n",
    "                )\n",
    "\n",
    "# Environment independent configuration\n",
    "tmdp = TMDP(env, xi, tau=tau, gamma=gamma, seed=seed)\n",
    "tmdp.update_tau(tau)"
   ]
  },
  {
   "cell_type": "code",
   "execution_count": 7,
   "metadata": {},
   "outputs": [],
   "source": [
    "rewards = tmdp.env.shaped_rewards\n",
    "env.render_mode = \"rgb_array\""
   ]
  },
  {
   "cell_type": "code",
   "execution_count": 8,
   "metadata": {},
   "outputs": [
    {
     "data": {
      "image/png": "[encoded data removed]",
      "text/plain": [
       "<Figure size 1200x1200 with 2 Axes>"
      ]
     },
     "metadata": {},
     "output_type": "display_data"
    }
   ],
   "source": [
    "plt.figure(figsize=(12, 12))\n",
    "plt.imshow(rewards, cmap='coolwarm', interpolation='none')\n",
    "plt.colorbar()\n",
    "plt.title('Reward Bins', fontsize=40)\n",
    "plt.show()\n"
   ]
  },
  {
   "cell_type": "code",
   "execution_count": 9,
   "metadata": {},
   "outputs": [],
   "source": [
    "frame = env.render()"
   ]
  },
  {
   "cell_type": "code",
   "execution_count": 10,
   "metadata": {},
   "outputs": [],
   "source": [
    "from PIL import Image\n",
    "# Convert the frame to an image and save it\n",
    "if isinstance(frame, np.ndarray):\n",
    "    image = Image.fromarray(frame)\n",
    "    image.save('./overleaf_plots/frozen_lake_env_bins.png')\n",
    "else:\n",
    "    print(\"Failed to capture frame. Ensure the render_mode is set to 'rgb_array'.\")"
   ]
  },
  {
   "cell_type": "code",
   "execution_count": null,
   "metadata": {},
   "outputs": [],
   "source": [
    "pi = get_softmax_policy(experiment_results[0][\"thetas\"][-1], 1e-3)\n"
   ]
  },
  {
   "cell_type": "code",
   "execution_count": null,
   "metadata": {},
   "outputs": [],
   "source": [
    "\n",
    "tmdp.update_tau(0.)\n",
    "tmdp.reset()\n",
    "done = False\n",
    "step = 0\n",
    "env.render_mode = \"human\"\n",
    "while True:\n",
    "    s = tmdp.env.s\n",
    "    a = select_action(pi[s])\n",
    "    s_prime, reward, flags, prob = tmdp.step(a)\n",
    "    print(\"state {} action {} next state {} reward {}\".format(s, a, s_prime, reward))\n",
    "    if flags[\"done\"]:\n",
    "        tmdp.reset()\n",
    "        break\n",
    "    step +=1\n",
    "    if step > min(100,nrows*3):\n",
    "        break\n"
   ]
  }
 ],
 "metadata": {
  "kernelspec": {
   "display_name": "mlflow_env",
   "language": "python",
   "name": "python3"
  },
  "language_info": {
   "codemirror_mode": {
    "name": "ipython",
    "version": 3
   },
   "file_extension": ".py",
   "mimetype": "text/x-python",
   "name": "python",
   "nbconvert_exporter": "python",
   "pygments_lexer": "ipython3",
   "version": "3.11.5"
  }
 },
 "nbformat": 4,
 "nbformat_minor": 2
}
