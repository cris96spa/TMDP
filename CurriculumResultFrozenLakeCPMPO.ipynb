{
 "cells": [
  {
   "cell_type": "code",
   "execution_count": 1,
   "metadata": {},
   "outputs": [],
   "source": [
    "import numpy as np\n",
    "import matplotlib.pyplot as plt\n",
    "import gymnasium as gym\n",
    "import math\n",
    "import mlflow\n",
    "import optuna\n",
    "import os\n",
    "\n",
    "from TMDP import TMDP\n",
    "from algorithms import *\n",
    "from model_functions import *\n",
    "from policy_utils import *\n",
    "from experiment_result_utils import *\n",
    "from constants import *\n",
    "\n",
    "from FrozenLake import *\n",
    "from CurriculumPMPO import CurriculumPMPO"
   ]
  },
  {
   "cell_type": "code",
   "execution_count": 2,
   "metadata": {},
   "outputs": [],
   "source": [
    "is_slippery = False\n",
    "reward_shape = True\n",
    "dense_reward = True\n",
    "num_bins = 15\n",
    "nrows = 30\n",
    "\n",
    "num_runs = 10\n",
    "episodes = 4900000\n",
    "checkpoint_step=500\n",
    "test_episodes = 1000\n",
    "\n",
    "shape_range=(-1,0)\n",
    "goal_reward = 1.\n",
    "debug = False\n",
    "param_decay=True\n",
    "\n",
    "lam = 1\n",
    "experiment_results = []\n",
    "tests_returns = []"
   ]
  },
  {
   "cell_type": "code",
   "execution_count": 3,
   "metadata": {},
   "outputs": [],
   "source": [
    "#Frozen Lake Environment\n",
    "tau = 0.6\n",
    "nS = nrows**2\n",
    "nA = 4\n",
    "gamma = 0.999\n",
    "xi = np.ones(nS) * 1/nS"
   ]
  },
  {
   "cell_type": "code",
   "execution_count": 4,
   "metadata": {},
   "outputs": [],
   "source": [
    "model_lr = 0.373715\n",
    "pol_lr = 0.215723\n",
    "temp = 36.039501\n",
    "epochs = 3\n",
    "entropy_coef = 0.400000\n",
    "eps_shift = 9e-3\n",
    "\n",
    "batch_size = 20\n",
    "final_temp=1\n",
    "eps_ppo = 0.2"
   ]
  },
  {
   "cell_type": "code",
   "execution_count": 5,
   "metadata": {},
   "outputs": [],
   "source": [
    "run_name = f\"CurrPMPO_{num_bins}\"\n",
    "\n",
    "mlflow.set_tracking_uri(MLFLOW_URI)\n",
    "experiment_name = f\"FrozenLake_{nrows}x{nrows}_{num_bins}\"\n",
    "experiment_id = get_or_create_experiment(experiment_name)\n",
    "mlflow.set_experiment(experiment_name)\n",
    "\n",
    "save_path = f\"results/{experiment_name}/run_{run_name}\"\n",
    "label = run_name.split(\"_\")[0]"
   ]
  },
  {
   "cell_type": "code",
   "execution_count": 6,
   "metadata": {},
   "outputs": [],
   "source": [
    "def run_experiment(index, seed, run_name, change_map=False):\n",
    "    sub_run_name = f\"{run_name}_{index}\"\n",
    "    \n",
    "    with mlflow.start_run(nested=True, run_name=sub_run_name):\n",
    "        # Environment specific configuration   \n",
    "        map_seed = seed if change_map else constants.SEEDS[0]\n",
    "        set_policy_seed(seed)\n",
    "        env = FrozenLakeEnv(is_slippery=is_slippery, seed=seed, \n",
    "                        desc=generate_random_map(nrows, seed=map_seed), \n",
    "                        reward_shape=reward_shape,\n",
    "                        num_bins=num_bins,\n",
    "                        dense_reward=dense_reward,\n",
    "                        shape_range=shape_range,\n",
    "                        goal_reward=goal_reward,\n",
    "                        )\n",
    "        \n",
    "        # Environment independent configuration\n",
    "        tmdp = TMDP(env, xi, tau=tau, gamma=gamma, seed=seed)\n",
    "        tmdp.update_tau(tau)\n",
    "        curr_PMPO = CurriculumPMPO(tmdp, checkpoint_step=checkpoint_step)\n",
    "\n",
    "        curr_PMPO.train(model_lr, pol_lr, batch_size=batch_size, \n",
    "                lam=lam, temp=temp, final_temp=final_temp,\n",
    "                episodes=episodes, eps_ppo=eps_ppo,\n",
    "                eps_shift=eps_shift,\n",
    "                param_decay=param_decay, epochs=epochs, max_length=1000,\n",
    "                entropy_coef=entropy_coef, debug=debug)\n",
    "        \n",
    "        \n",
    "        avg_return = np.average(curr_PMPO.reward_records[-10:])/batch_size\n",
    "        \n",
    "        mlflow.log_metric(\"Avg Return\", avg_return)\n",
    "        \n",
    "        run_dict = {\n",
    "            \"episodes\": curr_PMPO.episodes,\n",
    "            \"model_lr\": model_lr,\n",
    "            \"pol_lr\": pol_lr,\n",
    "            \"temp\": temp,\n",
    "            \"final_temp\": final_temp,\n",
    "            \"batch_size\": batch_size,\n",
    "            \"epochs\": epochs,\n",
    "            \"lam\": lam,\n",
    "            \"eps_ppo\": eps_ppo,\n",
    "            \"eps_shift\": eps_shift,\n",
    "        }\n",
    "        \n",
    "        mlflow.log_params(run_dict)\n",
    "        mlflow.set_tags(tags={\n",
    "            \"run_name\": run_name,\n",
    "            \"change_map\": change_map,\n",
    "            \"seed\": seed,\n",
    "            \"tau\": tau,\n",
    "            \"gamma\": gamma,\n",
    "            \"checkpoint_step\": checkpoint_step,\n",
    "            \"test_episodes\": test_episodes,\n",
    "            \"index\": index,\n",
    "            \"dense_reward\": dense_reward,\n",
    "            \"shape_range\": shape_range,\n",
    "            \"goal_reward\": goal_reward,\n",
    "            \"reward_shape\": reward_shape,\n",
    "        })\n",
    "\n",
    "        \n",
    "        test_policies_return = test_policies(tmdp, curr_PMPO.thetas, test_episodes, 1e-5)\n",
    "        \n",
    "        result_dict = {\n",
    "            \"thetas\" : curr_PMPO.thetas,\n",
    "            \"taus\" : curr_PMPO.taus,\n",
    "            \"reward_records\" : curr_PMPO.reward_records,\n",
    "            \"test_policies_return\" : test_policies_return,\n",
    "            \"index\" : index,\n",
    "        }\n",
    "\n",
    "        tests_returns.append(test_policies_return)\n",
    "        experiment_results.append(result_dict)\n",
    "        # Save artifact to MLFlow\n",
    "        try:\n",
    "            save_to_mlflow(result_dict, run_name)\n",
    "        except Exception as e:\n",
    "            print(f\"Error saving to MLFlow: {e}\")\n",
    "            print(\"Saving locally instead.\")\n",
    "            time.sleep(5)\n",
    "            path = save_path+f\"/{sub_run_name}\"\n",
    "            save(path, result_dict)"
   ]
  },
  {
   "cell_type": "code",
   "execution_count": 7,
   "metadata": {},
   "outputs": [],
   "source": [
    "def run_experiments(change_map=False, num_runs=10):\n",
    "    with mlflow.start_run(run_name=run_name):\n",
    "        \n",
    "        for i in range(num_runs):\n",
    "            seed = constants.SEEDS[i]\n",
    "            run_experiment(i, seed, run_name, change_map)\n",
    "        \n",
    "        experiment_dict = {\n",
    "            \"tests_returns\": tests_returns,\n",
    "            \"num_runs\": num_runs,\n",
    "            \"change_map\": change_map,\n",
    "            \"num_bins\": num_bins,\n",
    "            \"label\": label,\n",
    "        }\n",
    "        try:\n",
    "            save_to_mlflow(experiment_dict, run_name)\n",
    "        except Exception as e:\n",
    "            print(e)\n",
    "            print(\"Something went wrong saving the experiment results to MLFlow.\")\n",
    "            print(\"Saving locally instead.\")\n",
    "            time.sleep(5)\n",
    "            save(save_path, experiment_dict)\n",
    "\n",
    "        rewards_fig = plot_avg_test_return(tests_returns, f\"CPMPO Avg Rewards on {num_runs} runs\")\n",
    "        try:\n",
    "            mlflow.log_figure(figure=rewards_fig, artifact_file=\"reward_image.png\")\n",
    "        except Exception as e:\n",
    "            print(e)\n",
    "            print(\"Something went wrong saving the figure to MLFlow.\")\n",
    "            print(\"Saving locally instead.\")\n",
    "            time.sleep(5)\n",
    "            rewards_fig.savefig(save_path+\"/reward_image.png\")"
   ]
  },
  {
   "cell_type": "code",
   "execution_count": 8,
   "metadata": {},
   "outputs": [
    {
     "name": "stdout",
     "output_type": "stream",
     "text": [
      "Current seed for result reproducibility: 2999\n"
     ]
    },
    {
     "ename": "NameError",
     "evalue": "name 'get_d_inf_policy' is not defined",
     "output_type": "error",
     "traceback": [
      "\u001b[1;31m---------------------------------------------------------------------------\u001b[0m",
      "\u001b[1;31mNameError\u001b[0m                                 Traceback (most recent call last)",
      "Cell \u001b[1;32mIn[8], line 1\u001b[0m\n\u001b[1;32m----> 1\u001b[0m \u001b[43mrun_experiments\u001b[49m\u001b[43m(\u001b[49m\u001b[43mchange_map\u001b[49m\u001b[38;5;241;43m=\u001b[39;49m\u001b[38;5;28;43;01mFalse\u001b[39;49;00m\u001b[43m,\u001b[49m\u001b[43m \u001b[49m\u001b[43mnum_runs\u001b[49m\u001b[38;5;241;43m=\u001b[39;49m\u001b[43mnum_runs\u001b[49m\u001b[43m)\u001b[49m\n",
      "Cell \u001b[1;32mIn[7], line 6\u001b[0m, in \u001b[0;36mrun_experiments\u001b[1;34m(change_map, num_runs)\u001b[0m\n\u001b[0;32m      4\u001b[0m \u001b[38;5;28;01mfor\u001b[39;00m i \u001b[38;5;129;01min\u001b[39;00m \u001b[38;5;28mrange\u001b[39m(num_runs):\n\u001b[0;32m      5\u001b[0m     seed \u001b[38;5;241m=\u001b[39m constants\u001b[38;5;241m.\u001b[39mSEEDS[i]\n\u001b[1;32m----> 6\u001b[0m     \u001b[43mrun_experiment\u001b[49m\u001b[43m(\u001b[49m\u001b[43mi\u001b[49m\u001b[43m,\u001b[49m\u001b[43m \u001b[49m\u001b[43mseed\u001b[49m\u001b[43m,\u001b[49m\u001b[43m \u001b[49m\u001b[43mrun_name\u001b[49m\u001b[43m,\u001b[49m\u001b[43m \u001b[49m\u001b[43mchange_map\u001b[49m\u001b[43m)\u001b[49m\n\u001b[0;32m      8\u001b[0m experiment_dict \u001b[38;5;241m=\u001b[39m {\n\u001b[0;32m      9\u001b[0m     \u001b[38;5;124m\"\u001b[39m\u001b[38;5;124mtests_returns\u001b[39m\u001b[38;5;124m\"\u001b[39m: tests_returns,\n\u001b[0;32m     10\u001b[0m     \u001b[38;5;124m\"\u001b[39m\u001b[38;5;124mnum_runs\u001b[39m\u001b[38;5;124m\"\u001b[39m: num_runs,\n\u001b[1;32m   (...)\u001b[0m\n\u001b[0;32m     13\u001b[0m     \u001b[38;5;124m\"\u001b[39m\u001b[38;5;124mlabel\u001b[39m\u001b[38;5;124m\"\u001b[39m: label,\n\u001b[0;32m     14\u001b[0m }\n\u001b[0;32m     15\u001b[0m \u001b[38;5;28;01mtry\u001b[39;00m:\n",
      "Cell \u001b[1;32mIn[6], line 22\u001b[0m, in \u001b[0;36mrun_experiment\u001b[1;34m(index, seed, run_name, change_map)\u001b[0m\n\u001b[0;32m     19\u001b[0m tmdp\u001b[38;5;241m.\u001b[39mupdate_tau(tau)\n\u001b[0;32m     20\u001b[0m curr_PMPO \u001b[38;5;241m=\u001b[39m CurriculumPMPO(tmdp, checkpoint_step\u001b[38;5;241m=\u001b[39mcheckpoint_step)\n\u001b[1;32m---> 22\u001b[0m \u001b[43mcurr_PMPO\u001b[49m\u001b[38;5;241;43m.\u001b[39;49m\u001b[43mtrain\u001b[49m\u001b[43m(\u001b[49m\u001b[43mmodel_lr\u001b[49m\u001b[43m,\u001b[49m\u001b[43m \u001b[49m\u001b[43mpol_lr\u001b[49m\u001b[43m,\u001b[49m\u001b[43m \u001b[49m\u001b[43mbatch_size\u001b[49m\u001b[38;5;241;43m=\u001b[39;49m\u001b[43mbatch_size\u001b[49m\u001b[43m,\u001b[49m\u001b[43m \u001b[49m\n\u001b[0;32m     23\u001b[0m \u001b[43m        \u001b[49m\u001b[43mlam\u001b[49m\u001b[38;5;241;43m=\u001b[39;49m\u001b[43mlam\u001b[49m\u001b[43m,\u001b[49m\u001b[43m \u001b[49m\u001b[43mtemp\u001b[49m\u001b[38;5;241;43m=\u001b[39;49m\u001b[43mtemp\u001b[49m\u001b[43m,\u001b[49m\u001b[43m \u001b[49m\u001b[43mfinal_temp\u001b[49m\u001b[38;5;241;43m=\u001b[39;49m\u001b[43mfinal_temp\u001b[49m\u001b[43m,\u001b[49m\n\u001b[0;32m     24\u001b[0m \u001b[43m        \u001b[49m\u001b[43mepisodes\u001b[49m\u001b[38;5;241;43m=\u001b[39;49m\u001b[43mepisodes\u001b[49m\u001b[43m,\u001b[49m\u001b[43m \u001b[49m\u001b[43meps_ppo\u001b[49m\u001b[38;5;241;43m=\u001b[39;49m\u001b[43meps_ppo\u001b[49m\u001b[43m,\u001b[49m\n\u001b[0;32m     25\u001b[0m \u001b[43m        \u001b[49m\u001b[43meps_shift\u001b[49m\u001b[38;5;241;43m=\u001b[39;49m\u001b[43meps_shift\u001b[49m\u001b[43m,\u001b[49m\n\u001b[0;32m     26\u001b[0m \u001b[43m        \u001b[49m\u001b[43mparam_decay\u001b[49m\u001b[38;5;241;43m=\u001b[39;49m\u001b[43mparam_decay\u001b[49m\u001b[43m,\u001b[49m\u001b[43m \u001b[49m\u001b[43mepochs\u001b[49m\u001b[38;5;241;43m=\u001b[39;49m\u001b[43mepochs\u001b[49m\u001b[43m,\u001b[49m\u001b[43m \u001b[49m\u001b[43mmax_length\u001b[49m\u001b[38;5;241;43m=\u001b[39;49m\u001b[38;5;241;43m1000\u001b[39;49m\u001b[43m,\u001b[49m\n\u001b[0;32m     27\u001b[0m \u001b[43m        \u001b[49m\u001b[43mentropy_coef\u001b[49m\u001b[38;5;241;43m=\u001b[39;49m\u001b[43mentropy_coef\u001b[49m\u001b[43m,\u001b[49m\u001b[43m \u001b[49m\u001b[43mdebug\u001b[49m\u001b[38;5;241;43m=\u001b[39;49m\u001b[43mdebug\u001b[49m\u001b[43m)\u001b[49m\n\u001b[0;32m     30\u001b[0m avg_return \u001b[38;5;241m=\u001b[39m np\u001b[38;5;241m.\u001b[39maverage(curr_PMPO\u001b[38;5;241m.\u001b[39mreward_records[\u001b[38;5;241m-\u001b[39m\u001b[38;5;241m10\u001b[39m:])\u001b[38;5;241m/\u001b[39mbatch_size\n\u001b[0;32m     32\u001b[0m mlflow\u001b[38;5;241m.\u001b[39mlog_metric(\u001b[38;5;124m\"\u001b[39m\u001b[38;5;124mAvg Return\u001b[39m\u001b[38;5;124m\"\u001b[39m, avg_return)\n",
      "File \u001b[1;32mc:\\Users\\crist\\OneDrive - Politecnico di Milano\\Polimi\\Tesi\\TMDP\\CurriculumPMPO.py:127\u001b[0m, in \u001b[0;36mCurriculumPMPO.train\u001b[1;34m(self, model_lr, pol_lr, batch_size, temp, lam, final_temp, episodes, epochs, eps_ppo, eps_shift, param_decay, log_mlflow, adaptive, tuning_rate, max_length, entropy_coef, debug)\u001b[0m\n\u001b[0;32m    124\u001b[0m alpha_pol \u001b[38;5;241m=\u001b[39m pol_lr\u001b[38;5;241m*\u001b[39m\u001b[38;5;28mself\u001b[39m\u001b[38;5;241m.\u001b[39mlr_decay                                              \u001b[38;5;66;03m# policy learning rate                   \u001b[39;00m\n\u001b[0;32m    125\u001b[0m dec_temp \u001b[38;5;241m=\u001b[39m temp\u001b[38;5;241m+\u001b[39m\u001b[38;5;28mself\u001b[39m\u001b[38;5;241m.\u001b[39mtemp_decay                                               \u001b[38;5;66;03m# temperature decay                                \u001b[39;00m\n\u001b[1;32m--> 127\u001b[0m \u001b[38;5;28;43mself\u001b[39;49m\u001b[38;5;241;43m.\u001b[39;49m\u001b[43mupdate\u001b[49m\u001b[43m(\u001b[49m\u001b[43malpha_model\u001b[49m\u001b[43m,\u001b[49m\u001b[43m \u001b[49m\u001b[43malpha_pol\u001b[49m\u001b[43m,\u001b[49m\u001b[43m \u001b[49m\u001b[43mdec_temp\u001b[49m\u001b[43m,\u001b[49m\u001b[43m \u001b[49m\u001b[43mlam\u001b[49m\u001b[43m,\u001b[49m\u001b[43m \u001b[49m\u001b[43mepochs\u001b[49m\u001b[38;5;241;43m=\u001b[39;49m\u001b[43mepochs\u001b[49m\u001b[43m,\u001b[49m\u001b[43m \u001b[49m\u001b[43meps_ppo\u001b[49m\u001b[38;5;241;43m=\u001b[39;49m\u001b[43meps_ppo\u001b[49m\u001b[43m)\u001b[49m  \u001b[38;5;66;03m# Update Value Functions and Reference Policy\u001b[39;00m\n\u001b[0;32m    129\u001b[0m r_sum \u001b[38;5;241m=\u001b[39m \u001b[38;5;28msum\u001b[39m(\u001b[38;5;28mself\u001b[39m\u001b[38;5;241m.\u001b[39mrewards)                                                  \u001b[38;5;66;03m# sum of rewards in the batch\u001b[39;00m\n\u001b[0;32m    130\u001b[0m e_time \u001b[38;5;241m=\u001b[39m time\u001b[38;5;241m.\u001b[39mtime()                                                      \u001b[38;5;66;03m# end time\u001b[39;00m\n",
      "File \u001b[1;32mc:\\Users\\crist\\OneDrive - Politecnico di Milano\\Polimi\\Tesi\\TMDP\\CurriculumPMPO.py:274\u001b[0m, in \u001b[0;36mCurriculumPMPO.update\u001b[1;34m(self, alpha_model, alpha_pol, dec_temp, lam, epochs, eps_ppo)\u001b[0m\n\u001b[0;32m    271\u001b[0m tensor_pi_old \u001b[38;5;241m=\u001b[39m torch\u001b[38;5;241m.\u001b[39mtensor(pi_old, dtype\u001b[38;5;241m=\u001b[39mtorch\u001b[38;5;241m.\u001b[39mfloat32)\u001b[38;5;241m.\u001b[39mto(\u001b[38;5;28mself\u001b[39m\u001b[38;5;241m.\u001b[39mdevice)\n\u001b[0;32m    273\u001b[0m \u001b[38;5;66;03m# Compute policy shift tresold\u001b[39;00m\n\u001b[1;32m--> 274\u001b[0m \u001b[38;5;28mself\u001b[39m\u001b[38;5;241m.\u001b[39md_inf_pol \u001b[38;5;241m=\u001b[39m \u001b[43mget_d_inf_policy\u001b[49m(tensor_pi_ref, tensor_pi_old)\n\u001b[0;32m    275\u001b[0m \u001b[38;5;28mself\u001b[39m\u001b[38;5;241m.\u001b[39mtheta \u001b[38;5;241m=\u001b[39m np\u001b[38;5;241m.\u001b[39mcopy(\u001b[38;5;28mself\u001b[39m\u001b[38;5;241m.\u001b[39mtheta_ref)\n",
      "\u001b[1;31mNameError\u001b[0m: name 'get_d_inf_policy' is not defined"
     ]
    }
   ],
   "source": [
    "run_experiments(change_map=False, num_runs=num_runs)"
   ]
  },
  {
   "cell_type": "code",
   "execution_count": null,
   "metadata": {},
   "outputs": [],
   "source": [
    "print(len(tests_returns[0]))"
   ]
  },
  {
   "cell_type": "code",
   "execution_count": null,
   "metadata": {},
   "outputs": [],
   "source": [
    "num = 8\n",
    "indexes = [0, 1, 2, 3, 4, 5,  ]\n",
    "indexes = [6,9]\n",
    "rew = [tests_returns[i] for i in indexes]\n",
    "len(rew)"
   ]
  },
  {
   "cell_type": "code",
   "execution_count": null,
   "metadata": {},
   "outputs": [],
   "source": [
    "rewards_fig = plot_avg_test_return(rew, f\"CPMPO Avg Rewards on {num_runs} runs\")"
   ]
  }
 ],
 "metadata": {
  "kernelspec": {
   "display_name": "mlflow_env",
   "language": "python",
   "name": "python3"
  },
  "language_info": {
   "codemirror_mode": {
    "name": "ipython",
    "version": 3
   },
   "file_extension": ".py",
   "mimetype": "text/x-python",
   "name": "python",
   "nbconvert_exporter": "python",
   "pygments_lexer": "ipython3",
   "version": "3.11.5"
  }
 },
 "nbformat": 4,
 "nbformat_minor": 2
}
