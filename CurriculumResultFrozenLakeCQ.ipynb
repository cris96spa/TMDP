version https://git-lfs.github.com/spec/v1
oid sha256:ea67bbff6d56354aac157be3cc2b44be4341f6692ece67e998d4eddc7554c72d
size 1168700
