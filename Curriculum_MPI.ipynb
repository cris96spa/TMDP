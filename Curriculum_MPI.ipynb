{
 "cells": [
  {
   "cell_type": "code",
   "execution_count": null,
   "metadata": {},
   "outputs": [],
   "source": [
    "import numpy as np\n",
    "from TMDP import TMDP\n",
    "from RiverSwim import RiverSwim\n",
    "\n",
    "from algorithms import *\n",
    "from model_functions import *\n",
    "\n",
    "import matplotlib.pyplot as plt\n",
    "import torch\n",
    "import torch.nn as nn\n",
    "from torch.nn import functional as F\n",
    "\n",
    "from CurriculumMPI import CurriculumMPI\n",
    "\n",
    "#np.set_printoptions(precision=4)\n",
    "import math\n",
    "from utils import *\n",
    "\n",
    "nS = 15\n",
    "nA = 2\n",
    "seed = get_current_seed()\n",
    "seed = 47146882006333120128184314011326542902\n",
    "gamma = .9\n",
    "mu = np.ones(nS) * 1/nS\n",
    "river = RiverSwim(nS, mu, small=5, large=1000, seed=seed)\n",
    "tau = .5\n",
    "xi = np.ones(nS) * 1/nS\n",
    "tmdp = TMDP(river, xi, tau=tau, gamma=gamma, seed=seed)\n",
    "mdp = TMDP(river, xi, tau=0., gamma=gamma, seed=seed)\n",
    "tmdp_1 = TMDP(river, xi, tau=.5, gamma=gamma, seed=seed)\n",
    "device = torch.device(\"cuda\" if torch.cuda.is_available() else \"cpu\")\n"
   ]
  },
  {
   "cell_type": "code",
   "execution_count": null,
   "metadata": {},
   "outputs": [],
   "source": [
    "model_lr = 0.026563586934043884\n",
    "pol_lr = 0.051995695341482906\n",
    "episodes = 1000000\n",
    "batch_size = 11\n",
    "temp = 25.73110109982855\n",
    "lam = 0.\n",
    "final_temp = 0.02"
   ]
  },
  {
   "cell_type": "code",
   "execution_count": null,
   "metadata": {},
   "outputs": [],
   "source": [
    "{'model_lr': 0.15869281717397965,\n",
    " 'pol_lr': 0.13385176875263757,\n",
    " 'batch_size': 2,\n",
    " 'lam': 0.7701417865047747,\n",
    " 'temp': 8.376693546196126}"
   ]
  },
  {
   "cell_type": "code",
   "execution_count": null,
   "metadata": {},
   "outputs": [],
   "source": [
    "curr_MPI = CurriculumMPI(tmdp, device=device)"
   ]
  },
  {
   "cell_type": "code",
   "execution_count": null,
   "metadata": {},
   "outputs": [],
   "source": [
    "curr_MPI.train(model_lr, pol_lr, batch_size=batch_size, \n",
    "                        lam=lam, temp=temp, final_temp=final_temp,\n",
    "                        episodes=1000000, check_convergence=False,\n",
    "                        param_decay=True)"
   ]
  },
  {
   "cell_type": "code",
   "execution_count": null,
   "metadata": {},
   "outputs": [],
   "source": [
    "res = bellman_optimal_q(mdp.env.P_mat, mdp.env.reward, mdp.gamma)\n",
    "Q = res[\"Q\"]\n",
    "V = compute_V_from_Q(Q, get_policy(Q))\n",
    "#print(Q)\n",
    "\n",
    "delta_pol = get_policy(Q)-get_policy(get_softmax_policy(curr_MPI.theta))\n",
    "print(delta_pol)\n",
    "\n",
    "r_s_a = compute_r_s_a(mdp.env.P_mat, mdp.env.reward)\n",
    "\n",
    "V_Q = compute_V_from_Q(Q, get_policy(curr_MPI.Q))\n",
    "\n",
    "V_curr = compute_V_from_Q(Q, get_softmax_policy(curr_MPI.theta))\n",
    "V_ref = compute_V_from_Q(Q, get_softmax_policy(curr_MPI.theta_ref))\n",
    "\n",
    "j_curr = compute_expected_j(V_curr, tmdp.env.mu)\n",
    "j_curr_ref = compute_expected_j(V_ref, tmdp.env.mu)\n",
    "j_q_curr = compute_expected_j(V_Q, tmdp.env.mu)\n",
    "j_opt = compute_expected_j(V, tmdp.env.mu)\n",
    "print(\"optimal performance: \",j_opt)\n",
    "print(\"curriculum performance: \", j_curr)\n",
    "print(\"reference curriculum performance: \",j_curr_ref)\n",
    "print(\"Q curriculum performance: \",j_q_curr)\n",
    "\n",
    "#print(get_softmax_policy(curr_MPI.theta))"
   ]
  },
  {
   "cell_type": "code",
   "execution_count": null,
   "metadata": {},
   "outputs": [],
   "source": [
    "print(curr_MPI.Qs[-1])"
   ]
  },
  {
   "cell_type": "code",
   "execution_count": null,
   "metadata": {},
   "outputs": [],
   "source": [
    "import matplotlib.pyplot as plt\n",
    "reward_records = curr_MPI.reward_records\n",
    "# Generate recent 50 interval average\n",
    "average_reward = []\n",
    "for idx in range(len(reward_records)):\n",
    "    avg_list = np.empty(shape=(1,), dtype=int)\n",
    "    if idx < 500:\n",
    "        avg_list = reward_records[:idx+1]\n",
    "    else:\n",
    "        avg_list = reward_records[idx-499:idx+1]\n",
    "    average_reward.append(np.average(avg_list))\n",
    "# Plot\n",
    "#plt.plot(reward_records)\n",
    "plt.plot(average_reward)"
   ]
  },
  {
   "cell_type": "markdown",
   "metadata": {},
   "source": []
  },
  {
   "cell_type": "code",
   "execution_count": null,
   "metadata": {},
   "outputs": [],
   "source": [
    "import matplotlib.pyplot as plt\n",
    "exp_performances = curr_MPI.exp_performances\n",
    "# Generate recent 50 interval average\n",
    "avg_performances = []\n",
    "for idx in range(len(exp_performances)):\n",
    "    avg_list = np.empty(shape=(1,), dtype=int)\n",
    "    if idx < 50:\n",
    "        avg_list = exp_performances[:idx+1]\n",
    "    else:\n",
    "        avg_list = exp_performances[idx-49:idx+1]\n",
    "    avg_performances.append(np.average(avg_list))\n",
    "# Plot\n",
    "plt.plot(exp_performances)\n",
    "plt.plot(avg_performances)"
   ]
  },
  {
   "cell_type": "code",
   "execution_count": null,
   "metadata": {},
   "outputs": [],
   "source": [
    "import matplotlib.pyplot as plt\n",
    "import numpy as np\n",
    "\n",
    "exp_performances = curr_MPI.exp_performances\n",
    "# Generate recent 50 interval average\n",
    "avg_performances = []\n",
    "std_errors = []\n",
    "\n",
    "for idx in range(len(exp_performances)):\n",
    "    if idx < 50:\n",
    "        avg_list = exp_performances[:idx+1]\n",
    "    else:\n",
    "        avg_list = exp_performances[idx-49:idx+1]\n",
    "\n",
    "    average = np.average(avg_list)\n",
    "    std_dev = np.std(avg_list)\n",
    "    n_samples = len(avg_list)\n",
    "    sem = std_dev / np.sqrt(n_samples)  # Standard Error of the Mean\n",
    "    std_errors.append(sem)\n",
    "\n",
    "    avg_performances.append(average)\n",
    "\n",
    "# Compute the upper and lower bounds for the 95% confidence interval\n",
    "ci = 1.96  # Z-score for 95% confidence\n",
    "upper_bound = [avg + ci * sem for avg, sem in zip(avg_performances, std_errors)]\n",
    "lower_bound = [avg - ci * sem for avg, sem in zip(avg_performances, std_errors)]\n",
    "\n",
    "# Plot\n",
    "plt.figure(figsize=(10, 5))\n",
    "#plt.plot(exp_performances, label='Exp Performances')\n",
    "plt.plot(avg_performances, label='Moving Average', color='r')\n",
    "plt.fill_between(range(len(avg_performances)), lower_bound, upper_bound, color='r', alpha=0.2, label='95% Confidence Interval')\n",
    "plt.legend()\n",
    "plt.title('Experiment Performances with Moving Average and Confidence Interval')\n",
    "plt.xlabel('Index')\n",
    "plt.ylabel('Performance')\n",
    "plt.show()\n"
   ]
  },
  {
   "cell_type": "code",
   "execution_count": null,
   "metadata": {},
   "outputs": [],
   "source": [
    "import matplotlib.pyplot as plt\n",
    "import numpy as np\n",
    "\n",
    "exp_performances = curr_MPI.exp_performances  # Replace with your actual data\n",
    "# Generate recent 50 interval average\n",
    "avg_performances = []\n",
    "min_values = []\n",
    "max_values = []\n",
    "\n",
    "for idx in range(len(exp_performances)):\n",
    "    if idx < 500:\n",
    "        window = exp_performances[:idx+1]\n",
    "    else:\n",
    "        window = exp_performances[idx-499:idx+1]\n",
    "\n",
    "    average = np.average(window)\n",
    "    min_val = np.min(window)\n",
    "    max_val = np.max(window)\n",
    "\n",
    "    avg_performances.append(average)\n",
    "    min_values.append(min_val)\n",
    "    max_values.append(max_val)\n",
    "\n",
    "# Plot\n",
    "plt.figure(figsize=(10, 5))\n",
    "#plt.plot(exp_performances, label='Exp Performances')\n",
    "plt.plot(avg_performances, label='Moving Average', color='r')\n",
    "plt.fill_between(range(len(avg_performances)), min_values, max_values, color='r', alpha=0.2, label='Min-Max Range')\n",
    "plt.legend()\n",
    "plt.title('Experiment Performances with Moving Average and Min-Max Range')\n",
    "plt.xlabel('Index')\n",
    "plt.ylabel('Performance')\n",
    "plt.show()\n",
    "\n"
   ]
  }
 ],
 "metadata": {
  "kernelspec": {
   "display_name": "Python 3",
   "language": "python",
   "name": "python3"
  },
  "language_info": {
   "codemirror_mode": {
    "name": "ipython",
    "version": 3
   },
   "file_extension": ".py",
   "mimetype": "text/x-python",
   "name": "python",
   "nbconvert_exporter": "python",
   "pygments_lexer": "ipython3",
   "version": "3.11.5"
  }
 },
 "nbformat": 4,
 "nbformat_minor": 2
}
