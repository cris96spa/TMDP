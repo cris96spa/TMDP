{
 "cells": [
  {
   "cell_type": "code",
   "execution_count": null,
   "metadata": {},
   "outputs": [],
   "source": [
    "import numpy as np\n",
    "import matplotlib.pyplot as plt\n",
    "import gymnasium as gym\n",
    "import math\n",
    "import mlflow\n",
    "import optuna\n",
    "import os\n",
    "\n",
    "from TMDP import TMDP\n",
    "from algorithms import *\n",
    "from model_functions import *\n",
    "from policy_utils import *\n",
    "from experiment_result_utils import *\n",
    "from constants import *\n",
    "\n",
    "from FrozenLake import *\n",
    "from CurriculumMPI import CurriculumMPI"
   ]
  },
  {
   "cell_type": "code",
   "execution_count": null,
   "metadata": {},
   "outputs": [],
   "source": [
    "#Frozen Lake Environment\n",
    "nrows = 10\n",
    "nS = nrows**2\n",
    "nA = 4\n",
    "gamma = 0.99\n",
    "tau = .6\n",
    "xi = np.ones(nS) * 1/nS\n",
    "is_slippery = False\n",
    "reward_shape = True\n",
    "num_bins = 10\n",
    "checkpoint_step=500\n",
    "test_episodes = 1000\n"
   ]
  },
  {
   "cell_type": "code",
   "execution_count": null,
   "metadata": {},
   "outputs": [],
   "source": []
  },
  {
   "cell_type": "code",
   "execution_count": null,
   "metadata": {},
   "outputs": [],
   "source": [
    "seed = constants.SEEDS[0]\n",
    "map_seed = seed\n",
    "set_policy_seed(seed)\n",
    "env = FrozenLakeEnv(is_slippery=False, seed=seed, \n",
    "                desc=generate_random_map(nrows, seed=map_seed), \n",
    "                reward_shape=False,\n",
    "                num_bins=num_bins,\n",
    "                )\n",
    "\n",
    "# Environment independent configuration\n",
    "tmdp = TMDP(env, xi, tau=tau, gamma=gamma, seed=seed)\n",
    "tmdp.update_tau(tau)"
   ]
  },
  {
   "cell_type": "code",
   "execution_count": null,
   "metadata": {},
   "outputs": [],
   "source": [
    "res = bellman_optimal_q(tmdp.env.P_mat, tmdp.env.reward, tmdp.gamma)\n",
    "Q = res[\"Q\"]\n",
    "V = compute_V_from_Q(Q, get_policy(Q))\n",
    "j_opt = compute_expected_j(V, tmdp.env.mu)\n",
    "print(\"optimal performance: \",j_opt)"
   ]
  },
  {
   "cell_type": "code",
   "execution_count": null,
   "metadata": {},
   "outputs": [],
   "source": [
    "episodes = 2900000\n",
    "\n",
    "model_lr = 0.25869281717397965\n",
    "pol_lr = 0.243385176875263757\n",
    "temp = 5\n",
    "\n",
    "final_temp=1e-5\n",
    "param_decay=True\n",
    "lam = 1\n",
    "batch_size = 5\n",
    "epochs = 1\n",
    "\n",
    "\n",
    "check_convergence=False\n",
    "param_decay=True\n",
    "biased=False"
   ]
  },
  {
   "cell_type": "code",
   "execution_count": null,
   "metadata": {},
   "outputs": [],
   "source": [
    "curr_MPI = CurriculumMPI(tmdp)\n",
    "curr_MPI.train(model_lr, pol_lr, batch_size=batch_size, \n",
    "                        lam=lam, temp=temp, final_temp=final_temp,\n",
    "                        episodes=episodes, check_convergence=check_convergence,\n",
    "                        param_decay=param_decay, biased=biased)   "
   ]
  },
  {
   "cell_type": "code",
   "execution_count": null,
   "metadata": {},
   "outputs": [],
   "source": [
    "#V_Q = compute_V_from_Q(Q, get_policy(curr_MPI.Q))\n",
    "V_curr = compute_V_from_Q(Q, get_softmax_policy(curr_MPI.theta, temperature=1e-5))\n",
    "\n",
    "j_curr = compute_expected_j(V_curr, tmdp.env.mu)\n",
    "j_opt = compute_expected_j(V, tmdp.env.mu)\n",
    "\n",
    "print(\"optimal performance: \",j_opt)\n",
    "print(\"curriculum performance: \", j_curr)\n"
   ]
  },
  {
   "cell_type": "code",
   "execution_count": null,
   "metadata": {},
   "outputs": [],
   "source": [
    "import matplotlib.pyplot as plt\n",
    "rewards = curr_MPI.reward_records\n",
    "# Generate recent 50 interval average\n",
    "avg_rewards = []\n",
    "for idx in range(len(rewards)):\n",
    "    avg_list = np.empty(shape=(1,), dtype=int)\n",
    "    if idx < 50:\n",
    "        avg_list = rewards[:idx+1]\n",
    "    else:\n",
    "        avg_list = rewards[idx-49:idx+1]\n",
    "    avg_rewards.append(np.average(avg_list)/batch_size)\n",
    "# Plot\n",
    "#plt.plot(rewards)\n",
    "plt.plot(avg_rewards)"
   ]
  },
  {
   "cell_type": "code",
   "execution_count": null,
   "metadata": {},
   "outputs": [],
   "source": [
    "pi = get_policy(get_softmax_policy(curr_MPI.theta, temperature=1e-4))\n",
    "#pi = get_policy(Q)"
   ]
  },
  {
   "cell_type": "code",
   "execution_count": null,
   "metadata": {},
   "outputs": [],
   "source": [
    "print(curr_MPI.theta[0])\n",
    "print(pi[0])"
   ]
  }
 ],
 "metadata": {
  "kernelspec": {
   "display_name": "Python 3",
   "language": "python",
   "name": "python3"
  },
  "language_info": {
   "codemirror_mode": {
    "name": "ipython",
    "version": 3
   },
   "file_extension": ".py",
   "mimetype": "text/x-python",
   "name": "python",
   "nbconvert_exporter": "python",
   "pygments_lexer": "ipython3",
   "version": "3.11.5"
  }
 },
 "nbformat": 4,
 "nbformat_minor": 2
}
