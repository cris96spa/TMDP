{
 "cells": [
  {
   "cell_type": "code",
   "execution_count": null,
   "metadata": {},
   "outputs": [],
   "source": [
    "import numpy as np\n",
    "from TMDP import TMDP\n",
    "from model_functions import *\n",
    "from policy_utils import *\n",
    "import matplotlib.pyplot as plt\n",
    "import gymnasium as gym\n",
    "from algorithms import *\n",
    "from FrozenLake import *\n",
    "import pandas as pd\n",
    "import constants\n",
    "#np.set_printoptions(precision=4)\n",
    "import math\n",
    "import torch\n",
    "import mlflow\n",
    "from CurriculumPMPO import CurriculumPMPO\n",
    "import optuna\n",
    "from RiverSwim import RiverSwim\n",
    "\n",
    "# Parameters\n",
    "nS = 200\n",
    "nA = 2\n",
    "gamma = .99\n",
    "mu = np.ones(nS) *1/(nS-2)\n",
    "mu[0] = mu[nS-1] = 0\n",
    "\n",
    "xi = np.ones(nS) * 1/(nS)\n",
    "seed = constants.SEEDS[0]\n",
    "set_policy_seed(seed)\n",
    "\n",
    "river = RiverSwim(nS, mu, small=5, large=1000, seed=seed)\n",
    "tau = .5\n",
    "tmdp = TMDP(river, xi, tau=tau, gamma=gamma, seed=seed)"
   ]
  },
  {
   "cell_type": "code",
   "execution_count": null,
   "metadata": {},
   "outputs": [],
   "source": [
    "res = bellman_optimal_q(tmdp.env.P_mat, tmdp.env.reward, tmdp.gamma)\n",
    "Q = res[\"Q\"]\n",
    "V = compute_V_from_Q(Q, get_policy(Q))\n",
    "j_opt = compute_expected_j(V, tmdp.env.mu)\n",
    "print(\"optimal performance: \",j_opt)"
   ]
  },
  {
   "cell_type": "code",
   "execution_count": null,
   "metadata": {},
   "outputs": [],
   "source": [
    "eps_model = compute_eps_model(gamma, tau, 50000)\n",
    "print(\"eps_model: {}\".format(eps_model))\n"
   ]
  },
  {
   "cell_type": "code",
   "execution_count": null,
   "metadata": {},
   "outputs": [],
   "source": [
    "episodes = 6000000\n",
    "\n",
    "model_lr = 0.2888499667800339\n",
    "pol_lr = 0.11386852281441003\n",
    "temp = 5.899275492134674\n",
    "\n",
    "final_temp=1e-4\n",
    "param_decay=True\n",
    "lam = 1\n",
    "batch_size = 32\n",
    "epochs = 1\n",
    "\n",
    "eps_ppo = 0.2\n",
    "eps_model = compute_eps_model(gamma, tau, episodes/10)"
   ]
  },
  {
   "cell_type": "code",
   "execution_count": null,
   "metadata": {},
   "outputs": [],
   "source": [
    "curr_PMPO = CurriculumPMPO(tmdp)\n",
    "tmdp.update_tau(tau) # Reset the teleport rate        "
   ]
  },
  {
   "cell_type": "code",
   "execution_count": null,
   "metadata": {},
   "outputs": [],
   "source": [
    "curr_PMPO.train(model_lr, pol_lr, batch_size=batch_size, \n",
    "                lam=lam, temp=temp, final_temp=final_temp,\n",
    "                episodes=episodes, eps_ppo=eps_ppo,\n",
    "                eps_model=eps_model,\n",
    "                param_decay=param_decay, epochs=epochs)"
   ]
  },
  {
   "cell_type": "code",
   "execution_count": null,
   "metadata": {},
   "outputs": [],
   "source": [
    "\n",
    "V_curr = compute_V_from_Q(Q, get_softmax_policy(curr_PMPO.theta, temperature=1))\n",
    "\n",
    "j_curr = compute_expected_j(V_curr, tmdp.env.mu)\n",
    "j_opt = compute_expected_j(V, tmdp.env.mu)\n",
    "\n",
    "print(\"optimal performance: \",j_opt)\n",
    "print(\"curriculum performance: \", j_curr)"
   ]
  },
  {
   "cell_type": "code",
   "execution_count": null,
   "metadata": {},
   "outputs": [],
   "source": [
    "pi = get_softmax_policy(curr_PMPO.theta, temperature=1e-4)\n",
    "print(pi)\n",
    "print(get_policy(Q))"
   ]
  },
  {
   "cell_type": "code",
   "execution_count": null,
   "metadata": {},
   "outputs": [],
   "source": [
    "import matplotlib.pyplot as plt\n",
    "reward_records = curr_PMPO.reward_records\n",
    "# Generate recent 50 interval average\n",
    "average_reward = []\n",
    "scaled_reward = []\n",
    "for idx in range(len(reward_records)):\n",
    "    avg_list = np.empty(shape=(1,), dtype=int)\n",
    "    scaled_reward.append(reward_records[idx]/batch_size)\n",
    "    if idx < 500:\n",
    "        avg_list = reward_records[:idx+1]\n",
    "    else:\n",
    "        avg_list = reward_records[idx-499:idx+1]\n",
    "    average_reward.append(np.average(avg_list)/batch_size)\n",
    "# Plot\n",
    "#plt.plot(scaled_reward)\n",
    "plt.plot(average_reward[:-1])"
   ]
  },
  {
   "cell_type": "code",
   "execution_count": null,
   "metadata": {},
   "outputs": [],
   "source": [
    "import matplotlib.pyplot as plt\n",
    "exp_performances = curr_PMPO.exp_performances\n",
    "# Generate recent 50 interval average\n",
    "avg_performances = []\n",
    "for idx in range(len(exp_performances)):\n",
    "    avg_list = np.empty(shape=(1,), dtype=int)\n",
    "    if idx < 500:\n",
    "        avg_list = exp_performances[:idx+1]\n",
    "    else:\n",
    "        avg_list = exp_performances[idx-499:idx+1]\n",
    "    avg_performances.append(np.average(avg_list))\n",
    "# Plot\n",
    "#plt.plot(exp_performances)\n",
    "plt.plot(avg_performances)\n",
    "plt.xlabel(\"episodes\")\n",
    "plt.ylabel(\"Expected Performance\")\n",
    "plt.title(\"Expected Performance\")\n",
    "plt.show()"
   ]
  },
  {
   "cell_type": "code",
   "execution_count": null,
   "metadata": {},
   "outputs": [],
   "source": [
    "import matplotlib.pyplot as plt\n",
    "import numpy as np\n",
    "\n",
    "exp_performances = curr_PMPO.exp_performances\n",
    "# Generate recent 50 interval average\n",
    "avg_performances = []\n",
    "std_errors = []\n",
    "\n",
    "for idx in range(len(exp_performances)):\n",
    "    if idx < 500:\n",
    "        avg_list = exp_performances[:idx+1]\n",
    "    else:\n",
    "        avg_list = exp_performances[idx-499:idx+1]\n",
    "\n",
    "    average = np.mean(avg_list)\n",
    "    std_dev = np.std(avg_list)\n",
    "    n_samples = len(avg_list)\n",
    "    sem = std_dev / np.sqrt(n_samples)  # Standard Error of the Mean\n",
    "    std_errors.append(sem)\n",
    "\n",
    "    avg_performances.append(average)\n",
    "\n",
    "# Compute the upper and lower bounds for the 95% confidence interval\n",
    "ci = 1.96  # Z-score for 95% confidence\n",
    "upper_bound = [avg + ci * sem for avg, sem in zip(avg_performances, std_errors)]\n",
    "lower_bound = [avg - ci * sem for avg, sem in zip(avg_performances, std_errors)]\n",
    "\n",
    "# Plot\n",
    "plt.figure(figsize=(10, 5))\n",
    "#plt.plot(exp_performances, label='Exp Performances')\n",
    "plt.plot(avg_performances, label='Moving Average', color='r')\n",
    "plt.fill_between(range(len(avg_performances)), lower_bound, upper_bound, color='r', alpha=0.2, label='95% Confidence Interval')\n",
    "plt.legend()\n",
    "plt.title('Experiment Performances with Moving Average and Confidence Interval')\n",
    "plt.xlabel('Index')\n",
    "plt.ylabel('Performance')\n",
    "plt.show()\n"
   ]
  }
 ],
 "metadata": {
  "kernelspec": {
   "display_name": "Python 3",
   "language": "python",
   "name": "python3"
  },
  "language_info": {
   "codemirror_mode": {
    "name": "ipython",
    "version": 3
   },
   "file_extension": ".py",
   "mimetype": "text/x-python",
   "name": "python",
   "nbconvert_exporter": "python",
   "pygments_lexer": "ipython3",
   "version": "3.11.5"
  }
 },
 "nbformat": 4,
 "nbformat_minor": 2
}
