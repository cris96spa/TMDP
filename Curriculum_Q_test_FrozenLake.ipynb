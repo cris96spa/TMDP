{
 "cells": [
  {
   "cell_type": "code",
   "execution_count": null,
   "metadata": {},
   "outputs": [],
   "source": [
    "import numpy as np\n",
    "import matplotlib.pyplot as plt\n",
    "import gymnasium as gym\n",
    "import math\n",
    "import mlflow\n",
    "from mlflow.tracking import MlflowClient\n",
    "import optuna\n",
    "import os\n",
    "\n",
    "from TMDP import TMDP\n",
    "from algorithms import *\n",
    "from model_functions import *\n",
    "from policy_utils import *\n",
    "from experiment_result_utils import *\n",
    "from constants import *\n",
    "\n",
    "from FrozenLake import *\n",
    "from CurriculumQ import CurriculumQ"
   ]
  },
  {
   "cell_type": "code",
   "execution_count": null,
   "metadata": {},
   "outputs": [],
   "source": [
    "is_slippery = False\n",
    "reward_shape = False\n",
    "num_bins = 3\n",
    "checkpoint_step=500\n",
    "test_episodes = 1000\n",
    "episodes = 7900000\n",
    "dense_reward = True\n",
    "shape_range=(-1,0)\n",
    "goal_reward=1.\n",
    "debug = True"
   ]
  },
  {
   "cell_type": "code",
   "execution_count": null,
   "metadata": {},
   "outputs": [],
   "source": [
    "#Frozen Lake Environment\n",
    "nrows = 20\n",
    "nS = nrows**2\n",
    "nA = 4\n",
    "gamma = 0.999999999\n",
    "tau = 0.\n",
    "xi = np.ones(nS) * 1/nS\n",
    "exp_rate = 0.4"
   ]
  },
  {
   "cell_type": "code",
   "execution_count": null,
   "metadata": {},
   "outputs": [],
   "source": [
    "\n",
    "model_lr = 0.15869281717397965\n",
    "\n",
    "param_decay=True\n",
    "lam = 1\n",
    "batch_size = 25\n",
    "\n",
    "eps_model = compute_eps_model(gamma, tau, episodes/10)\n",
    "\n",
    "experiment_results = []\n",
    "tests_returns = []"
   ]
  },
  {
   "cell_type": "code",
   "execution_count": null,
   "metadata": {},
   "outputs": [],
   "source": [
    "seed = map_seed = constants.SEEDS[0]\n",
    "set_policy_seed(seed)\n",
    "env = FrozenLakeEnv(is_slippery=False, seed=seed, \n",
    "                desc=generate_random_map(nrows, seed=map_seed), \n",
    "                reward_shape=True,\n",
    "                num_bins=num_bins,\n",
    "                dense_reward=dense_reward,\n",
    "                shape_range=shape_range,\n",
    "                goal_reward=goal_reward,\n",
    "                )\n",
    "\n",
    "# Environment independent configuration\n",
    "tmdp = TMDP(env, xi, tau=tau, gamma=gamma, seed=seed)\n",
    "tmdp.update_tau(tau)"
   ]
  },
  {
   "cell_type": "code",
   "execution_count": null,
   "metadata": {},
   "outputs": [],
   "source": [
    "curr_Q = CurriculumQ(tmdp)\n",
    "tmdp.update_tau(tau) # Reset the teleport rate        "
   ]
  },
  {
   "cell_type": "code",
   "execution_count": null,
   "metadata": {},
   "outputs": [],
   "source": [
    "print(curr_Q.Q)"
   ]
  },
  {
   "cell_type": "code",
   "execution_count": null,
   "metadata": {},
   "outputs": [],
   "source": [
    "curr_Q.train(model_lr, batch_size=batch_size, \n",
    "                lam=lam, exp_rate=0.3,\n",
    "                episodes=episodes,\n",
    "                eps_model=eps_model,\n",
    "                param_decay=param_decay)"
   ]
  },
  {
   "cell_type": "code",
   "execution_count": null,
   "metadata": {},
   "outputs": [],
   "source": [
    "print(curr_Q.Q)"
   ]
  },
  {
   "cell_type": "code",
   "execution_count": null,
   "metadata": {},
   "outputs": [],
   "source": [
    "\"\"\"\n",
    "delta_pol = get_policy(Q)-get_policy(curr_Q.Q)\n",
    "print(delta_pol)\n",
    "\n",
    "r_s_a = compute_r_s_a(tmdp.env.P_mat, tmdp.env.reward)\n",
    "\n",
    "V_Q = compute_V_from_Q(Q, get_policy(curr_Q.Q))\n",
    "\n",
    "j_q_curr = compute_expected_j(V_Q, tmdp.env.mu)\n",
    "j_opt = compute_expected_j(V, tmdp.env.mu)\n",
    "print(\"optimal performance: \",j_opt)\n",
    "print(\"Q curriculum performance: \",j_q_curr)\n",
    "\"\"\""
   ]
  },
  {
   "cell_type": "code",
   "execution_count": null,
   "metadata": {},
   "outputs": [],
   "source": [
    "pi = get_policy(curr_Q.Q)"
   ]
  },
  {
   "cell_type": "code",
   "execution_count": null,
   "metadata": {},
   "outputs": [],
   "source": [
    "\n",
    "tmdp.update_tau(0.)\n",
    "tmdp.reset()\n",
    "done = False\n",
    "step = 0\n",
    "env.render_mode = \"human\"\n",
    "while True:\n",
    "    s = tmdp.env.s\n",
    "    a = greedy(tmdp.env.s, pi, tmdp.env.allowed_actions[int(0)])\n",
    "    s_prime, reward, flags, prob = tmdp.step(a)\n",
    "    print(\"state {} action {} next state {} reward {}\".format(s, a, s_prime, reward))\n",
    "    if flags[\"done\"]:\n",
    "        tmdp.reset()\n",
    "        break\n",
    "    step +=1\n",
    "    if step > max(100,int(nrows*2.5)):\n",
    "        break\n"
   ]
  },
  {
   "cell_type": "code",
   "execution_count": null,
   "metadata": {},
   "outputs": [],
   "source": [
    "print(curr_Q.Q)"
   ]
  },
  {
   "cell_type": "code",
   "execution_count": null,
   "metadata": {},
   "outputs": [],
   "source": [
    "a = np.array([1, 2])\n",
    "b = np.array([4, 1])\n",
    "np.matmul(a, b)"
   ]
  }
 ],
 "metadata": {
  "kernelspec": {
   "display_name": "Python 3",
   "language": "python",
   "name": "python3"
  },
  "language_info": {
   "codemirror_mode": {
    "name": "ipython",
    "version": 3
   },
   "file_extension": ".py",
   "mimetype": "text/x-python",
   "name": "python",
   "nbconvert_exporter": "python",
   "pygments_lexer": "ipython3",
   "version": "3.11.5"
  }
 },
 "nbformat": 4,
 "nbformat_minor": 2
}
