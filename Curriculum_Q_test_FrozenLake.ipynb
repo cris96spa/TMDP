{
 "cells": [
  {
   "cell_type": "code",
   "execution_count": null,
   "metadata": {},
   "outputs": [],
   "source": [
    "import numpy as np\n",
    "from TMDP import TMDP\n",
    "from algorithms import *\n",
    "from model_functions import *\n",
    "from algorithms import *\n",
    "import matplotlib.pyplot as plt\n",
    "import gymnasium as gym\n",
    "from FrozenLake import *\n",
    "\n",
    "#np.set_printoptions(precision=4)\n",
    "import math\n",
    "from utils import *\n",
    "\n",
    "import torch\n",
    "import mlflow\n",
    "from CurriculumQ import CurriculumQ\n",
    "import optuna\n",
    "\n",
    "nrows = 80\n",
    "nS = nrows**2\n",
    "nA = 4\n",
    "seed = get_current_seed()\n",
    "\n",
    "gamma = .99\n",
    "tau = .6\n",
    "#tmdp = TMDP(river, xi, tau=tau, gamma=gamma, seed=seed)\n",
    "#mdp = TMDP(river, xi, tau=0., gamma=gamma, seed=seed)\n",
    "\n",
    "env = FrozenLakeEnv(is_slippery=False, seed=seed, \n",
    "                    desc=generate_random_map(nrows, seed=seed), \n",
    "                    reward_shape=True)#, render_mode=\"human\")\n",
    "xi = np.ones(env.nS) * 1/env.nS\n",
    "tmdp = TMDP(env, xi, tau=tau, gamma=gamma, seed=seed)"
   ]
  },
  {
   "cell_type": "code",
   "execution_count": null,
   "metadata": {},
   "outputs": [],
   "source": [
    "#res = bellman_optimal_q(tmdp.env.P_mat, tmdp.env.reward, tmdp.gamma)\n",
    "#Q = res[\"Q\"]\n",
    "#V = compute_V_from_Q(Q, get_policy(Q))\n",
    "#j_opt = compute_expected_j(V, tmdp.env.mu)\n",
    "#print(\"optimal performance: \",j_opt)"
   ]
  },
  {
   "cell_type": "code",
   "execution_count": null,
   "metadata": {},
   "outputs": [],
   "source": [
    "episodes = 2900000\n",
    "\n",
    "model_lr = 0.15869281717397965\n",
    "\n",
    "param_decay=True\n",
    "lam = 1\n",
    "batch_size = 32\n",
    "\n",
    "eps_model = compute_eps_model(gamma, tau, episodes/10)"
   ]
  },
  {
   "cell_type": "code",
   "execution_count": null,
   "metadata": {},
   "outputs": [],
   "source": [
    "curr_Q = CurriculumQ(tmdp)\n",
    "tmdp.update_tau(tau) # Reset the teleport rate        "
   ]
  },
  {
   "cell_type": "code",
   "execution_count": null,
   "metadata": {},
   "outputs": [],
   "source": [
    "print(curr_Q.Q)"
   ]
  },
  {
   "cell_type": "code",
   "execution_count": null,
   "metadata": {},
   "outputs": [],
   "source": [
    "curr_Q.train(model_lr, batch_size=batch_size, \n",
    "                lam=lam, exp_rate=0.3,\n",
    "                episodes=episodes,\n",
    "                eps_model=eps_model,\n",
    "                param_decay=param_decay)"
   ]
  },
  {
   "cell_type": "code",
   "execution_count": null,
   "metadata": {},
   "outputs": [],
   "source": [
    "print(curr_Q.Q)"
   ]
  },
  {
   "cell_type": "code",
   "execution_count": null,
   "metadata": {},
   "outputs": [],
   "source": [
    "\"\"\"\n",
    "delta_pol = get_policy(Q)-get_policy(curr_Q.Q)\n",
    "print(delta_pol)\n",
    "\n",
    "r_s_a = compute_r_s_a(tmdp.env.P_mat, tmdp.env.reward)\n",
    "\n",
    "V_Q = compute_V_from_Q(Q, get_policy(curr_Q.Q))\n",
    "\n",
    "j_q_curr = compute_expected_j(V_Q, tmdp.env.mu)\n",
    "j_opt = compute_expected_j(V, tmdp.env.mu)\n",
    "print(\"optimal performance: \",j_opt)\n",
    "print(\"Q curriculum performance: \",j_q_curr)\n",
    "\"\"\""
   ]
  },
  {
   "cell_type": "code",
   "execution_count": null,
   "metadata": {},
   "outputs": [],
   "source": [
    "import matplotlib.pyplot as plt\n",
    "exp_performances = curr_Q.exp_performances\n",
    "# Generate recent 50 interval average\n",
    "avg_performances = []\n",
    "for idx in range(len(exp_performances)):\n",
    "    avg_list = np.empty(shape=(1,), dtype=int)\n",
    "    if idx < 50:\n",
    "        avg_list = exp_performances[:idx+1]\n",
    "    else:\n",
    "        avg_list = exp_performances[idx-49:idx+1]\n",
    "    avg_performances.append(np.average(avg_list))\n",
    "# Plot\n",
    "plt.plot(exp_performances)\n",
    "#plt.plot(avg_performances)"
   ]
  },
  {
   "cell_type": "code",
   "execution_count": null,
   "metadata": {},
   "outputs": [],
   "source": [
    "import matplotlib.pyplot as plt\n",
    "import numpy as np\n",
    "\n",
    "exp_performances = curr_Q.exp_performances\n",
    "# Generate recent 50 interval average\n",
    "avg_performances = []\n",
    "std_errors = []\n",
    "\n",
    "for idx in range(len(exp_performances)):\n",
    "    if idx < 500:\n",
    "        avg_list = exp_performances[:idx+1]\n",
    "    else:\n",
    "        avg_list = exp_performances[idx-499:idx+1]\n",
    "\n",
    "    average = np.mean(avg_list)\n",
    "    std_dev = np.std(avg_list)\n",
    "    n_samples = len(avg_list)\n",
    "    sem = std_dev / np.sqrt(n_samples)  # Standard Error of the Mean\n",
    "    std_errors.append(sem)\n",
    "\n",
    "    avg_performances.append(average)\n",
    "\n",
    "# Compute the upper and lower bounds for the 95% confidence interval\n",
    "ci = 1.96  # Z-score for 95% confidence\n",
    "upper_bound = [avg + ci * sem for avg, sem in zip(avg_performances, std_errors)]\n",
    "lower_bound = [avg - ci * sem for avg, sem in zip(avg_performances, std_errors)]\n",
    "\n",
    "# Plot\n",
    "plt.figure(figsize=(10, 5))\n",
    "#plt.plot(exp_performances, label='Exp Performances')\n",
    "plt.plot(avg_performances, label='Moving Average', color='r')\n",
    "plt.fill_between(range(len(avg_performances)), lower_bound, upper_bound, color='r', alpha=0.2, label='95% Confidence Interval')\n",
    "plt.legend()\n",
    "plt.title('Experiment Performances with Moving Average and Confidence Interval')\n",
    "plt.xlabel('Index')\n",
    "plt.ylabel('Performance')\n",
    "plt.show()\n"
   ]
  },
  {
   "cell_type": "code",
   "execution_count": null,
   "metadata": {},
   "outputs": [],
   "source": [
    "pi = get_policy(curr_Q.Q)"
   ]
  },
  {
   "cell_type": "code",
   "execution_count": null,
   "metadata": {},
   "outputs": [],
   "source": [
    "\n",
    "tmdp.update_tau(0.)\n",
    "tmdp.reset()\n",
    "done = False\n",
    "step = 0\n",
    "env.render_mode = \"human\"\n",
    "while True:\n",
    "    s = tmdp.env.s\n",
    "    a = greedy(tmdp.env.s, pi, tmdp.env.allowed_actions[int(0)])\n",
    "    s_prime, reward, flags, prob = tmdp.step(a)\n",
    "    print(\"state {} action {} next state {} reward {}\".format(s, a, s_prime, reward))\n",
    "    if flags[\"done\"]:\n",
    "        tmdp.reset()\n",
    "        break\n",
    "    step +=1\n",
    "    if step > max(100,int(nrows*2.5)):\n",
    "        break\n"
   ]
  },
  {
   "cell_type": "code",
   "execution_count": null,
   "metadata": {},
   "outputs": [],
   "source": [
    "print(curr_Q.Q)"
   ]
  },
  {
   "cell_type": "code",
   "execution_count": null,
   "metadata": {},
   "outputs": [],
   "source": [
    "a = np.array([1, 2])\n",
    "b = np.array([4, 1])\n",
    "np.matmul(a, b)"
   ]
  }
 ],
 "metadata": {
  "kernelspec": {
   "display_name": "Python 3",
   "language": "python",
   "name": "python3"
  },
  "language_info": {
   "codemirror_mode": {
    "name": "ipython",
    "version": 3
   },
   "file_extension": ".py",
   "mimetype": "text/x-python",
   "name": "python",
   "nbconvert_exporter": "python",
   "pygments_lexer": "ipython3",
   "version": "3.11.5"
  }
 },
 "nbformat": 4,
 "nbformat_minor": 2
}
