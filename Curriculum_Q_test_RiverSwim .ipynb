{
 "cells": [
  {
   "cell_type": "code",
   "execution_count": null,
   "metadata": {},
   "outputs": [],
   "source": [
    "import numpy as np\n",
    "from TMDP import TMDP\n",
    "from algorithms import *\n",
    "from policy_utils import *\n",
    "from model_functions import *\n",
    "\n",
    "import matplotlib.pyplot as plt\n",
    "import gymnasium as gym\n",
    "from FrozenLake import *\n",
    "from RiverSwim import RiverSwim\n",
    "#np.set_printoptions(precision=4)\n",
    "import math\n",
    "from utils import *\n",
    "\n",
    "import torch\n",
    "import mlflow\n",
    "from CurriculumQ import CurriculumQ\n",
    "import optuna\n",
    "\n",
    "# Parameters\n",
    "nS = 100\n",
    "nA = 2\n",
    "gamma = .99\n",
    "mu = np.ones(nS) * 1/nS\n",
    "xi = np.ones(nS) * 1/nS\n",
    "\n",
    "seed = get_current_seed()\n",
    "\n",
    "river = RiverSwim(nS, mu, small=5, large=1000, seed=seed)\n",
    "tau = .5\n",
    "tmdp = TMDP(river, xi, tau=tau, gamma=gamma, seed=seed)"
   ]
  },
  {
   "cell_type": "code",
   "execution_count": null,
   "metadata": {},
   "outputs": [],
   "source": [
    "print(seed)"
   ]
  },
  {
   "cell_type": "code",
   "execution_count": null,
   "metadata": {},
   "outputs": [],
   "source": [
    "import numpy as np\n",
    "import random\n",
    "import matplotlib.pyplot as plt\n",
    "\n",
    "def compute_n(gamma, tau, eps_model):\n",
    "    return np.ceil(2 * gamma * tau / ((1 - gamma) * eps_model))\n",
    "\n",
    "def compute_eps_model(gamma, tau, n):\n",
    "    return 2 * gamma * tau / (n * (1 - gamma))\n",
    "\n",
    "def compute_tau_prime(tau, gamma, eps_model):\n",
    "    tau_prime = tau - eps_model * (1 - gamma) / (2 * gamma)\n",
    "    tau_prime = max(0, tau_prime)\n",
    "    return tau_prime\n",
    "\n",
    "def dynamic_update(gamma, initial_tau, max_episodes, trajectory_lengths):\n",
    "    tau = initial_tau\n",
    "    tau_values = [tau]\n",
    "    eps_values = []\n",
    "    curr_episode = 0\n",
    "    \n",
    "    while curr_episode < max_episodes and tau > 0:\n",
    "        remaining_episodes = max_episodes - curr_episode\n",
    "        n = compute_n(gamma, tau, eps_model=1e-10)  # Use a small eps_model to determine n\n",
    "        eps_model = compute_eps_model(gamma, tau, max(1,min(n, remaining_episodes)))  # Adjust n to remaining episodes\n",
    "        tau_prime = compute_tau_prime(tau, gamma, eps_model)\n",
    "        tau = tau_prime*0.9999\n",
    "        tau_values.append(tau)\n",
    "        eps_values.append(eps_model)\n",
    "        \n",
    "        # Process a trajectory of varying length\n",
    "        trajectory_length = trajectory_lengths[curr_episode % len(trajectory_lengths)]\n",
    "        curr_episode += trajectory_length  # Increment current episode by the length of the trajectory\n",
    "\n",
    "\n",
    "    return tau_values, eps_values\n",
    "\n",
    "# Generate random trajectory lengths\n",
    "def generate_random_int_list(size, low, high):\n",
    "    return [random.randint(low, high) for _ in range(size)]\n",
    "\n",
    "# Example usage\n",
    "gamma = 0.9\n",
    "initial_tau = .20\n",
    "max_episodes = 1000000\n",
    "trajectory_lengths = generate_random_int_list(max_episodes, 1, 10)  # Random lengths between 1 and 10\n",
    "\n",
    "tau_values, eps_values = dynamic_update(gamma, initial_tau, max_episodes, trajectory_lengths)\n",
    "\n",
    "plt.figure(figsize=(10, 5))\n",
    "plt.subplot(1, 2, 1)\n",
    "plt.plot(tau_values, label='tau')\n",
    "plt.xlabel('Episode')\n",
    "plt.ylabel('tau')\n",
    "plt.title('Tau Convergence')\n",
    "plt.legend()\n",
    "\n",
    "plt.subplot(1, 2, 2)\n",
    "plt.plot(eps_values, label='eps_model')\n",
    "plt.xlabel('Episode')\n",
    "plt.ylabel('eps_model')\n",
    "plt.title('Eps Model Convergence')\n",
    "plt.legend()\n",
    "\n",
    "plt.tight_layout()\n",
    "plt.show()\n",
    "print(tau_values[-1], eps_values[-1])\n"
   ]
  },
  {
   "cell_type": "code",
   "execution_count": null,
   "metadata": {},
   "outputs": [],
   "source": [
    "print(tau_values[-1])"
   ]
  },
  {
   "cell_type": "code",
   "execution_count": null,
   "metadata": {},
   "outputs": [],
   "source": [
    "tau_prime = compute_tau_prime(0.3010648917309438 , gamma, 0.9031946751928317)\n",
    "print(tau_prime)"
   ]
  },
  {
   "cell_type": "code",
   "execution_count": null,
   "metadata": {},
   "outputs": [],
   "source": [
    "import numpy as np\n",
    "import pandas as pd\n",
    "import matplotlib.pyplot as plt\n",
    "\n",
    "def reward_shaping(n, num_bins, reward_range=(-1, 1)):\n",
    "    # Initialize the grid with zeros\n",
    "    rewards = np.zeros((n, n))\n",
    "    # Coordinates of the goal\n",
    "    goal = (n-1, n-1)\n",
    "    \n",
    "    # Calculate maximum distance in the grid (Manhattan distance)\n",
    "    max_distance = (goal[0] - 0) + (goal[1] - 0)\n",
    "    \n",
    "    # Calculate distances for each cell from the goal (Manhattan distance)\n",
    "    distances = np.zeros((n, n))\n",
    "    for i in range(n):\n",
    "        for j in range(n):\n",
    "            distances[i, j] = abs(goal[0] - i) + abs(goal[1] - j)\n",
    "            #distances[i,j] = np.sqrt((goal[0] - i)**2 + (goal[1] - j)**2)\n",
    "    \n",
    "    # Determine bin edges\n",
    "    bin_edges = np.linspace(0, max_distance, num_bins + 1)\n",
    "\n",
    "    # Flip the bin, the lower the distance, the higher the reward\n",
    "    bin_edges = np.flip(bin_edges)\n",
    "    \n",
    "    # Calculate rewards for each bin using linear interpolation\n",
    "    bin_rewards = np.linspace(reward_range[0], reward_range[1], num_bins+1)\n",
    "    \n",
    "\n",
    "    # Assign rewards based on bins\n",
    "    for i in range(n):\n",
    "        for j in range(n):\n",
    "            distance = distances[i, j]\n",
    "            bin_index = np.digitize(distance, bin_edges, right=False)-1   # -1 because np.digitize starts from 1\n",
    "            bin_index = max(0, bin_index)  # Ensure bin_index is within range [0, num_bins-1]\n",
    "            rewards[i, j] = bin_rewards[bin_index]\n",
    "    \n",
    "    # Set reward for the goal cell\n",
    "    rewards[goal[0], goal[1]] = reward_range[1]\n",
    "    \n",
    "    return rewards\n",
    "\n",
    "\n",
    "n = 30 \n",
    "num_bins = 4 \n",
    "reward_range = (-1, 1) \n",
    "rewards = reward_shaping(n, num_bins, reward_range)\n",
    "\n",
    "\n",
    "reward_df = pd.DataFrame(rewards)\n",
    "print(reward_df)\n",
    "\n",
    "plt.imshow(rewards, cmap='coolwarm', interpolation='none')\n",
    "plt.colorbar(label='Reward')\n",
    "plt.title('Reward Grid')\n",
    "plt.show()\n"
   ]
  },
  {
   "cell_type": "code",
   "execution_count": null,
   "metadata": {},
   "outputs": [],
   "source": [
    "print(np.min(rewards))"
   ]
  },
  {
   "cell_type": "code",
   "execution_count": null,
   "metadata": {},
   "outputs": [],
   "source": [
    "res = bellman_optimal_q(tmdp.env.P_mat, tmdp.env.reward, tmdp.gamma)\n",
    "Q = res[\"Q\"]\n",
    "V = compute_V_from_Q(Q, get_policy(Q))\n",
    "j_opt = compute_expected_j(V, tmdp.env.mu)\n",
    "print(\"optimal performance: \",j_opt)"
   ]
  },
  {
   "cell_type": "code",
   "execution_count": null,
   "metadata": {},
   "outputs": [],
   "source": [
    "eps_model = compute_eps_model(gamma, tau, 50000)\n",
    "print(\"eps_model: {}\".format(eps_model))"
   ]
  },
  {
   "cell_type": "code",
   "execution_count": null,
   "metadata": {},
   "outputs": [],
   "source": []
  },
  {
   "cell_type": "code",
   "execution_count": null,
   "metadata": {},
   "outputs": [],
   "source": [
    "episodes = 5000000\n",
    "lam = 1\n",
    "batch_size = 1\n",
    "param_decay=True\n",
    "eps_model = compute_eps_model(gamma, tau, 500000)\n",
    "model_lr = 0.10869281717397965\n",
    "tuning_rate = 0.75"
   ]
  },
  {
   "cell_type": "code",
   "execution_count": null,
   "metadata": {},
   "outputs": [],
   "source": [
    "print(eps_model)"
   ]
  },
  {
   "cell_type": "code",
   "execution_count": null,
   "metadata": {},
   "outputs": [],
   "source": [
    "curr_Q = CurriculumQ(tmdp)\n",
    "tmdp.update_tau(tau) # Reset the teleport rate        "
   ]
  },
  {
   "cell_type": "code",
   "execution_count": null,
   "metadata": {},
   "outputs": [],
   "source": [
    "n_updates = compute_n(gamma, tau, eps_model)   \n",
    "print(\"n_updates: {}\".format(n_updates))"
   ]
  },
  {
   "cell_type": "code",
   "execution_count": null,
   "metadata": {},
   "outputs": [],
   "source": [
    "update_rate = int(episodes/n_updates)\n",
    "print(\"update_rate: {}\".format(update_rate))"
   ]
  },
  {
   "cell_type": "code",
   "execution_count": null,
   "metadata": {},
   "outputs": [],
   "source": [
    "curr_Q.train(model_lr, batch_size=batch_size, \n",
    "                lam=lam, exp_rate=0.5,\n",
    "                episodes=episodes,\n",
    "                eps_model=eps_model,\n",
    "                param_decay=param_decay)"
   ]
  },
  {
   "cell_type": "code",
   "execution_count": null,
   "metadata": {},
   "outputs": [],
   "source": [
    "\n",
    "delta_pol = get_policy(Q)-get_policy(curr_Q.Q)\n",
    "print(delta_pol)\n",
    "\n",
    "r_s_a = compute_r_s_a(tmdp.env.P_mat, tmdp.env.reward)\n",
    "\n",
    "V_Q = compute_V_from_Q(Q, get_policy(curr_Q.Q))\n",
    "\n",
    "j_q_curr = compute_expected_j(V_Q, tmdp.env.mu)\n",
    "j_opt = compute_expected_j(V, tmdp.env.mu)\n",
    "print(\"optimal performance: \",j_opt)\n",
    "print(\"Q curriculum performance: \",j_q_curr)\n"
   ]
  },
  {
   "cell_type": "code",
   "execution_count": null,
   "metadata": {},
   "outputs": [],
   "source": [
    "import matplotlib.pyplot as plt\n",
    "reward_records = curr_Q.reward_records[75:]\n",
    "# Generate recent 50 interval average\n",
    "average_reward = []\n",
    "scaled_reward = []\n",
    "for idx in range(len(reward_records)):\n",
    "    avg_list = np.empty(shape=(1,), dtype=int)\n",
    "    scaled_reward.append(reward_records[idx]/batch_size)\n",
    "    if idx < 500:\n",
    "        avg_list = reward_records[:idx+1]\n",
    "    else:\n",
    "        avg_list = reward_records[idx-499:idx+1]\n",
    "    average_reward.append(np.average(avg_list)/batch_size)\n",
    "# Plot\n",
    "#plt.plot(scaled_reward)\n",
    "plt.plot(average_reward[:-1])"
   ]
  },
  {
   "cell_type": "markdown",
   "metadata": {},
   "source": []
  }
 ],
 "metadata": {
  "kernelspec": {
   "display_name": "Python 3",
   "language": "python",
   "name": "python3"
  },
  "language_info": {
   "codemirror_mode": {
    "name": "ipython",
    "version": 3
   },
   "file_extension": ".py",
   "mimetype": "text/x-python",
   "name": "python",
   "nbconvert_exporter": "python",
   "pygments_lexer": "ipython3",
   "version": "3.11.5"
  }
 },
 "nbformat": 4,
 "nbformat_minor": 2
}
