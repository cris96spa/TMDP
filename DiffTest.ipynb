{
 "cells": [
  {
   "cell_type": "code",
   "execution_count": 1,
   "metadata": {},
   "outputs": [
    {
     "name": "stdout",
     "output_type": "stream",
     "text": [
      "Current seed for result reproducibility: 78700542058381360565023510925848458289\n"
     ]
    }
   ],
   "source": [
    "import numpy as np\n",
    "from TMDP import TMDP\n",
    "from River_swim import River\n",
    "\n",
    "from algorithms import *\n",
    "from model_functions import *\n",
    "\n",
    "import matplotlib.pyplot as plt\n",
    "import sympy as sp\n",
    "\n",
    "#np.set_printoptions(precision=4)\n",
    "import math\n",
    "from utils import *\n",
    "\n"
   ]
  },
  {
   "cell_type": "code",
   "execution_count": 2,
   "metadata": {},
   "outputs": [],
   "source": [
    "# Definition of the teleport bound equation\n",
    "alpha, policy_adv, tau_prime, tau, model_adv, gamma, d_inf_model, d_inf_policy, d_exp_model, d_exp_policy, delta_U = sp.symbols('alpha policy_adv tau_prime tau model_adv gamma d_inf_model d_inf_policy d_exp_model d_exp_policy delta_U')\n",
    "teleport_bound = (alpha * policy_adv + (tau- tau_prime) * model_adv)/(1-gamma) - (gamma*(tau+tau_prime)*d_exp_model)/(1-gamma) - gamma*delta_U/(2*(1-gamma)**2) * (alpha**2*d_exp_policy*d_inf_policy \n",
    "                                                      + alpha*(tau-tau_prime)*d_exp_policy*d_inf_model \n",
    "                                                      + alpha*(tau-tau_prime)*d_exp_model*d_inf_policy \n",
    "                                                      + gamma*(tau-tau_prime)**2*d_exp_model*d_inf_model\n",
    "                                                      )\n",
    "# First order derivatives\n",
    "b_par_alpha = sp.diff(teleport_bound, alpha)\n",
    "b_par_tau_prime = sp.diff(teleport_bound, tau_prime)\n",
    "\n",
    "# Second order derivatives\n",
    "b_par_alpha_2 = sp.diff(b_par_alpha, alpha)\n",
    "b_par_alpha_tau_prime = sp.diff(b_par_alpha, tau_prime)\n",
    "b_par_tau_prime_alpha = sp.diff(b_par_tau_prime, alpha)\n",
    "b_par_tau_prime_2 = sp.diff(b_par_tau_prime, tau_prime)\n",
    "\n"
   ]
  },
  {
   "cell_type": "code",
   "execution_count": 3,
   "metadata": {},
   "outputs": [
    {
     "name": "stdout",
     "output_type": "stream",
     "text": [
      "-policy_adv*(gamma - 1)/(d_exp_policy*d_inf_policy*delta_U*gamma)\n",
      "-(d_exp_model*d_inf_policy*delta_U*gamma*tau + d_exp_policy*d_inf_model*delta_U*gamma*tau + 2*gamma*policy_adv - 2*policy_adv)/(2*d_exp_policy*d_inf_policy*delta_U*gamma)\n",
      "(d_exp_model*d_inf_model*delta_U*gamma**2*tau + d_exp_model*gamma**2 - d_exp_model*gamma + gamma*model_adv - model_adv)/(d_exp_model*d_inf_model*delta_U*gamma**2)\n",
      "(2*d_exp_model*d_inf_model*delta_U*gamma**2*tau + d_exp_model*d_inf_policy*delta_U*gamma + 2*d_exp_model*gamma**2 - 2*d_exp_model*gamma + d_exp_policy*d_inf_model*delta_U*gamma + 2*gamma*model_adv - 2*model_adv)/(2*d_exp_model*d_inf_model*delta_U*gamma**2)\n"
     ]
    }
   ],
   "source": [
    "# Solution of first order derivatives\n",
    "alpha_tau = sp.solve(b_par_alpha.subs(tau_prime, tau), alpha) # tau_prime = tau\n",
    "print(sp.factor(sp.simplify(alpha_tau[0])))\n",
    "alpha_0 = sp.solve(b_par_alpha.subs(tau_prime, 0), alpha) # tau_prime = 0\n",
    "print(sp.factor(sp.simplify(alpha_0[0])))\n",
    "\n",
    "tau_prime_0 = sp.solve(b_par_tau_prime.subs(alpha, 0), tau_prime) # alpha = 0\n",
    "print(sp.factor(sp.simplify(tau_prime_0[0])))\n",
    "tau_prime_1 = sp.solve(b_par_tau_prime.subs(alpha, 1), tau_prime) # alpha = 1\n",
    "print(sp.factor(sp.simplify(tau_prime_1[0])))"
   ]
  },
  {
   "cell_type": "code",
   "execution_count": 4,
   "metadata": {},
   "outputs": [
    {
     "name": "stdout",
     "output_type": "stream",
     "text": [
      "-2*d_exp_model*gamma*tau/(1 - gamma) + policy_adv**2/(2*d_exp_policy*d_inf_policy*delta_U*gamma)\n",
      "(d_exp_model**2*d_inf_policy**2*delta_U**2*gamma**2*tau**2 - 4*d_exp_model*d_exp_policy*d_inf_model*d_inf_policy*delta_U**2*gamma**3*tau**2 + 2*d_exp_model*d_exp_policy*d_inf_model*d_inf_policy*delta_U**2*gamma**2*tau**2 + 8*d_exp_model*d_exp_policy*d_inf_policy*delta_U*gamma**3*tau - 8*d_exp_model*d_exp_policy*d_inf_policy*delta_U*gamma**2*tau + 4*d_exp_model*d_inf_policy*delta_U*gamma**2*policy_adv*tau - 4*d_exp_model*d_inf_policy*delta_U*gamma*policy_adv*tau + d_exp_policy**2*d_inf_model**2*delta_U**2*gamma**2*tau**2 + 4*d_exp_policy*d_inf_model*delta_U*gamma**2*policy_adv*tau - 4*d_exp_policy*d_inf_model*delta_U*gamma*policy_adv*tau - 8*d_exp_policy*d_inf_policy*delta_U*gamma**2*model_adv*tau + 8*d_exp_policy*d_inf_policy*delta_U*gamma*model_adv*tau + 4*gamma**2*policy_adv**2 - 8*gamma*policy_adv**2 + 4*policy_adv**2)/(8*d_exp_policy*d_inf_policy*delta_U*gamma*(gamma - 1)**2)\n",
      "\n",
      "\n",
      "-d_exp_model*d_inf_model*delta_U*gamma**2*(tau - (d_exp_model*d_inf_model*delta_U*gamma**2*tau + d_exp_model*gamma**2 - d_exp_model*gamma + gamma*model_adv - model_adv)/(d_exp_model*d_inf_model*delta_U*gamma**2))**2/(2*(1 - gamma)**2) - d_exp_model*gamma*(tau + (d_exp_model*d_inf_model*delta_U*gamma**2*tau + d_exp_model*gamma**2 - d_exp_model*gamma + gamma*model_adv - model_adv)/(d_exp_model*d_inf_model*delta_U*gamma**2))/(1 - gamma) + model_adv*(tau - (d_exp_model*d_inf_model*delta_U*gamma**2*tau + d_exp_model*gamma**2 - d_exp_model*gamma + gamma*model_adv - model_adv)/(d_exp_model*d_inf_model*delta_U*gamma**2))/(1 - gamma)\n",
      "\n",
      "\n",
      "(16*d_exp_model**2*d_inf_model*delta_U*gamma**4*tau - 16*d_exp_model**2*d_inf_model*delta_U*gamma**3*tau + d_exp_model**2*d_inf_policy**2*delta_U**2*gamma**2 + 4*d_exp_model**2*d_inf_policy*delta_U*gamma**3 - 4*d_exp_model**2*d_inf_policy*delta_U*gamma**2 + 4*d_exp_model**2*gamma**4 - 8*d_exp_model**2*gamma**3 + 4*d_exp_model**2*gamma**2 - 4*d_exp_model*d_exp_policy*d_inf_model*d_inf_policy*delta_U**2*gamma**3 + 2*d_exp_model*d_exp_policy*d_inf_model*d_inf_policy*delta_U**2*gamma**2 + 4*d_exp_model*d_exp_policy*d_inf_model*delta_U*gamma**3 - 4*d_exp_model*d_exp_policy*d_inf_model*delta_U*gamma**2 - 8*d_exp_model*d_inf_model*delta_U*gamma**3*policy_adv + 8*d_exp_model*d_inf_model*delta_U*gamma**2*policy_adv + 4*d_exp_model*d_inf_policy*delta_U*gamma**2*model_adv - 4*d_exp_model*d_inf_policy*delta_U*gamma*model_adv + 8*d_exp_model*gamma**3*model_adv - 16*d_exp_model*gamma**2*model_adv + 8*d_exp_model*gamma*model_adv + d_exp_policy**2*d_inf_model**2*delta_U**2*gamma**2 + 4*d_exp_policy*d_inf_model*delta_U*gamma**2*model_adv - 4*d_exp_policy*d_inf_model*delta_U*gamma*model_adv + 4*gamma**2*model_adv**2 - 8*gamma*model_adv**2 + 4*model_adv**2)/(8*d_exp_model*d_inf_model*delta_U*gamma**2*(gamma - 1)**2)\n"
     ]
    }
   ],
   "source": [
    "# Substituting the solutions of the first order derivatives in the teleport bound equation\n",
    "b_alpha_tau = teleport_bound.subs({alpha: alpha_tau[0], tau_prime: tau}) # alpha = alpha_tau, tau_prime = tau\n",
    "print(b_alpha_tau)\n",
    "\n",
    "b_alpha_0 = teleport_bound.subs({alpha: alpha_0[0], tau_prime: 0}) # alpha = alpha_0, tau_prime = 0\n",
    "print(sp.factor(sp.simplify(b_alpha_0)))\n",
    "\n",
    "print(\"\\n\")\n",
    "b_tau_prime_0 = teleport_bound.subs({alpha: 0, tau_prime: tau_prime_0[0]}) # alpha = 0, tau_prime = tau_prime_0\n",
    "print(b_tau_prime_0)\n",
    "print(\"\\n\")\n",
    "\n",
    "b_tau_prime_1 = teleport_bound.subs({alpha: 1, tau_prime: tau_prime_1[0]}) # alpha = 1, tau_prime = tau_prime_1\n",
    "print(sp.factor(sp.simplify(b_tau_prime_1)))"
   ]
  },
  {
   "cell_type": "code",
   "execution_count": null,
   "metadata": {},
   "outputs": [],
   "source": []
  }
 ],
 "metadata": {
  "kernelspec": {
   "display_name": "Python 3",
   "language": "python",
   "name": "python3"
  },
  "language_info": {
   "codemirror_mode": {
    "name": "ipython",
    "version": 3
   },
   "file_extension": ".py",
   "mimetype": "text/x-python",
   "name": "python",
   "nbconvert_exporter": "python",
   "pygments_lexer": "ipython3",
   "version": "3.11.5"
  }
 },
 "nbformat": 4,
 "nbformat_minor": 2
}
