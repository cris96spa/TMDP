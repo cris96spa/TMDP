{
 "cells": [
  {
   "cell_type": "code",
   "execution_count": 1,
   "metadata": {},
   "outputs": [
    {
     "name": "stdout",
     "output_type": "stream",
     "text": [
      "Current seed for result reproducibility: 329109417943062232536003320066158495377\n"
     ]
    },
    {
     "data": {
      "text/plain": [
       "(0, {'prob': 1})"
      ]
     },
     "execution_count": 1,
     "metadata": {},
     "output_type": "execute_result"
    }
   ],
   "source": [
    "import numpy as np\n",
    "from TMDP import TMDP\n",
    "from River_swim import River\n",
    "\n",
    "from algorithms import *\n",
    "from model_functions import *\n",
    "\n",
    "import matplotlib.pyplot as plt\n",
    "import gymnasium as gym\n",
    "from FrozenLake import *\n",
    "\n",
    "#np.set_printoptions(precision=4)\n",
    "import math\n",
    "from utils import *\n",
    "\n",
    "nrows = 8\n",
    "nS = nrows**2\n",
    "nA = 4\n",
    "seed = get_current_seed()\n",
    "gamma = .9\n",
    "tau = 1.\n",
    "#tmdp = TMDP(river, xi, tau=tau, gamma=gamma, seed=seed)\n",
    "#mdp = TMDP(river, xi, tau=0., gamma=gamma, seed=seed)\n",
    "\n",
    "env = FrozenLakeEnv(is_slippery=False, seed=seed, desc=generate_random_map(nrows))#, render_mode=\"human\")\n",
    "xi_frozen = np.ones(env.nS) * 1/env.nS\n",
    "env.reset()"
   ]
  },
  {
   "cell_type": "code",
   "execution_count": 2,
   "metadata": {},
   "outputs": [],
   "source": [
    "tmdp = TMDP(env, xi_frozen, tau=tau, gamma=gamma, seed=seed)"
   ]
  },
  {
   "cell_type": "code",
   "execution_count": 3,
   "metadata": {},
   "outputs": [],
   "source": [
    "status_step = 500000\n",
    "episodes = 500000\n",
    "batch_nS = 1\n",
    "temperature = 20"
   ]
  },
  {
   "cell_type": "code",
   "execution_count": 4,
   "metadata": {},
   "outputs": [
    {
     "name": "stdout",
     "output_type": "stream",
     "text": [
      "Updating tau to 0.95\n",
      "Updating tau to 0.8999999999999999\n",
      "Updating tau to 0.8499999999999999\n",
      "Updating tau to 0.7999999999999998\n",
      "Updating tau to 0.7499999999999998\n",
      "Updating tau to 0.6999999999999997\n",
      "Updating tau to 0.6499999999999997\n",
      "Updating tau to 0.5999999999999996\n",
      "Updating tau to 0.5499999999999996\n",
      "Updating tau to 0.4999999999999996\n",
      "Updating tau to 0.4499999999999996\n",
      "Updating tau to 0.39999999999999963\n",
      "Updating tau to 0.34999999999999964\n",
      "Updating tau to 0.29999999999999966\n",
      "Updating tau to 0.24999999999999967\n",
      "Updating tau to 0.19999999999999968\n",
      "Updating tau to 0.1499999999999997\n",
      "Updating tau to 0.09999999999999969\n",
      "Updating tau to 0.049999999999999684\n",
      "Updating tau to 0.0\n",
      "Updating tau to 0.0\n"
     ]
    }
   ],
   "source": [
    "done = False\n",
    "Q = np.zeros((tmdp.nS, tmdp.nA))\n",
    "tau = 1.\n",
    "while not done:\n",
    "    if tau == 0:\n",
    "        done = True\n",
    "    batch_res = batch_q_learning(tmdp, Q, alpha=.25, episodes=episodes, status_step=status_step, batch_nS=batch_nS)    \n",
    "    Q = batch_res[\"Qs\"][-1]\n",
    "    tau = max(0.,tau-0.05)\n",
    "    tmdp.update_tau(tau)\n",
    "    print(\"Updating tau to {}\".format(tau))"
   ]
  },
  {
   "cell_type": "code",
   "execution_count": 5,
   "metadata": {},
   "outputs": [],
   "source": [
    "from utils import *\n",
    "res = {\"Q\":Q}\n",
    "json_res = to_json(res, indent=True)\n",
    "write_results(nrows, nA, \"FrozenLake\", json_res, \"w\")\n",
    "json_res = read_results(nrows, nA, \"FrozenLake\")\n",
    "res = from_json(json_res)"
   ]
  },
  {
   "cell_type": "code",
   "execution_count": 6,
   "metadata": {},
   "outputs": [],
   "source": [
    "Q = np.array(res[\"Q\"])\n",
    "tmdp = TMDP(env, xi_frozen, tau=0., gamma=gamma, seed=seed)\n",
    "env.render_mode = \"human\"\n",
    "env.is_slippery = False\n",
    "tmdp.reset()\n",
    "done = False\n",
    "step = 0\n",
    "while True:\n",
    "    a = greedy(tmdp.env.s, Q, tmdp.env.allowed_actions[int(tmdp.env.s)])\n",
    "    s_prime, reward, flags, prob = tmdp.step(a)\n",
    "    if flags[\"done\"]:\n",
    "        tmdp.reset()\n",
    "    step +=1\n",
    "    if step > max(1000,nrows*2):\n",
    "        break"
   ]
  }
 ],
 "metadata": {
  "kernelspec": {
   "display_name": "Python 3",
   "language": "python",
   "name": "python3"
  },
  "language_info": {
   "codemirror_mode": {
    "name": "ipython",
    "version": 3
   },
   "file_extension": ".py",
   "mimetype": "text/x-python",
   "name": "python",
   "nbconvert_exporter": "python",
   "pygments_lexer": "ipython3",
   "version": "3.11.5"
  }
 },
 "nbformat": 4,
 "nbformat_minor": 2
}
