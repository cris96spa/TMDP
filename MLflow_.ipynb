{
 "cells": [
  {
   "cell_type": "code",
   "execution_count": 4,
   "metadata": {},
   "outputs": [
    {
     "name": "stderr",
     "output_type": "stream",
     "text": [
      "2024/05/13 11:22:50 WARNING mlflow.utils.autologging_utils: MLflow autologging encountered a warning: \"c:\\Users\\crist\\OneDrive - Politecnico di Milano\\Polimi\\Tesi\\TMDP\\mlflow_env\\Lib\\site-packages\\_distutils_hack\\__init__.py:26: UserWarning: Setuptools is replacing distutils.\"\n"
     ]
    },
    {
     "name": "stdout",
     "output_type": "stream",
     "text": [
      "RMSE: 0.25268777396445424\n",
      "Run logged to MLflow\n"
     ]
    },
    {
     "name": "stderr",
     "output_type": "stream",
     "text": [
      "c:\\Users\\crist\\OneDrive - Politecnico di Milano\\Polimi\\Tesi\\TMDP\\mlflow_env\\Lib\\site-packages\\sklearn\\metrics\\_regression.py:483: FutureWarning: 'squared' is deprecated in version 1.4 and will be removed in 1.6. To calculate the root mean squared error, use the function'root_mean_squared_error'.\n",
      "  warnings.warn(\n"
     ]
    }
   ],
   "source": [
    "import mlflow\n",
    "import mlflow.sklearn\n",
    "from sklearn.ensemble import RandomForestRegressor\n",
    "from sklearn.metrics import mean_squared_error\n",
    "from sklearn.model_selection import train_test_split\n",
    "from sklearn.datasets import load_wine\n",
    "import argparse\n",
    "\n",
    "\n",
    "def parse_args():\n",
    "    parser = argparse.ArgumentParser(description=\"Random Forest Training\")\n",
    "    parser.add_argument('--n_estimators', type=int, default=100, help='Number of trees in the forest')\n",
    "    parser.add_argument('--max_depth', type=int, default=5, help='Maximum depth of the trees')\n",
    "    return parser.parse_args()\n",
    "\n",
    "args = parse_args()\n",
    "mlflow.sklearn.autolog()\n",
    "\n",
    "# Load dataset\n",
    "data = load_wine()\n",
    "X_train, X_test, y_train, y_test = train_test_split(data.data, data.target)\n",
    "\n",
    "# Set experiment name\n",
    "mlflow.set_experiment(\"my_experiment\")\n",
    "\n",
    "# Start a new run\n",
    "with mlflow.start_run():\n",
    "    # Log parameters\n",
    "    n_estimators = 100\n",
    "    max_depth = 5\n",
    "    \n",
    "    # Train model\n",
    "    model = RandomForestRegressor(n_estimators=n_estimators, max_depth=max_depth)\n",
    "    model.fit(X_train, y_train)\n",
    "    \n",
    "    # Log metrics\n",
    "    predictions = model.predict(X_test)\n",
    "    rmse = mean_squared_error(y_test, predictions, squared=False)\n",
    "    mlflow.log_metric(\"rmse\", rmse)\n",
    "    \n",
    "    # Log model\n",
    "    mlflow.sklearn.log_model(model, \"model\")\n",
    "\n",
    "print(\"Run logged to MLflow\")\n"
   ]
  },
  {
   "cell_type": "code",
   "execution_count": null,
   "metadata": {},
   "outputs": [
    {
     "name": "stdout",
     "output_type": "stream",
     "text": [
      "<Experiment: artifact_location='file:///c:/Users/crist/OneDrive%20-%20Politecnico%20di%20Milano/Polimi/Tesi/TMDP/mlruns/725823697726956658', creation_time=1715590311209, experiment_id='725823697726956658', last_update_time=1715590311209, lifecycle_stage='active', name='my_experiment', tags={}>\n"
     ]
    },
    {
     "data": {
      "text/plain": [
       "'# List all runs for a specific experiment\\nexperiment_id = \"725823697726956658 \"\\nruns = mlflo\\nprint(runs)'"
      ]
     },
     "execution_count": 10,
     "metadata": {},
     "output_type": "execute_result"
    }
   ],
   "source": [
    "# List all experiments\n",
    "experiment = mlflow.get_experiment_by_name(\"my_experiment\")\n",
    "#for experiment in experiments:\n",
    "print(experiment)\n",
    "\n",
    "\"\"\"# List all runs for a specific experiment\n",
    "experiment_id = \"725823697726956658 \"\n",
    "runs = mlflo\n",
    "print(runs)\"\"\""
   ]
  },
  {
   "cell_type": "code",
   "execution_count": null,
   "metadata": {},
   "outputs": [
    {
     "name": "stdout",
     "output_type": "stream",
     "text": [
      "Current seed for result reproducibility: 183375554099012491460556174173820478567\n"
     ]
    }
   ],
   "source": [
    "import numpy as np\n",
    "from TMDP import TMDP\n",
    "from River_swim import River\n",
    "\n",
    "from algorithms import *\n",
    "from model_functions import *\n",
    "\n",
    "import matplotlib.pyplot as plt\n",
    "import torch\n",
    "import torch.nn as nn\n",
    "from torch.nn import functional as F\n",
    "\n",
    "\n",
    "#np.set_printoptions(precision=4)\n",
    "import math\n",
    "from utils import *\n",
    "\n",
    "nS = 15\n",
    "nA = 2\n",
    "seed = get_current_seed()\n",
    "#seed = 47146882006333120128184314011326542902\n",
    "gamma = .9\n",
    "mu = np.ones(nS) * 1/nS\n",
    "river = River(nS, mu, small=5, large=1000, seed=seed)\n",
    "tau = 1.\n",
    "xi = np.ones(nS) * 1/nS\n",
    "tmdp = TMDP(river, xi, tau=tau, gamma=gamma, seed=seed)\n",
    "mdp = TMDP(river, xi, tau=0., gamma=gamma, seed=seed)\n",
    "tmdp_1 = TMDP(river, xi, tau=.5, gamma=gamma, seed=seed)\n",
    "device = torch.device(\"cuda\" if torch.cuda.is_available() else \"cpu\")\n"
   ]
  },
  {
   "cell_type": "code",
   "execution_count": null,
   "metadata": {},
   "outputs": [
    {
     "name": "stdout",
     "output_type": "stream",
     "text": [
      "No valid pairs found\n",
      "[(0.0, 0.99)]\n",
      "Alpha*: 0.0 tau*: 0.99 Episode: 1079 length: 12 #teleports:1067\n",
      "Time for bound evaluation:  0.19104313850402832\n",
      "[(1, 0.99), (0.0, 0.9897), (1.0, 0.99)]\n",
      "Alpha*: 1 tau*: 0.99 Episode: 2367 length: 12 #teleports:1276\n",
      "Got not null reward 1005.0!\n",
      "Time for bound evaluation:  0.0010001659393310547\n",
      "[(1, 0.99), (0.0, 0.9897), (1.0, 0.98996)]\n",
      "Alpha*: 1.0 tau*: 0.98996 Episode: 3478 length: 12 #teleports:1099\n",
      "Time for bound evaluation:  0.001001119613647461\n",
      "[(1, 0.98996), (0.0, 0.98966), (1.0, 0.98996)]\n",
      "Alpha*: 1.0 tau*: 0.98996 Episode: 4688 length: 12 #teleports:1198\n",
      "Time for bound evaluation:  0.0010004043579101562\n",
      "[(1, 0.98996), (0.0, 0.98966), (1.0, 0.98996)]\n",
      "Alpha*: 1.0 tau*: 0.98996 Episode: 6116 length: 12 #teleports:1416\n",
      "Got not null reward 2000.0!\n",
      "Time for bound evaluation:  0.002000570297241211\n",
      "[(1, 0.98996), (0.0, 0.98966), (1.0, 0.98966)]\n",
      "Alpha*: 0.0 tau*: 0.98966 Episode: 7414 length: 12 #teleports:1286\n",
      "Time for bound evaluation:  0.002000570297241211\n",
      "[(1, 0.98966), (0.0, 0.98936), (1.0, 0.98936)]\n",
      "Alpha*: 0.0 tau*: 0.98936 Episode: 8637 length: 12 #teleports:1211\n",
      "Time for bound evaluation:  0.0010004043579101562\n",
      "[(1, 0.98936), (0.0, 0.98906), (1.0, 0.98906)]\n",
      "Alpha*: 0.0 tau*: 0.98906 Episode: 9277 length: 12 #teleports:628\n",
      "Time for bound evaluation:  0.0010001659393310547\n",
      "[(1, 0.98906), (0.0, 0.98876), (1.0, 0.98906)]\n",
      "Alpha*: 1 tau*: 0.98906 Episode: 10779 length: 13 #teleports:1489\n",
      "Got not null reward 5.0!\n",
      "Time for bound evaluation:  0.0009996891021728516\n",
      "[(1, 0.98906), (0.0, 0.98876), (1.0, 0.98876)]\n",
      "Alpha*: 0.0 tau*: 0.98876 Episode: 12288 length: 12 #teleports:1497\n",
      "Got not null reward 5.0!\n",
      "Time for bound evaluation:  0.0020008087158203125\n",
      "[(1, 0.98876), (0.0, 0.98845), (1.0, 0.98876)]\n",
      "Alpha*: 1 tau*: 0.98876 Episode: 13514 length: 12 #teleports:1214\n",
      "Time for bound evaluation:  0.002000570297241211\n",
      "[(1, 0.98876), (0.0, 0.98845), (1.0, 0.98876)]\n",
      "Alpha*: 1.0 tau*: 0.98876 Episode: 15269 length: 12 #teleports:1743\n",
      "Time for bound evaluation:  0.0010001659393310547\n",
      "[(1, 0.98876), (0.0, 0.98844), (1.0, 0.98876)]\n",
      "Alpha*: 1.0 tau*: 0.98876 Episode: 16508 length: 12 #teleports:1227\n",
      "Got not null reward 5.0!\n",
      "Time for bound evaluation:  0.0010013580322265625\n",
      "[(1, 0.98876), (0.0, 0.98844), (1.0, 0.98876)]\n",
      "Alpha*: 1.0 tau*: 0.98876 Episode: 17474 length: 12 #teleports:954\n",
      "Time for bound evaluation:  0.0009992122650146484\n",
      "[(1, 0.98876), (0.0, 0.98844), (1.0, 0.98876)]\n",
      "Alpha*: 1.0 tau*: 0.98876 Episode: 18342 length: 12 #teleports:856\n",
      "Got not null reward 5.0!\n",
      "Time for bound evaluation:  0.0010001659393310547\n",
      "[(1, 0.98876), (0.0, 0.98844), (1.0, 0.98845)]\n",
      "Alpha*: 0.0 tau*: 0.98844 Episode: 19069 length: 12 #teleports:715\n",
      "Got not null reward 10.0!\n",
      "Time for bound evaluation:  0.0009992122650146484\n",
      "[(1, 0.98844), (0.0, 0.98811), (1.0, 0.98814)]\n",
      "Alpha*: 0.0 tau*: 0.98811 Episode: 20065 length: 12 #teleports:984\n",
      "Got not null reward 10.0!\n",
      "Time for bound evaluation:  0.0010001659393310547\n",
      "[(1, 0.98811), (0.0, 0.98777), (1.0, 0.98811)]\n",
      "Alpha*: 1.0 tau*: 0.98811 Episode: 20749 length: 12 #teleports:672\n",
      "Got not null reward 5.0!\n",
      "Time for bound evaluation:  0.0010004043579101562\n",
      "[(1, 0.98811), (0.0, 0.98777), (1.0, 0.98785)]\n",
      "Alpha*: 0.0 tau*: 0.98777 Episode: 22521 length: 13 #teleports:1759\n",
      "Time for bound evaluation:  0.0010001659393310547\n",
      "[(1, 0.98777), (0.0, 0.98743), (1.0, 0.98777)]\n",
      "Alpha*: 1.0 tau*: 0.98777 Episode: 23505 length: 12 #teleports:972\n",
      "Time for bound evaluation:  0.0020008087158203125\n",
      "[(1, 0.98777), (0.0, 0.98743), (1.0, 0.98754)]\n",
      "Alpha*: 0.0 tau*: 0.98743 Episode: 24278 length: 12 #teleports:761\n",
      "Time for bound evaluation:  0.0015058517456054688\n",
      "[(1, 0.98743), (0.0, 0.98708), (1.0, 0.9872)]\n",
      "Alpha*: 0.0 tau*: 0.98708 Episode: 25056 length: 12 #teleports:766\n",
      "Got not null reward 10.0!\n",
      "Time for bound evaluation:  0.0010004043579101562\n",
      "[(1, 0.98708), (0.0, 0.98674), (1.0, 0.98708)]\n",
      "Alpha*: 1 tau*: 0.98708 Episode: 25991 length: 12 #teleports:923\n",
      "Got not null reward 1005.0!\n",
      "Time for bound evaluation:  0.0010001659393310547\n",
      "[(1, 0.98708), (0.0, 0.98674), (1.0, 0.98674)]\n",
      "Alpha*: 0.0 tau*: 0.98674 Episode: 26595 length: 13 #teleports:591\n",
      "Time for bound evaluation:  0.0010004043579101562\n",
      "[(1, 0.98674), (0.0, 0.9864), (1.0, 0.98674)]\n",
      "Alpha*: 1.0 tau*: 0.98674 Episode: 27666 length: 12 #teleports:1059\n",
      "Time for bound evaluation:  0.0009996891021728516\n"
     ]
    },
    {
     "ename": "KeyboardInterrupt",
     "evalue": "",
     "output_type": "error",
     "traceback": [
      "\u001b[1;31m---------------------------------------------------------------------------\u001b[0m",
      "\u001b[1;31mKeyboardInterrupt\u001b[0m                         Traceback (most recent call last)",
      "Cell \u001b[1;32mIn[2], line 3\u001b[0m\n\u001b[0;32m      1\u001b[0m q_c \u001b[38;5;241m=\u001b[39m np\u001b[38;5;241m.\u001b[39mzeros((nS, nA))\n\u001b[0;32m      2\u001b[0m tmdp\u001b[38;5;241m.\u001b[39mupdate_tau(\u001b[38;5;241m.99\u001b[39m)\n\u001b[1;32m----> 3\u001b[0m cur_res \u001b[38;5;241m=\u001b[39m \u001b[43mcurriculum_AC\u001b[49m\u001b[43m(\u001b[49m\u001b[43mtmdp\u001b[49m\u001b[43m,\u001b[49m\u001b[43m \u001b[49m\u001b[43mq_c\u001b[49m\u001b[43m,\u001b[49m\u001b[43m \u001b[49m\u001b[43malpha\u001b[49m\u001b[43m \u001b[49m\u001b[38;5;241;43m=\u001b[39;49m\u001b[43m \u001b[49m\u001b[38;5;241;43m0.08\u001b[39;49m\u001b[43m,\u001b[49m\u001b[43m \u001b[49m\u001b[43malpha_pol\u001b[49m\u001b[43m \u001b[49m\u001b[38;5;241;43m=\u001b[39;49m\u001b[43m \u001b[49m\u001b[38;5;241;43m0.03\u001b[39;49m\u001b[43m,\u001b[49m\u001b[43m \u001b[49m\u001b[43mepisodes\u001b[49m\u001b[38;5;241;43m=\u001b[39;49m\u001b[38;5;241;43m1500000\u001b[39;49m\u001b[43m,\u001b[49m\u001b[43m \u001b[49m\n\u001b[0;32m      4\u001b[0m \u001b[43m                        \u001b[49m\u001b[43mbatch_nS\u001b[49m\u001b[38;5;241;43m=\u001b[39;49m\u001b[38;5;241;43m12\u001b[39;49m\u001b[43m,\u001b[49m\u001b[43m \u001b[49m\u001b[43mtemperature\u001b[49m\u001b[38;5;241;43m=\u001b[39;49m\u001b[38;5;241;43m5.\u001b[39;49m\u001b[43m,\u001b[49m\u001b[43m \u001b[49m\u001b[43mbiased\u001b[49m\u001b[38;5;241;43m=\u001b[39;49m\u001b[38;5;28;43;01mFalse\u001b[39;49;00m\u001b[43m,\u001b[49m\u001b[43m \u001b[49m\u001b[43mlam\u001b[49m\u001b[38;5;241;43m=\u001b[39;49m\u001b[38;5;241;43m0\u001b[39;49m\u001b[43m,\u001b[49m\u001b[43m \u001b[49m\n\u001b[0;32m      5\u001b[0m \u001b[43m                        \u001b[49m\u001b[43mepochs\u001b[49m\u001b[38;5;241;43m=\u001b[39;49m\u001b[38;5;241;43m1\u001b[39;49m\u001b[43m,\u001b[49m\u001b[43m \u001b[49m\u001b[43muse_delta_Q\u001b[49m\u001b[38;5;241;43m=\u001b[39;49m\u001b[38;5;28;43;01mFalse\u001b[39;49;00m\u001b[43m,\u001b[49m\u001b[43m \u001b[49m\u001b[43mfinal_temperature\u001b[49m\u001b[38;5;241;43m=\u001b[39;49m\u001b[38;5;241;43m1\u001b[39;49m\u001b[43m)\u001b[49m\n",
      "File \u001b[1;32mc:\\Users\\crist\\OneDrive - Politecnico di Milano\\Polimi\\Tesi\\TMDP\\algorithms.py:472\u001b[0m, in \u001b[0;36mcurriculum_AC\u001b[1;34m(tmdp, Q, episodes, alpha, alpha_pol, status_step, batch_nS, temperature, lam, biased, epochs, use_delta_Q, device, final_temperature)\u001b[0m\n\u001b[0;32m    469\u001b[0m d_inf_model \u001b[38;5;241m=\u001b[39m get_d_inf_model(tmdp\u001b[38;5;241m.\u001b[39menv\u001b[38;5;241m.\u001b[39mP_mat, tmdp\u001b[38;5;241m.\u001b[39mxi)\n\u001b[0;32m    470\u001b[0m \u001b[38;5;28;01mwhile\u001b[39;00m episode \u001b[38;5;241m<\u001b[39m episodes: \u001b[38;5;66;03m# Each episode is a single time step\u001b[39;00m\n\u001b[1;32m--> 472\u001b[0m     pi \u001b[38;5;241m=\u001b[39m \u001b[43mget_softmax_policy\u001b[49m\u001b[43m(\u001b[49m\u001b[43mtheta\u001b[49m\u001b[43m,\u001b[49m\u001b[43m \u001b[49m\u001b[43mtemperature\u001b[49m\u001b[38;5;241;43m=\u001b[39;49m\u001b[43mtemperature\u001b[49m\u001b[38;5;241;43m*\u001b[39;49m\u001b[43mtemp_decay\u001b[49m\u001b[43m)\u001b[49m\n\u001b[0;32m    473\u001b[0m     \u001b[38;5;28;01mwhile\u001b[39;00m \u001b[38;5;28;01mTrue\u001b[39;00m:\n\u001b[0;32m    474\u001b[0m         s \u001b[38;5;241m=\u001b[39m tmdp\u001b[38;5;241m.\u001b[39menv\u001b[38;5;241m.\u001b[39ms\n",
      "File \u001b[1;32mc:\\Users\\crist\\OneDrive - Politecnico di Milano\\Polimi\\Tesi\\TMDP\\algorithms.py:201\u001b[0m, in \u001b[0;36mget_softmax_policy\u001b[1;34m(x, temperature, redundant)\u001b[0m\n\u001b[0;32m    199\u001b[0m exp \u001b[38;5;241m=\u001b[39m np\u001b[38;5;241m.\u001b[39marray([])\n\u001b[0;32m    200\u001b[0m \u001b[38;5;28;01mfor\u001b[39;00m s \u001b[38;5;129;01min\u001b[39;00m \u001b[38;5;28mrange\u001b[39m(nS):\n\u001b[1;32m--> 201\u001b[0m     exp \u001b[38;5;241m=\u001b[39m \u001b[43mnp\u001b[49m\u001b[38;5;241;43m.\u001b[39;49m\u001b[43mappend\u001b[49m\u001b[43m(\u001b[49m\u001b[43mexp\u001b[49m\u001b[43m,\u001b[49m\u001b[43m \u001b[49m\u001b[43msoftmax_policy\u001b[49m\u001b[43m(\u001b[49m\u001b[43mx\u001b[49m\u001b[43m[\u001b[49m\u001b[43ms\u001b[49m\u001b[43m]\u001b[49m\u001b[43m,\u001b[49m\u001b[43m \u001b[49m\u001b[43mtemperature\u001b[49m\u001b[38;5;241;43m=\u001b[39;49m\u001b[43mtemperature\u001b[49m\u001b[43m)\u001b[49m\u001b[43m)\u001b[49m\n\u001b[0;32m    202\u001b[0m \u001b[38;5;28;01mreturn\u001b[39;00m exp\u001b[38;5;241m.\u001b[39mreshape((nS, nA))\n",
      "File \u001b[1;32mc:\\Users\\crist\\OneDrive - Politecnico di Milano\\Polimi\\Tesi\\TMDP\\mlflow_env\\Lib\\site-packages\\numpy\\lib\\function_base.py:5618\u001b[0m, in \u001b[0;36mappend\u001b[1;34m(arr, values, axis)\u001b[0m\n\u001b[0;32m   5616\u001b[0m     values \u001b[38;5;241m=\u001b[39m ravel(values)\n\u001b[0;32m   5617\u001b[0m     axis \u001b[38;5;241m=\u001b[39m arr\u001b[38;5;241m.\u001b[39mndim\u001b[38;5;241m-\u001b[39m\u001b[38;5;241m1\u001b[39m\n\u001b[1;32m-> 5618\u001b[0m \u001b[38;5;28;01mreturn\u001b[39;00m \u001b[43mconcatenate\u001b[49m\u001b[43m(\u001b[49m\u001b[43m(\u001b[49m\u001b[43marr\u001b[49m\u001b[43m,\u001b[49m\u001b[43m \u001b[49m\u001b[43mvalues\u001b[49m\u001b[43m)\u001b[49m\u001b[43m,\u001b[49m\u001b[43m \u001b[49m\u001b[43maxis\u001b[49m\u001b[38;5;241;43m=\u001b[39;49m\u001b[43maxis\u001b[49m\u001b[43m)\u001b[49m\n",
      "\u001b[1;31mKeyboardInterrupt\u001b[0m: "
     ]
    }
   ],
   "source": [
    "q_c = np.zeros((nS, nA))\n",
    "tmdp.update_tau(.99)\n",
    "cur_res = curriculum_AC(tmdp, q_c, alpha = 0.08, alpha_pol = 0.03, episodes=1500000, \n",
    "                        batch_nS=12, temperature=5., biased=False, lam=0, \n",
    "                        epochs=1, use_delta_Q=False, final_temperature=1)\n"
   ]
  },
  {
   "cell_type": "code",
   "execution_count": null,
   "metadata": {},
   "outputs": [
    {
     "name": "stdout",
     "output_type": "stream",
     "text": [
      "[[1.00000000e+000 2.10864764e-038]\n",
      " [1.00000000e+000 6.83540902e-034]\n",
      " [1.00000000e+000 2.48184738e-030]\n",
      " [1.00000000e+000 1.39965592e-026]\n",
      " [1.00000000e+000 1.48293843e-022]\n",
      " [1.00000000e+000 1.10053522e-017]\n",
      " [5.70364786e-005 9.99942964e-001]\n",
      " [1.87243279e-036 1.00000000e+000]\n",
      " [6.67735473e-067 1.00000000e+000]\n",
      " [9.88135491e-092 1.00000000e+000]\n",
      " [6.73606405e-104 1.00000000e+000]\n",
      " [8.86669725e-108 1.00000000e+000]\n",
      " [4.91961581e-107 1.00000000e+000]\n",
      " [1.53021456e-116 1.00000000e+000]\n",
      " [3.64682814e-091 1.00000000e+000]]\n",
      "[[ 49.99999984  43.2463397 ]\n",
      " [ 44.99999983  39.19061362]\n",
      " [ 40.49999982  35.59202126]\n",
      " [ 36.44999981  32.19477915]\n",
      " [ 32.80495468  28.77320159]\n",
      " [ 29.52380042  27.27716627]\n",
      " [ 26.55244355  38.2729473 ]\n",
      " [ 25.43306021  60.00726244]\n",
      " [ 38.68317799  89.24609683]\n",
      " [ 71.37170597 131.29978077]\n",
      " [107.910725   187.92069868]\n",
      " [165.21705756 265.15089083]\n",
      " [240.54195308 396.24326228]\n",
      " [405.91197414 593.64809182]\n",
      " [630.66083068 873.84438488]]\n",
      "[[1. 0.]\n",
      " [1. 0.]\n",
      " [1. 0.]\n",
      " [1. 0.]\n",
      " [1. 0.]\n",
      " [1. 0.]\n",
      " [0. 1.]\n",
      " [0. 1.]\n",
      " [0. 1.]\n",
      " [0. 1.]\n",
      " [0. 1.]\n",
      " [0. 1.]\n",
      " [0. 1.]\n",
      " [0. 1.]\n",
      " [0. 1.]]\n"
     ]
    }
   ],
   "source": [
    "print(get_softmax_policy(cur_res[\"thetas\"][-1]))\n",
    "print(cur_res[\"Qs\"][-1])\n",
    "print(get_policy(cur_res[\"thetas\"][-1]))"
   ]
  },
  {
   "cell_type": "code",
   "execution_count": null,
   "metadata": {},
   "outputs": [],
   "source": []
  },
  {
   "cell_type": "code",
   "execution_count": null,
   "metadata": {},
   "outputs": [
    {
     "name": "stdout",
     "output_type": "stream",
     "text": [
      "[[ 49.99999551  43.64999596]\n",
      " [ 44.99999596  39.73499632]\n",
      " [ 40.49999636  35.76149669]\n",
      " [ 36.44999673  32.18534702]\n",
      " [ 32.80499705  29.6973722 ]\n",
      " [ 29.52449735  32.2302746 ]\n",
      " [ 29.00724714  43.97583974]\n",
      " [ 39.57825577  64.17837661]\n",
      " [ 57.76053895  94.68232506]\n",
      " [ 85.21409256 139.91783603]\n",
      " [125.92605242 206.81776075]\n",
      " [186.13598467 305.71690659]\n",
      " [275.14521593 451.91177272]\n",
      " [406.72059545 668.01812565]\n",
      " [601.21631308 987.46769745]]\n",
      "[[ 0.  0.]\n",
      " [ 0.  0.]\n",
      " [ 0.  0.]\n",
      " [ 0.  0.]\n",
      " [ 0.  0.]\n",
      " [-1.  1.]\n",
      " [ 0.  0.]\n",
      " [ 0.  0.]\n",
      " [ 0.  0.]\n",
      " [ 0.  0.]\n",
      " [ 0.  0.]\n",
      " [ 0.  0.]\n",
      " [ 0.  0.]\n",
      " [ 0.  0.]\n",
      " [ 0.  0.]]\n",
      "optimal performance:  213.31146154464213\n",
      "expected performance:  213.13101772015557\n",
      "curriculum performance:  213.07834470201638\n",
      "Q curriculum performance:  213.07855128449287\n"
     ]
    }
   ],
   "source": [
    "res = bellman_optimal_q(mdp.env.P_mat, mdp.env.reward, mdp.gamma)\n",
    "Q = res[\"Q\"]\n",
    "print(Q)\n",
    "d = compute_d_from_tau(mdp.env.mu, mdp.env.P_mat, mdp.xi, get_policy(Q), mdp.gamma, 0.)\n",
    "d_curr = compute_d_from_tau(tmdp.env.mu, tmdp.P_mat_tau, tmdp.xi, get_softmax_policy(cur_res[\"thetas\"][-1]), tmdp.gamma, 0.)\n",
    "d_q = compute_d_from_tau(tmdp.env.mu, tmdp.P_mat_tau, tmdp.xi, get_policy(q_c), tmdp.gamma, 0.)\n",
    "\n",
    "delta_pol = get_policy(Q)-get_policy(get_softmax_policy(cur_res[\"thetas\"][-1]))\n",
    "print(delta_pol)\n",
    "V = compute_V_from_Q(Q, get_softmax_policy(cur_res[\"thetas\"][-1]))\n",
    "r_s_a = compute_r_s_a(mdp.env.P_mat, mdp.env.reward)\n",
    "\n",
    "j_opt = compute_j(r_s_a, get_policy(Q), d, mdp.gamma)\n",
    "j_curr = compute_j(r_s_a, get_policy(get_softmax_policy(cur_res[\"thetas\"][-1])), d_curr, tmdp.gamma)\n",
    "j_q_curr = compute_j(r_s_a, get_policy(q_c), d_q, tmdp.gamma)\n",
    "j_exp = compute_expected_j(V, tmdp.env.mu)\n",
    "print(\"optimal performance: \",j_opt)\n",
    "print(\"expected performance: \",j_exp)\n",
    "print(\"curriculum performance: \", j_curr)\n",
    "print(\"Q curriculum performance: \",j_q_curr)"
   ]
  },
  {
   "cell_type": "code",
   "execution_count": null,
   "metadata": {},
   "outputs": [
    {
     "data": {
      "text/plain": [
       "[<matplotlib.lines.Line2D at 0x222e130e990>]"
      ]
     },
     "execution_count": 5,
     "metadata": {},
     "output_type": "execute_result"
    },
    {
     "data": {
      "image/png": "[encoded data removed]",
      "text/plain": [
       "<Figure size 640x480 with 1 Axes>"
      ]
     },
     "metadata": {},
     "output_type": "display_data"
    }
   ],
   "source": [
    "import matplotlib.pyplot as plt\n",
    "reward_records = cur_res[\"reward_records\"]\n",
    "# Generate recent 50 interval average\n",
    "average_reward = []\n",
    "for idx in range(len(reward_records)):\n",
    "    avg_list = np.empty(shape=(1,), dtype=int)\n",
    "    if idx < 500:\n",
    "        avg_list = reward_records[:idx+1]\n",
    "    else:\n",
    "        avg_list = reward_records[idx-499:idx+1]\n",
    "    average_reward.append(np.average(avg_list)/12)\n",
    "# Plot\n",
    "#plt.plot(reward_records)\n",
    "plt.plot(average_reward)"
   ]
  },
  {
   "cell_type": "markdown",
   "metadata": {},
   "source": []
  }
 ],
 "metadata": {
  "kernelspec": {
   "display_name": "Python 3",
   "language": "python",
   "name": "python3"
  },
  "language_info": {
   "codemirror_mode": {
    "name": "ipython",
    "version": 3
   },
   "file_extension": ".py",
   "mimetype": "text/x-python",
   "name": "python",
   "nbconvert_exporter": "python",
   "pygments_lexer": "ipython3",
   "version": "3.11.5"
  }
 },
 "nbformat": 4,
 "nbformat_minor": 2
}
