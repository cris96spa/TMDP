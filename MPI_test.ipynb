{
 "cells": [
  {
   "cell_type": "code",
   "execution_count": 1,
   "metadata": {},
   "outputs": [
    {
     "name": "stdout",
     "output_type": "stream",
     "text": [
      "Current seed for result reproducibility: 271385608570801895797797278412092583813\n"
     ]
    }
   ],
   "source": [
    "import numpy as np\n",
    "from TMDP import TMDP\n",
    "from River_swim import River\n",
    "\n",
    "from algorithms import *\n",
    "from model_functions import *\n",
    "\n",
    "import matplotlib.pyplot as plt\n",
    "\n",
    "\n",
    "#np.set_printoptions(precision=4)\n",
    "import math\n",
    "from utils import *\n",
    "\n",
    "nS = 50\n",
    "nA = 2\n",
    "seed = get_current_seed()\n",
    "seed = 44697628841978080856580175700798794719\n",
    "gamma = .9\n",
    "mu = np.ones(nS) * 1/nS\n",
    "river = River(nS, mu, small=5, large=1000, seed=seed)\n",
    "tau = 1.\n",
    "xi = np.ones(nS) * 1/nS\n",
    "tmdp = TMDP(river, xi, tau=tau, gamma=gamma, seed=seed)\n",
    "mdp = TMDP(river, xi, tau=0., gamma=gamma, seed=seed)\n",
    "tmdp_1 = TMDP(river, xi, tau=.5, gamma=gamma, seed=seed)\n"
   ]
  },
  {
   "cell_type": "code",
   "execution_count": 2,
   "metadata": {},
   "outputs": [
    {
     "name": "stdout",
     "output_type": "stream",
     "text": [
      "[[ 0.00000000e+00 -9.99999915e-02]\n",
      " [-8.29576496e-09  0.00000000e+00]\n",
      " [-8.26087687e-09  0.00000000e+00]\n",
      " [-8.22613488e-09  0.00000000e+00]\n",
      " [-8.19153989e-09  0.00000000e+00]\n",
      " [-8.15709011e-09  0.00000000e+00]\n",
      " [-8.12278467e-09  0.00000000e+00]\n",
      " [-8.08862488e-09  0.00000000e+00]\n",
      " [-8.05460720e-09  0.00000000e+00]\n",
      " [-8.02073341e-09  0.00000000e+00]\n",
      " [-7.98700217e-09  0.00000000e+00]\n",
      " [-7.95341304e-09  0.00000000e+00]\n",
      " [-7.91996468e-09  0.00000000e+00]\n",
      " [-7.88665711e-09  0.00000000e+00]\n",
      " [-7.85348897e-09  0.00000000e+00]\n",
      " [-7.82046117e-09  0.00000000e+00]\n",
      " [-7.78757236e-09  0.00000000e+00]\n",
      " [-7.75482123e-09  0.00000000e+00]\n",
      " [-7.72220776e-09  0.00000000e+00]\n",
      " [-7.68973107e-09  0.00000000e+00]\n",
      " [-7.65739205e-09  0.00000000e+00]\n",
      " [-7.62518937e-09  0.00000000e+00]\n",
      " [-7.59312169e-09  0.00000000e+00]\n",
      " [-7.56118856e-09  0.00000000e+00]\n",
      " [-7.52938956e-09  0.00000000e+00]\n",
      " [-7.49772511e-09  0.00000000e+00]\n",
      " [-7.46619255e-09  0.00000000e+00]\n",
      " [-7.43479278e-09  0.00000000e+00]\n",
      " [-7.40352579e-09  0.00000000e+00]\n",
      " [-7.37238981e-09  0.00000000e+00]\n",
      " [-7.34138572e-09  0.00000000e+00]\n",
      " [-7.31051042e-09  0.00000000e+00]\n",
      " [-7.27976612e-09  0.00000000e+00]\n",
      " [-7.24915106e-09  0.00000000e+00]\n",
      " [-7.21866522e-09  0.00000000e+00]\n",
      " [-7.18830595e-09  0.00000000e+00]\n",
      " [-7.15807591e-09  0.00000000e+00]\n",
      " [-7.12797155e-09  0.00000000e+00]\n",
      " [-7.09799597e-09  0.00000000e+00]\n",
      " [-7.06814474e-09  0.00000000e+00]\n",
      " [-7.03841874e-09  0.00000000e+00]\n",
      " [-7.00881930e-09  0.00000000e+00]\n",
      " [-6.97934244e-09  0.00000000e+00]\n",
      " [-6.94999081e-09  0.00000000e+00]\n",
      " [-6.92076263e-09  0.00000000e+00]\n",
      " [-6.89165702e-09  0.00000000e+00]\n",
      " [-6.86267354e-09  0.00000000e+00]\n",
      " [-6.83381263e-09  0.00000000e+00]\n",
      " [-6.80507251e-09  0.00000000e+00]\n",
      " [-2.00000000e+01  0.00000000e+00]]\n",
      "[[[ 4.62820020e+00 -4.61799783e-01 -4.61799776e-01 ... -4.61799466e-01\n",
      "   -4.61799460e-01  1.75382005e+01]\n",
      "  [-2.71799807e-01 -3.61799792e-01 -3.61799784e-01 ... -3.61799475e-01\n",
      "   -3.61799468e-01  1.76382005e+01]]\n",
      "\n",
      " [[-2.71799807e-01 -3.61799792e-01 -3.61799784e-01 ... -3.61799475e-01\n",
      "   -3.61799468e-01  1.76382005e+01]\n",
      "  [-2.71799815e-01 -3.61799800e-01 -3.61799792e-01 ... -3.61799483e-01\n",
      "   -3.61799477e-01  1.76382005e+01]]\n",
      "\n",
      " [[-2.71799815e-01 -3.61799800e-01 -3.61799793e-01 ... -3.61799483e-01\n",
      "   -3.61799477e-01  1.76382005e+01]\n",
      "  [-2.71799824e-01 -3.61799808e-01 -3.61799801e-01 ... -3.61799491e-01\n",
      "   -3.61799485e-01  1.76382005e+01]]\n",
      "\n",
      " ...\n",
      "\n",
      " [[-2.71800161e-01 -3.61800146e-01 -3.61800138e-01 ... -3.61799828e-01\n",
      "   -3.61799822e-01  1.76382002e+01]\n",
      "  [-2.71800168e-01 -3.61800152e-01 -3.61800145e-01 ... -3.61799835e-01\n",
      "   -3.61799829e-01  1.76382002e+01]]\n",
      "\n",
      " [[-2.71800168e-01 -3.61800153e-01 -3.61800145e-01 ... -3.61799835e-01\n",
      "   -3.61799829e-01  1.76382002e+01]\n",
      "  [-2.71800175e-01 -3.61800159e-01 -3.61800152e-01 ... -3.61799842e-01\n",
      "   -3.61799836e-01  1.76382002e+01]]\n",
      "\n",
      " [[-2.71800175e-01 -3.61800159e-01 -3.61800152e-01 ... -3.61799842e-01\n",
      "   -3.61799836e-01  1.76382002e+01]\n",
      "  [-2.02718002e+01 -2.03618002e+01 -2.03618002e+01 ... -2.03617998e+01\n",
      "   -2.03617998e+01  9.97638200e+02]]]\n"
     ]
    }
   ],
   "source": [
    "\n",
    "res = bellman_optimal_q(tmdp.P_mat_tau, tmdp.env.reward, tmdp.gamma)\n",
    "Q = res[\"Q\"]\n",
    "res_1 = bellman_optimal_q(tmdp_1.P_mat_tau, tmdp_1.env.reward, tmdp_1.gamma)\n",
    "Q_1 = res_1[\"Q\"]\n",
    "pi = get_policy(Q)\n",
    "V = compute_V_from_Q(Q, pi)\n",
    "U = compute_U_from_V(tmdp.env.reward, tmdp.gamma, V)\n",
    "pi_prime = get_policy(Q_1)\n",
    "pol_adv_func = compute_policy_advantage_function(Q, V)\n",
    "print(pol_adv_func)\n",
    "model_adv_func = compute_model_advantage_function(U, Q)\n",
    "print(model_adv_func)"
   ]
  },
  {
   "cell_type": "code",
   "execution_count": 3,
   "metadata": {},
   "outputs": [
    {
     "name": "stdout",
     "output_type": "stream",
     "text": [
      "[0.00000000e+00 8.29576496e-09 8.26087687e-09 8.22613488e-09\n",
      " 8.19153989e-09 8.15709011e-09 8.12278467e-09 8.08862488e-09\n",
      " 8.05460720e-09 8.02073341e-09 7.98700217e-09 7.95341304e-09\n",
      " 7.91996468e-09 7.88665711e-09 7.85348897e-09 7.82046117e-09\n",
      " 7.78757236e-09 7.75482123e-09 7.72220776e-09 7.68973107e-09\n",
      " 7.65739205e-09 7.62518937e-09 7.59312169e-09 7.56118856e-09\n",
      " 7.52938956e-09 7.49772511e-09 7.46619255e-09 7.43479278e-09\n",
      " 7.40352579e-09 7.37238981e-09 7.34138572e-09 7.31051042e-09\n",
      " 7.27976612e-09 7.24915106e-09 7.21866522e-09 7.18830595e-09\n",
      " 7.15807591e-09 0.00000000e+00 0.00000000e+00 0.00000000e+00\n",
      " 0.00000000e+00 0.00000000e+00 0.00000000e+00 0.00000000e+00\n",
      " 0.00000000e+00 0.00000000e+00 0.00000000e+00 0.00000000e+00\n",
      " 0.00000000e+00 0.00000000e+00]\n",
      "[[ 2.77691989e+00 -1.79280106e-01]\n",
      " [-1.63080109e-01 -2.11680099e-01]\n",
      " [-2.17080100e-01 -2.17080094e-01]\n",
      " [-2.17080095e-01 -2.17080090e-01]\n",
      " [-2.17080091e-01 -2.17080085e-01]\n",
      " [-2.17080086e-01 -2.17080081e-01]\n",
      " [-2.17080082e-01 -2.17080076e-01]\n",
      " [-2.17080077e-01 -2.17080072e-01]\n",
      " [-2.17080073e-01 -2.17080068e-01]\n",
      " [-2.17080068e-01 -2.17080063e-01]\n",
      " [-2.17080064e-01 -2.17080059e-01]\n",
      " [-2.17080060e-01 -2.17080054e-01]\n",
      " [-2.17080055e-01 -2.17080050e-01]\n",
      " [-2.17080051e-01 -2.17080046e-01]\n",
      " [-2.17080047e-01 -2.17080041e-01]\n",
      " [-2.17080042e-01 -2.17080037e-01]\n",
      " [-2.17080038e-01 -2.17080033e-01]\n",
      " [-2.17080034e-01 -2.17080029e-01]\n",
      " [-2.17080029e-01 -2.17080024e-01]\n",
      " [-2.17080025e-01 -2.17080020e-01]\n",
      " [-2.17080021e-01 -2.17080016e-01]\n",
      " [-2.17080017e-01 -2.17080012e-01]\n",
      " [-2.17080013e-01 -2.17080008e-01]\n",
      " [-2.17080008e-01 -2.17080003e-01]\n",
      " [-2.17080004e-01 -2.17079999e-01]\n",
      " [-2.17080000e-01 -2.17079995e-01]\n",
      " [-2.17079996e-01 -2.17079991e-01]\n",
      " [-2.17079992e-01 -2.17079987e-01]\n",
      " [-2.17079988e-01 -2.17079983e-01]\n",
      " [-2.17079984e-01 -2.17079979e-01]\n",
      " [-2.17079980e-01 -2.17079975e-01]\n",
      " [-2.17079976e-01 -2.17079971e-01]\n",
      " [-2.17079972e-01 -2.17079967e-01]\n",
      " [-2.17079968e-01 -2.17079963e-01]\n",
      " [-2.17079964e-01 -2.17079959e-01]\n",
      " [-2.17079960e-01 -2.17079955e-01]\n",
      " [-2.17079956e-01 -2.17079951e-01]\n",
      " [-2.17079952e-01 -2.17079947e-01]\n",
      " [-2.17079948e-01 -2.17079943e-01]\n",
      " [-2.17079944e-01 -2.17079939e-01]\n",
      " [-2.17079940e-01 -2.17079935e-01]\n",
      " [-2.17079936e-01 -2.17079932e-01]\n",
      " [-2.17079932e-01 -2.17079928e-01]\n",
      " [-2.17079928e-01 -2.17079924e-01]\n",
      " [-2.17079925e-01 -2.17079920e-01]\n",
      " [-2.17079921e-01 -2.17079916e-01]\n",
      " [-2.17079917e-01 -2.17079913e-01]\n",
      " [-2.17079913e-01 -2.17079909e-01]\n",
      " [-2.17079910e-01  3.02292009e+00]\n",
      " [-2.17079906e-01  1.71022920e+02]]\n"
     ]
    }
   ],
   "source": [
    "rel_pol_adv = compute_relative_policy_advantage_function(pi, pi_prime, Q)\n",
    "print(rel_pol_adv)\n",
    "rel_model_adv = compute_relative_model_advantage_function(tmdp.env.P_mat, tmdp.xi, U)\n",
    "print((tmdp.tau - 0.4)*rel_model_adv)"
   ]
  },
  {
   "cell_type": "code",
   "execution_count": 4,
   "metadata": {},
   "outputs": [
    {
     "name": "stdout",
     "output_type": "stream",
     "text": [
      "[0.02 0.02 0.02 0.02 0.02 0.02 0.02 0.02 0.02 0.02 0.02 0.02 0.02 0.02\n",
      " 0.02 0.02 0.02 0.02 0.02 0.02 0.02 0.02 0.02 0.02 0.02 0.02 0.02 0.02\n",
      " 0.02 0.02 0.02 0.02 0.02 0.02 0.02 0.02 0.02 0.02 0.02 0.02 0.02 0.02\n",
      " 0.02 0.02 0.02 0.02 0.02 0.02 0.02 0.02]\n",
      "[[0.02 0.  ]\n",
      " [0.   0.02]\n",
      " [0.   0.02]\n",
      " [0.   0.02]\n",
      " [0.   0.02]\n",
      " [0.   0.02]\n",
      " [0.   0.02]\n",
      " [0.   0.02]\n",
      " [0.   0.02]\n",
      " [0.   0.02]\n",
      " [0.   0.02]\n",
      " [0.   0.02]\n",
      " [0.   0.02]\n",
      " [0.   0.02]\n",
      " [0.   0.02]\n",
      " [0.   0.02]\n",
      " [0.   0.02]\n",
      " [0.   0.02]\n",
      " [0.   0.02]\n",
      " [0.   0.02]\n",
      " [0.   0.02]\n",
      " [0.   0.02]\n",
      " [0.   0.02]\n",
      " [0.   0.02]\n",
      " [0.   0.02]\n",
      " [0.   0.02]\n",
      " [0.   0.02]\n",
      " [0.   0.02]\n",
      " [0.   0.02]\n",
      " [0.   0.02]\n",
      " [0.   0.02]\n",
      " [0.   0.02]\n",
      " [0.   0.02]\n",
      " [0.   0.02]\n",
      " [0.   0.02]\n",
      " [0.   0.02]\n",
      " [0.   0.02]\n",
      " [0.   0.02]\n",
      " [0.   0.02]\n",
      " [0.   0.02]\n",
      " [0.   0.02]\n",
      " [0.   0.02]\n",
      " [0.   0.02]\n",
      " [0.   0.02]\n",
      " [0.   0.02]\n",
      " [0.   0.02]\n",
      " [0.   0.02]\n",
      " [0.   0.02]\n",
      " [0.   0.02]\n",
      " [0.   0.02]]\n"
     ]
    }
   ],
   "source": [
    "d = compute_d_from_tau(tmdp.env.mu, tmdp.env.P_mat, tmdp.xi, pi, tmdp.gamma, tmdp.tau)\n",
    "delta = compute_delta(d, pi)\n",
    "print(d)\n",
    "print(delta)"
   ]
  },
  {
   "cell_type": "code",
   "execution_count": 11,
   "metadata": {},
   "outputs": [
    {
     "name": "stdout",
     "output_type": "stream",
     "text": [
      "Policy advantage:  5.55360488263546e-09\n",
      "Model advantage:  5.5541800012625195\n",
      "D_inf_pol:  2.0\n",
      "D_inf_model:  1.9600000000000002\n",
      "D_exp_pol:  1.4400000000000017\n",
      "D_exp_model:  1.8824000000000034\n",
      "alpha_tau:  0.0\n",
      "alpha_0:  -0.57181\n",
      "tau_prime_0:  0.49976\n",
      "tau_prime_1:  1.49164\n"
     ]
    }
   ],
   "source": [
    "pol_adv = compute_expected_policy_advantage(rel_pol_adv, d)\n",
    "model_adv = compute_expected_model_advantage(rel_model_adv, delta)\n",
    "delta_Q = get_sup_difference_Q(Q)\n",
    "delta_U = get_sup_difference_U(U)\n",
    "d_inf_pol = get_d_inf_policy(pi, pi_prime)\n",
    "d_inf_model = get_d_inf_model(tmdp.env.P_mat, tmdp.xi)\n",
    "d_exp_pol = get_d_exp_policy(pi, pi_prime, d)\n",
    "d_exp_model = get_d_exp_model(tmdp.env.P_mat, tmdp.xi, delta)\n",
    "biased = True\n",
    "\n",
    "print(\"Policy advantage: \",pol_adv)\n",
    "print(\"Model advantage: \",model_adv)\n",
    "print(\"D_inf_pol: \",d_inf_pol)\n",
    "print(\"D_inf_model: \",d_inf_model)\n",
    "print(\"D_exp_pol: \",d_exp_pol)\n",
    "print(\"D_exp_model: \",d_exp_model)\n",
    "\n",
    "alpha_tau = compute_alpha_tau(pol_adv, tmdp.gamma, delta_U, d_exp_pol, d_inf_pol)\n",
    "print(\"alpha_tau: \",alpha_tau)\n",
    "alpha_0 = compute_alpha_0(pol_adv, tmdp.tau, tmdp.gamma, delta_U, d_exp_pol, d_inf_pol, d_exp_model, d_inf_model)\n",
    "print(\"alpha_0: \",alpha_0)\n",
    "\n",
    "tau_0 = compute_tau_prime_0(tmdp.tau, model_adv, tmdp.gamma, d_exp_model, delta_U, d_inf_model, biased=biased)\n",
    "print(\"tau_prime_0: \", tau_0)\n",
    "\n",
    "tau_1 = compute_tau_prime_1(tmdp.tau, model_adv, tmdp.gamma, d_exp_model, delta_U, d_inf_model, d_inf_pol, d_exp_pol)\n",
    "print(\"tau_prime_1: \", tau_1)\n",
    "\n"
   ]
  },
  {
   "cell_type": "code",
   "execution_count": 12,
   "metadata": {},
   "outputs": [
    {
     "name": "stdout",
     "output_type": "stream",
     "text": [
      "1018.0000003235248\n",
      "20.000000367767676\n"
     ]
    }
   ],
   "source": [
    "print(delta_U)\n",
    "print(delta_Q)\n"
   ]
  },
  {
   "cell_type": "code",
   "execution_count": 13,
   "metadata": {},
   "outputs": [
    {
     "name": "stdout",
     "output_type": "stream",
     "text": [
      "b_alpha_tau:  -16.941600000000033\n",
      "b_alpha_0:  5127.618499991942\n",
      "b_0_tau:  -16.93296578267975\n",
      "b_1_tau:  -580840.3768914057\n"
     ]
    }
   ],
   "source": [
    "b_alpha_tau = compute_teleport_bound(alpha_tau, tmdp.tau, tmdp.tau, pol_adv, model_adv,\n",
    "                                     tmdp.gamma, d_inf_pol, d_inf_model, \n",
    "                                     d_exp_pol, d_exp_model, delta_U, biased=biased)\n",
    "print(\"b_alpha_tau: \",b_alpha_tau)\n",
    "b_alpha_0 = compute_teleport_bound(alpha_0, tmdp.tau, 0, pol_adv, model_adv,\n",
    "                                     tmdp.gamma, d_inf_pol, d_inf_model, \n",
    "                                     d_exp_pol, d_exp_model, delta_U,biased=biased)\n",
    "print(\"b_alpha_0: \",b_alpha_0)\n",
    "b_0_tau = compute_teleport_bound(0, tmdp.tau, tau_0, pol_adv, model_adv,\n",
    "                                     tmdp.gamma, d_inf_pol, d_inf_model, \n",
    "                                     d_exp_pol, d_exp_model, delta_U,biased=biased)\n",
    "print(\"b_0_tau: \",b_0_tau)\n",
    "b_1_tau = compute_teleport_bound(1, tmdp.tau, tau_1, pol_adv, model_adv,\n",
    "                                     tmdp.gamma, d_inf_pol, d_inf_model, \n",
    "                                     d_exp_pol, d_exp_model, delta_U,biased=biased)\n",
    "print(\"b_1_tau: \",b_1_tau)"
   ]
  },
  {
   "cell_type": "code",
   "execution_count": 14,
   "metadata": {},
   "outputs": [
    {
     "name": "stdout",
     "output_type": "stream",
     "text": [
      "tb_alpha_tau:  -16.941600000000033\n",
      "tb_alpha_0:  5127.618502598015\n",
      "tb_0_tau:  -16.932965318248737\n",
      "tb_1_tau:  17633.466254897612\n"
     ]
    }
   ],
   "source": [
    "tb_alpha_tau = compute_teleport_bound_alpha_tau(tmdp.tau, pol_adv, gamma, d_inf_pol, d_exp_pol, d_exp_model, delta_U,biased=biased)\n",
    "print(\"tb_alpha_tau: \",tb_alpha_tau)\n",
    "tb_alpha_0 = compute_teleport_bound_alpha_0(tmdp.tau, pol_adv, model_adv, gamma, d_inf_pol, d_exp_pol, d_inf_model, d_exp_model, delta_U)\n",
    "print(\"tb_alpha_0: \",tb_alpha_0)\n",
    "\n",
    "tb_0_tau = compute_teleport_bound_0_tau(tmdp.tau, model_adv, gamma, d_inf_model, d_exp_model, delta_U,biased=biased)\n",
    "print(\"tb_0_tau: \",tb_0_tau)\n",
    "\n",
    "tb_1_tau = compute_teleport_bound_1_tau(tmdp.tau, pol_adv, model_adv, gamma, d_inf_model, d_inf_pol, d_exp_model, d_exp_pol, delta_U)\n",
    "print(\"tb_1_tau: \",tb_1_tau)"
   ]
  },
  {
   "cell_type": "code",
   "execution_count": 15,
   "metadata": {},
   "outputs": [
    {
     "name": "stdout",
     "output_type": "stream",
     "text": [
      "tb_alpha_0:  5127.618502598015\n",
      "tb_1_tau:  17633.466254897623\n"
     ]
    }
   ],
   "source": [
    "tb_alpha_0 = compute_teleport_bound_alpha_0_test(tmdp.tau, pol_adv, model_adv, gamma, d_inf_pol, d_exp_pol, d_inf_model, d_exp_model, delta_U)\n",
    "print(\"tb_alpha_0: \",tb_alpha_0)\n",
    "\n",
    "tb_1_tau = compute_teleport_bound_1_tau_test(tmdp.tau, pol_adv, model_adv, gamma, d_inf_model, d_inf_pol, d_exp_model, d_exp_pol, delta_U)\n",
    "print(\"tb_1_tau: \",tb_1_tau)"
   ]
  },
  {
   "cell_type": "code",
   "execution_count": 10,
   "metadata": {},
   "outputs": [
    {
     "ename": "NameError",
     "evalue": "name 'curriculum_MPI' is not defined",
     "output_type": "error",
     "traceback": [
      "\u001b[1;31m---------------------------------------------------------------------------\u001b[0m",
      "\u001b[1;31mNameError\u001b[0m                                 Traceback (most recent call last)",
      "Cell \u001b[1;32mIn[10], line 3\u001b[0m\n\u001b[0;32m      1\u001b[0m q_c \u001b[38;5;241m=\u001b[39m np\u001b[38;5;241m.\u001b[39mzeros((nS, nA))\n\u001b[0;32m      2\u001b[0m tmdp\u001b[38;5;241m.\u001b[39mupdate_tau(\u001b[38;5;241m.5\u001b[39m)\n\u001b[1;32m----> 3\u001b[0m cur_res \u001b[38;5;241m=\u001b[39m \u001b[43mcurriculum_MPI\u001b[49m(tmdp, q_c, alpha \u001b[38;5;241m=\u001b[39m \u001b[38;5;241m0.25\u001b[39m, alpha_pol \u001b[38;5;241m=\u001b[39m \u001b[38;5;241m0.2\u001b[39m, episodes\u001b[38;5;241m=\u001b[39m\u001b[38;5;241m1000000\u001b[39m, batch_nS\u001b[38;5;241m=\u001b[39m\u001b[38;5;241m1\u001b[39m, temperature\u001b[38;5;241m=\u001b[39m\u001b[38;5;241m15.\u001b[39m, biased\u001b[38;5;241m=\u001b[39m\u001b[38;5;28;01mFalse\u001b[39;00m, lam\u001b[38;5;241m=\u001b[39m\u001b[38;5;241m0.\u001b[39m)\n",
      "\u001b[1;31mNameError\u001b[0m: name 'curriculum_MPI' is not defined"
     ]
    }
   ],
   "source": [
    "q_c = np.zeros((nS, nA))\n",
    "tmdp.update_tau(.5)\n",
    "cur_res = curriculum_MPI(tmdp, q_c, alpha = 0.25, alpha_pol = 0.2, episodes=1000000, batch_nS=1, temperature=15., biased=False, lam=0.)\n"
   ]
  },
  {
   "cell_type": "code",
   "execution_count": null,
   "metadata": {},
   "outputs": [],
   "source": []
  },
  {
   "cell_type": "code",
   "execution_count": null,
   "metadata": {},
   "outputs": [],
   "source": []
  },
  {
   "cell_type": "code",
   "execution_count": null,
   "metadata": {},
   "outputs": [
    {
     "name": "stdout",
     "output_type": "stream",
     "text": [
      "[[ 0.  0.]\n",
      " [ 0.  0.]\n",
      " [ 0.  0.]\n",
      " [ 0.  0.]\n",
      " [ 0.  0.]\n",
      " [ 0.  0.]\n",
      " [ 0.  0.]\n",
      " [ 0.  0.]\n",
      " [ 0.  0.]\n",
      " [ 0.  0.]\n",
      " [ 0.  0.]\n",
      " [ 0.  0.]\n",
      " [ 0.  0.]\n",
      " [ 0.  0.]\n",
      " [ 0.  0.]\n",
      " [ 0.  0.]\n",
      " [ 0.  0.]\n",
      " [ 0.  0.]\n",
      " [ 0.  0.]\n",
      " [ 0.  0.]\n",
      " [ 0.  0.]\n",
      " [ 0.  0.]\n",
      " [ 0.  0.]\n",
      " [ 0.  0.]\n",
      " [ 0.  0.]\n",
      " [ 0.  0.]\n",
      " [ 0.  0.]\n",
      " [ 0.  0.]\n",
      " [ 0.  0.]\n",
      " [ 0.  0.]\n",
      " [ 0.  0.]\n",
      " [ 0.  0.]\n",
      " [ 0.  0.]\n",
      " [-1.  1.]\n",
      " [-1.  1.]\n",
      " [-1.  1.]\n",
      " [ 0.  0.]\n",
      " [ 0.  0.]\n",
      " [ 0.  0.]\n",
      " [ 0.  0.]\n",
      " [ 0.  0.]\n",
      " [ 0.  0.]\n",
      " [ 0.  0.]\n",
      " [ 0.  0.]\n",
      " [ 0.  0.]\n",
      " [ 0.  0.]\n",
      " [ 0.  0.]\n",
      " [ 0.  0.]\n",
      " [ 0.  0.]\n",
      " [ 0.  0.]]\n",
      "optimal performance:  70.66229588024339 curriculum performance:  70.50796068609186\n"
     ]
    }
   ],
   "source": [
    "res = bellman_optimal_q(mdp.env.P_mat, mdp.env.reward, mdp.gamma)\n",
    "Q = res[\"Q\"]\n",
    "\n",
    "d = compute_d_from_tau(mdp.env.mu, mdp.env.P_mat, mdp.xi, get_policy(Q), mdp.gamma, 0.)\n",
    "d_curr = compute_d_from_tau(tmdp.env.mu, tmdp.P_mat_tau, tmdp.xi, get_policy(get_softmax_policy(cur_res[\"thetas\"][-1])), tmdp.gamma, 0.)\n",
    "\n",
    "print(get_policy(Q) - get_policy(get_softmax_policy(cur_res[\"thetas\"][-1])))\n",
    "\n",
    "r_s_a = compute_r_s_a(mdp.env.P_mat, mdp.env.reward)\n",
    "\n",
    "j_opt = compute_j(r_s_a, get_policy(Q), d, mdp.gamma)\n",
    "j_curr = compute_j(r_s_a, get_softmax_policy(cur_res[\"Qs\"][-1]), d_curr, tmdp.gamma)\n",
    "print(\"optimal performance: \",j_opt, \"curriculum performance: \",j_curr)"
   ]
  }
 ],
 "metadata": {
  "kernelspec": {
   "display_name": "Python 3",
   "language": "python",
   "name": "python3"
  },
  "language_info": {
   "codemirror_mode": {
    "name": "ipython",
    "version": 3
   },
   "file_extension": ".py",
   "mimetype": "text/x-python",
   "name": "python",
   "nbconvert_exporter": "python",
   "pygments_lexer": "ipython3",
   "version": "3.11.5"
  }
 },
 "nbformat": 4,
 "nbformat_minor": 2
}
