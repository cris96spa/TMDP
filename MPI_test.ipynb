{
 "cells": [
  {
   "cell_type": "code",
   "execution_count": null,
   "metadata": {},
   "outputs": [],
   "source": [
    "import numpy as np\n",
    "from TMDP import TMDP\n",
    "from RiverSwim import RiverSwim\n",
    "\n",
    "from algorithms import *\n",
    "from model_functions import *\n",
    "\n",
    "import matplotlib.pyplot as plt\n",
    "\n",
    "\n",
    "#np.set_printoptions(precision=4)\n",
    "import math\n",
    "from utils import *\n",
    "\n",
    "nS = 50\n",
    "nA = 2\n",
    "seed = get_current_seed()\n",
    "seed = 44697628841978080856580175700798794719\n",
    "gamma = .9\n",
    "mu = np.ones(nS) * 1/nS\n",
    "river = RiverSwim(nS, mu, small=5, large=1000, seed=seed)\n",
    "tau = 1.\n",
    "xi = np.ones(nS) * 1/nS\n",
    "tmdp = TMDP(river, xi, tau=tau, gamma=gamma, seed=seed)\n",
    "mdp = TMDP(river, xi, tau=0., gamma=gamma, seed=seed)\n",
    "tmdp_1 = TMDP(river, xi, tau=.5, gamma=gamma, seed=seed)\n"
   ]
  },
  {
   "cell_type": "code",
   "execution_count": null,
   "metadata": {},
   "outputs": [],
   "source": [
    "\n",
    "res = bellman_optimal_q(tmdp.P_mat_tau, tmdp.env.reward, tmdp.gamma)\n",
    "Q = res[\"Q\"]\n",
    "res_1 = bellman_optimal_q(tmdp_1.P_mat_tau, tmdp_1.env.reward, tmdp_1.gamma)\n",
    "Q_1 = res_1[\"Q\"]\n",
    "pi = get_policy(Q)\n",
    "V = compute_V_from_Q(Q, pi)\n",
    "U = compute_U_from_V(tmdp.env.reward, tmdp.gamma, V)\n",
    "pi_prime = get_policy(Q_1)\n",
    "pol_adv_func = compute_policy_advantage_function(Q, V)\n",
    "print(pol_adv_func)\n",
    "model_adv_func = compute_model_advantage_function(U, Q)\n",
    "print(model_adv_func)"
   ]
  },
  {
   "cell_type": "code",
   "execution_count": null,
   "metadata": {},
   "outputs": [],
   "source": [
    "rel_pol_adv = compute_relative_policy_advantage_function(pi, pi_prime, Q)\n",
    "print(rel_pol_adv)\n",
    "rel_model_adv = compute_relative_model_advantage_function(tmdp.env.P_mat, tmdp.xi, U)\n",
    "print((tmdp.tau - 0.4)*rel_model_adv)"
   ]
  },
  {
   "cell_type": "code",
   "execution_count": null,
   "metadata": {},
   "outputs": [],
   "source": [
    "d = compute_d_from_tau(tmdp.env.mu, tmdp.env.P_mat, tmdp.xi, pi, tmdp.gamma, tmdp.tau)\n",
    "delta = compute_delta(d, pi)\n",
    "print(d)\n",
    "print(delta)"
   ]
  },
  {
   "cell_type": "code",
   "execution_count": null,
   "metadata": {},
   "outputs": [],
   "source": [
    "pol_adv = compute_expected_policy_advantage(rel_pol_adv, d)\n",
    "model_adv = compute_expected_model_advantage(rel_model_adv, delta)\n",
    "delta_Q = get_sup_difference_Q(Q)\n",
    "delta_U = get_sup_difference_U(U)\n",
    "d_inf_pol = get_d_inf_policy(pi, pi_prime)\n",
    "d_inf_model = get_d_inf_model(tmdp.env.P_mat, tmdp.xi)\n",
    "d_exp_pol = get_d_exp_policy(pi, pi_prime, d)\n",
    "d_exp_model = get_d_exp_model(tmdp.env.P_mat, tmdp.xi, delta)\n",
    "biased = True\n",
    "\n",
    "print(\"Policy advantage: \",pol_adv)\n",
    "print(\"Model advantage: \",model_adv)\n",
    "print(\"D_inf_pol: \",d_inf_pol)\n",
    "print(\"D_inf_model: \",d_inf_model)\n",
    "print(\"D_exp_pol: \",d_exp_pol)\n",
    "print(\"D_exp_model: \",d_exp_model)\n",
    "\n",
    "alpha_tau = compute_alpha_tau(pol_adv, tmdp.gamma, delta_U, d_exp_pol, d_inf_pol)\n",
    "print(\"alpha_tau: \",alpha_tau)\n",
    "alpha_0 = compute_alpha_0(pol_adv, tmdp.tau, tmdp.gamma, delta_U, d_exp_pol, d_inf_pol, d_exp_model, d_inf_model)\n",
    "print(\"alpha_0: \",alpha_0)\n",
    "\n",
    "tau_0 = compute_tau_prime_0(tmdp.tau, model_adv, tmdp.gamma, d_exp_model, delta_U, d_inf_model, biased=biased)\n",
    "print(\"tau_prime_0: \", tau_0)\n",
    "\n",
    "tau_1 = compute_tau_prime_1(tmdp.tau, model_adv, tmdp.gamma, d_exp_model, delta_U, d_inf_model, d_inf_pol, d_exp_pol)\n",
    "print(\"tau_prime_1: \", tau_1)\n",
    "\n"
   ]
  },
  {
   "cell_type": "code",
   "execution_count": null,
   "metadata": {},
   "outputs": [],
   "source": [
    "print(delta_U)\n",
    "print(delta_Q)\n"
   ]
  },
  {
   "cell_type": "code",
   "execution_count": null,
   "metadata": {},
   "outputs": [],
   "source": [
    "b_alpha_tau = compute_teleport_bound(alpha_tau, tmdp.tau, tmdp.tau, pol_adv, model_adv,\n",
    "                                     tmdp.gamma, d_inf_pol, d_inf_model, \n",
    "                                     d_exp_pol, d_exp_model, delta_U, biased=biased)\n",
    "print(\"b_alpha_tau: \",b_alpha_tau)\n",
    "b_alpha_0 = compute_teleport_bound(alpha_0, tmdp.tau, 0, pol_adv, model_adv,\n",
    "                                     tmdp.gamma, d_inf_pol, d_inf_model, \n",
    "                                     d_exp_pol, d_exp_model, delta_U,biased=biased)\n",
    "print(\"b_alpha_0: \",b_alpha_0)\n",
    "b_0_tau = compute_teleport_bound(0, tmdp.tau, tau_0, pol_adv, model_adv,\n",
    "                                     tmdp.gamma, d_inf_pol, d_inf_model, \n",
    "                                     d_exp_pol, d_exp_model, delta_U,biased=biased)\n",
    "print(\"b_0_tau: \",b_0_tau)\n",
    "b_1_tau = compute_teleport_bound(1, tmdp.tau, tau_1, pol_adv, model_adv,\n",
    "                                     tmdp.gamma, d_inf_pol, d_inf_model, \n",
    "                                     d_exp_pol, d_exp_model, delta_U,biased=biased)\n",
    "print(\"b_1_tau: \",b_1_tau)"
   ]
  },
  {
   "cell_type": "code",
   "execution_count": null,
   "metadata": {},
   "outputs": [],
   "source": [
    "tb_alpha_tau = compute_teleport_bound_alpha_tau(tmdp.tau, pol_adv, gamma, d_inf_pol, d_exp_pol, d_exp_model, delta_U,biased=biased)\n",
    "print(\"tb_alpha_tau: \",tb_alpha_tau)\n",
    "tb_alpha_0 = compute_teleport_bound_alpha_0(tmdp.tau, pol_adv, model_adv, gamma, d_inf_pol, d_exp_pol, d_inf_model, d_exp_model, delta_U)\n",
    "print(\"tb_alpha_0: \",tb_alpha_0)\n",
    "\n",
    "tb_0_tau = compute_teleport_bound_0_tau(tmdp.tau, model_adv, gamma, d_inf_model, d_exp_model, delta_U,biased=biased)\n",
    "print(\"tb_0_tau: \",tb_0_tau)\n",
    "\n",
    "tb_1_tau = compute_teleport_bound_1_tau(tmdp.tau, pol_adv, model_adv, gamma, d_inf_model, d_inf_pol, d_exp_model, d_exp_pol, delta_U)\n",
    "print(\"tb_1_tau: \",tb_1_tau)"
   ]
  },
  {
   "cell_type": "code",
   "execution_count": null,
   "metadata": {},
   "outputs": [],
   "source": [
    "tb_alpha_0 = compute_teleport_bound_alpha_0_test(tmdp.tau, pol_adv, model_adv, gamma, d_inf_pol, d_exp_pol, d_inf_model, d_exp_model, delta_U)\n",
    "print(\"tb_alpha_0: \",tb_alpha_0)\n",
    "\n",
    "tb_1_tau = compute_teleport_bound_1_tau_test(tmdp.tau, pol_adv, model_adv, gamma, d_inf_model, d_inf_pol, d_exp_model, d_exp_pol, delta_U)\n",
    "print(\"tb_1_tau: \",tb_1_tau)"
   ]
  },
  {
   "cell_type": "code",
   "execution_count": null,
   "metadata": {},
   "outputs": [],
   "source": [
    "q_c = np.zeros((nS, nA))\n",
    "tmdp.update_tau(.5)\n",
    "cur_res = curriculum_MPI(tmdp, q_c, alpha = 0.25, alpha_pol = 0.2, episodes=1000000, batch_nS=1, temperature=15., biased=False, lam=0.)\n"
   ]
  },
  {
   "cell_type": "code",
   "execution_count": null,
   "metadata": {},
   "outputs": [],
   "source": []
  },
  {
   "cell_type": "code",
   "execution_count": null,
   "metadata": {},
   "outputs": [],
   "source": []
  },
  {
   "cell_type": "code",
   "execution_count": null,
   "metadata": {},
   "outputs": [],
   "source": [
    "res = bellman_optimal_q(mdp.env.P_mat, mdp.env.reward, mdp.gamma)\n",
    "Q = res[\"Q\"]\n",
    "\n",
    "d = compute_d_from_tau(mdp.env.mu, mdp.env.P_mat, mdp.xi, get_policy(Q), mdp.gamma, 0.)\n",
    "d_curr = compute_d_from_tau(tmdp.env.mu, tmdp.P_mat_tau, tmdp.xi, get_policy(get_softmax_policy(cur_res[\"thetas\"][-1])), tmdp.gamma, 0.)\n",
    "\n",
    "print(get_policy(Q) - get_policy(get_softmax_policy(cur_res[\"thetas\"][-1])))\n",
    "\n",
    "r_s_a = compute_r_s_a(mdp.env.P_mat, mdp.env.reward)\n",
    "\n",
    "j_opt = compute_j(r_s_a, get_policy(Q), d, mdp.gamma)\n",
    "j_curr = compute_j(r_s_a, get_softmax_policy(cur_res[\"Qs\"][-1]), d_curr, tmdp.gamma)\n",
    "print(\"optimal performance: \",j_opt, \"curriculum performance: \",j_curr)"
   ]
  }
 ],
 "metadata": {
  "kernelspec": {
   "display_name": "Python 3",
   "language": "python",
   "name": "python3"
  },
  "language_info": {
   "codemirror_mode": {
    "name": "ipython",
    "version": 3
   },
   "file_extension": ".py",
   "mimetype": "text/x-python",
   "name": "python",
   "nbconvert_exporter": "python",
   "pygments_lexer": "ipython3",
   "version": "3.11.5"
  }
 },
 "nbformat": 4,
 "nbformat_minor": 2
}
