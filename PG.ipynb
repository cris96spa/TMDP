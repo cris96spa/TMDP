{
 "cells": [
  {
   "cell_type": "code",
   "execution_count": null,
   "metadata": {},
   "outputs": [],
   "source": [
    "import numpy as np\n",
    "from TMDP import TMDP\n",
    "from RiverSwim import RiverSwim\n",
    "\n",
    "#from algorithms import *\n",
    "from PG_algorithms import *\n",
    "from model_functions import *\n",
    "import gym\n",
    "import matplotlib.pyplot as plt\n",
    "\n",
    "import torch\n",
    "import torch.nn as nn\n",
    "from torch.nn import functional as F\n",
    "\n",
    "#np.set_printoptions(precision=4)\n",
    "import math\n",
    "from utils import *\n",
    "from ActorCritic import *\n",
    "from ReplayBuffer import ReplayBuffer\n",
    "\n",
    "nS = 10\n",
    "nA = 2\n",
    "seed = get_current_seed()\n",
    "seed = 44697628841978080856580175700798794719\n",
    "gamma = .9\n",
    "mu = np.ones(nS) * 1/nS\n",
    "river = RiverSwim(nS, mu, small=5, large=1000, seed=seed)\n",
    "tau = 1.\n",
    "xi = np.ones(nS) * 1/nS\n",
    "tmdp = TMDP(river, xi, tau=tau, gamma=gamma, seed=seed)\n",
    "mdp = TMDP(river, xi, tau=0., gamma=gamma, seed=seed)\n",
    "tmdp_1 = TMDP(river, xi, tau=.5, gamma=gamma, seed=seed)\n"
   ]
  },
  {
   "cell_type": "code",
   "execution_count": null,
   "metadata": {},
   "outputs": [],
   "source": [
    "rep_buffer = ReplayBuffer(max_size=int(10e5), input_shape=(1,), seed=seed)"
   ]
  },
  {
   "cell_type": "code",
   "execution_count": null,
   "metadata": {},
   "outputs": [],
   "source": [
    "device = torch.device(\"cuda\" if torch.cuda.is_available() else \"cpu\")\n",
    "ref_policy = ActorNet(nS, nA, hidden_dim=64).to(device)\n",
    "policy_pi = ActorNet(nS, nA, hidden_dim=64).to(device)\n",
    "\n",
    "v_net = ValueNet(nS, hidden_dim=64).to(device)\n",
    "q_net = QNet(nS, nA, hidden_dim=64).to(device)"
   ]
  },
  {
   "cell_type": "markdown",
   "metadata": {},
   "source": []
  },
  {
   "cell_type": "code",
   "execution_count": null,
   "metadata": {},
   "outputs": [],
   "source": [
    "pol_opt = torch.optim.AdamW(ref_policy.parameters(), lr=1e-3)\n",
    "v_opt = torch.optim.AdamW(v_net.parameters(), lr=1e-3)\n",
    "q_opt = torch.optim.AdamW(q_net.parameters(), lr=1e-3)\n"
   ]
  },
  {
   "cell_type": "code",
   "execution_count": null,
   "metadata": {},
   "outputs": [],
   "source": [
    "\n",
    "tmdp.update_tau(0.6)\n",
    "tmdp.reset()\n",
    "cur_res = curriculum_AC_NN(tmdp, policy_pi, ref_policy, v_net, q_net,\n",
    "                           pol_opt, v_opt, q_opt, rep_buffer, \n",
    "                           alpha=.02, alpha_u=.02, episodes=150000, \n",
    "                           batch_size=4, biased=False)"
   ]
  },
  {
   "cell_type": "code",
   "execution_count": null,
   "metadata": {},
   "outputs": [],
   "source": [
    "print(ref_policy.get_probabilities())\n",
    "print(q_net.get_values())"
   ]
  },
  {
   "cell_type": "code",
   "execution_count": null,
   "metadata": {},
   "outputs": [],
   "source": [
    "res = bellman_optimal_q(tmdp.env.P_mat, tmdp.env.reward, tmdp.gamma)\n",
    "Q = res[\"Q\"]\n",
    "\n",
    "d = compute_d_from_tau(tmdp.env.mu, tmdp.env.P_mat, tmdp.xi, get_policy(Q), tmdp.gamma, 0.)\n",
    "d_curr = compute_d_from_tau(tmdp.env.mu, tmdp.P_mat_tau, tmdp.xi, get_policy(ref_policy.get_probabilities()), tmdp.gamma, 0.)\n",
    "\n",
    "print(get_policy(Q))\n",
    "print(get_policy(ref_policy.get_probabilities()))\n",
    "\n",
    "r_s_a = compute_r_s_a(tmdp.env.P_mat, tmdp.env.reward)\n",
    "\n",
    "j_opt = compute_j(r_s_a, get_policy(Q), d, tmdp.gamma)\n",
    "j_curr = compute_j(r_s_a, get_policy(ref_policy.get_probabilities()), d_curr, tmdp.gamma)\n",
    "print(\"optimal performance: \",j_opt, \"curriculum performance: \",j_curr)"
   ]
  },
  {
   "cell_type": "code",
   "execution_count": null,
   "metadata": {},
   "outputs": [],
   "source": [
    "import matplotlib.pyplot as plt\n",
    "reward_records = cur_res[\"reward_records\"]\n",
    "# Generate recent 50 interval average\n",
    "average_reward = []\n",
    "for idx in range(len(reward_records)):\n",
    "    avg_list = np.empty(shape=(1,), dtype=int)\n",
    "    if idx < 50:\n",
    "        avg_list = reward_records[:idx+1]\n",
    "    else:\n",
    "        avg_list = reward_records[idx-49:idx+1]\n",
    "    average_reward.append(np.average(avg_list))\n",
    "# Plot\n",
    "#plt.plot(reward_records)\n",
    "plt.plot(average_reward)\n"
   ]
  }
 ],
 "metadata": {
  "kernelspec": {
   "display_name": "Python 3",
   "language": "python",
   "name": "python3"
  },
  "language_info": {
   "codemirror_mode": {
    "name": "ipython",
    "version": 3
   },
   "file_extension": ".py",
   "mimetype": "text/x-python",
   "name": "python",
   "nbconvert_exporter": "python",
   "pygments_lexer": "ipython3",
   "version": "3.11.5"
  }
 },
 "nbformat": 4,
 "nbformat_minor": 2
}
