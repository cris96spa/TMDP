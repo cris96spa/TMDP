{
 "cells": [
  {
   "cell_type": "code",
   "execution_count": null,
   "metadata": {},
   "outputs": [],
   "source": [
    "import numpy as np\n",
    "from model_functions import *\n",
    "from policy_utils import *\n",
    "import matplotlib.pyplot as plt\n",
    "import gymnasium as gym\n",
    "\n",
    "from algorithms import *\n",
    "from FrozenLake import *\n",
    "import pandas as pd\n",
    "import constants\n",
    "import math\n",
    "from policy_utils import *\n",
    "import torch\n",
    "import mlflow\n",
    "from TeleportPPO import TeleportPPO\n",
    "import optuna\n",
    "from experiment_result_utils import *\n",
    "from env_register import *\n",
    "from stable_baselines3.common.vec_env import SubprocVecEnv, DummyVecEnv\n",
    "from stable_baselines3.common.env_util import make_vec_env\n",
    "from stable_baselines3 import PPO\n",
    "from TMDP_v1 import *\n",
    "from TeleportRolloutBuffer import *\n",
    "\n",
    "nrows = 20\n",
    "nS = nrows**2\n",
    "nA = 4\n",
    "seed = constants.SEEDS[0]\n",
    "set_policy_seed(seed)\n",
    "num_bins = 0\n",
    "gamma = .9999999\n",
    "tau = 0.2\n",
    "dense_reward = False\n",
    "reward_shape = False\n",
    "shape_range=(-1,0)\n",
    "goal_reward = 1.\n",
    "is_slippery=False\n",
    "env = FrozenLakeEnv(is_slippery=is_slippery, seed=seed, \n",
    "                        desc=generate_random_map(nrows, seed=seed), \n",
    "                        reward_shape=reward_shape,\n",
    "                        num_bins=num_bins,\n",
    "                        dense_reward=dense_reward,\n",
    "                        shape_range=shape_range,\n",
    "                        goal_reward=goal_reward,\n",
    "                        )\n",
    "xi = np.ones(env.nS) * 1/env.nS\n"
   ]
  },
  {
   "cell_type": "code",
   "execution_count": null,
   "metadata": {},
   "outputs": [],
   "source": [
    "def linear_schedule(initial_value):\n",
    "    \"\"\"\n",
    "    Linear learning rate schedule.\n",
    "    :param initial_value: (float) Initial learning rate.\n",
    "    :return: (function) Schedule that computes the current learning rate.\n",
    "    \"\"\"\n",
    "    def schedule(progress_remaining):\n",
    "        \"\"\"\n",
    "        Progress will decrease from 1 (beginning) to 0.\n",
    "        :param progress_remaining: (float)\n",
    "        :return: (float) current learning rate\n",
    "        \"\"\"\n",
    "        return progress_remaining * initial_value\n",
    "\n",
    "    return schedule"
   ]
  },
  {
   "cell_type": "code",
   "execution_count": null,
   "metadata": {},
   "outputs": [],
   "source": [
    "env_kwargs = dict(env=env, xi=xi, tau=tau, gamma=gamma)\n",
    "tmdp = TMDP(**env_kwargs)"
   ]
  },
  {
   "cell_type": "code",
   "execution_count": null,
   "metadata": {},
   "outputs": [],
   "source": [
    "vec_env = DummyVecEnv([lambda: tmdp])\n",
    "model_kwargs = {\n",
    "    'rollout_buffer_class': TeleportRolloutBuffer,\n",
    "    'verbose': 0,\n",
    "    'learning_rate': linear_schedule(0.15),\n",
    "    'gamma': gamma,\n",
    "    'n_steps': 2048,\n",
    "    'batch_size': 256,\n",
    "    'ent_coef': 0.01,\n",
    "    'gae_lambda': 0.95,\n",
    "    'clip_range': 0.2,\n",
    "    'n_epochs': 5,\n",
    "    'tensorboard_log':'./ppo_frozenlake_tensorboard/',\n",
    "}\n",
    "\n",
    "learn_kwargs = {\n",
    "    'total_timesteps': 12288000,\n",
    "    'callback': TeleportFilterCallback(),\n",
    "    'eps_shift': 0.003,\n",
    "    'max_eps_model': 0.0001,\n",
    "    'check_convergence': False,\n",
    "    'static_curriculum': True,\n",
    "}\n",
    "model = TeleportPPO(\"MlpPolicy\", vec_env, **model_kwargs)\n",
    "model.learn(**learn_kwargs)"
   ]
  },
  {
   "cell_type": "code",
   "execution_count": null,
   "metadata": {},
   "outputs": [],
   "source": [
    "obs = vec_env.reset()\n",
    "done = False\n",
    "truncated = False\n",
    "tmdp.env.render_mode = 'human'\n",
    "tmdp.update_tau(0.)\n",
    "step = 0\n",
    "while not done and not truncated:\n",
    "    action, _states = model.predict(obs, deterministic=True)\n",
    "    print(action)\n",
    "    obs, reward, done, info = vec_env.step(action)\n",
    "    vec_env.render()\n",
    "    step += 1\n",
    "    if step > 100:\n",
    "        truncated = True\n",
    "    print(step, reward, done, info)\n",
    "#vec_env.close()"
   ]
  },
  {
   "cell_type": "markdown",
   "metadata": {},
   "source": []
  },
  {
   "cell_type": "code",
   "execution_count": null,
   "metadata": {},
   "outputs": [],
   "source": [
    "model.save(\"frozenlake_ppo\")"
   ]
  }
 ],
 "metadata": {
  "kernelspec": {
   "display_name": "tmdp",
   "language": "python",
   "name": "python3"
  },
  "language_info": {
   "codemirror_mode": {
    "name": "ipython",
    "version": 3
   },
   "file_extension": ".py",
   "mimetype": "text/x-python",
   "name": "python",
   "nbconvert_exporter": "python",
   "pygments_lexer": "ipython3",
   "version": "3.9.19"
  }
 },
 "nbformat": 4,
 "nbformat_minor": 2
}
