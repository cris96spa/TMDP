{
 "cells": [
  {
   "cell_type": "code",
   "execution_count": null,
   "metadata": {},
   "outputs": [],
   "source": [
    "import numpy as np\n",
    "from TMDP import TMDP\n",
    "from algorithms import *\n",
    "from model_functions import *\n",
    "from algorithms import *\n",
    "import matplotlib.pyplot as plt\n",
    "import gymnasium as gym\n",
    "from FrozenLake import *\n",
    "import pandas as pd\n",
    "#np.set_printoptions(precision=4)\n",
    "import math\n",
    "from utils import *\n",
    "\n",
    "import torch\n",
    "import mlflow\n",
    "from CurriculumPMPO import CurriculumPMPO\n",
    "import optuna\n",
    "\n",
    "nrows = 30\n",
    "nS = nrows**2\n",
    "nA = 4\n",
    "seed = get_current_seed()\n",
    "\n",
    "gamma = .999999999\n",
    "tau = 0.\n",
    "num_bins = 10\n",
    "#tmdp = TMDP(river, xi, tau=tau, gamma=gamma, seed=seed)\n",
    "#mdp = TMDP(river, xi, tau=0., gamma=gamma, seed=seed)\n",
    "env = FrozenLakeEnv(is_slippery=False, seed=seed, \n",
    "                    desc=generate_random_map(nrows, seed=seed), \n",
    "                    reward_shape=True,\n",
    "                    num_bins=num_bins#, render_mode=\"human\"\n",
    "                    )\n",
    "xi = np.ones(env.nS) * 1/env.nS\n",
    "tmdp = TMDP(env, xi, tau=tau, gamma=gamma, seed=seed)"
   ]
  },
  {
   "cell_type": "code",
   "execution_count": null,
   "metadata": {},
   "outputs": [],
   "source": [
    "folder_path = \"./models/CurrPMPO/\"\n",
    "model_path = folder_path + \"FrozenLake{}x{}_{}\".format(nrows,nrows,num_bins)"
   ]
  },
  {
   "cell_type": "code",
   "execution_count": null,
   "metadata": {},
   "outputs": [],
   "source": [
    "res = bellman_optimal_q(tmdp.env.P_mat, tmdp.env.reward, tmdp.gamma)\n",
    "Q = res[\"Q\"]\n",
    "V = compute_V_from_Q(Q, get_policy(Q))\n",
    "j_opt = compute_expected_j(V, tmdp.env.mu)\n",
    "print(\"optimal performance: \",j_opt)"
   ]
  },
  {
   "cell_type": "code",
   "execution_count": null,
   "metadata": {},
   "outputs": [],
   "source": [
    "episodes = 7900000\n",
    "final_temp=1\n",
    "lam = 1\n",
    "batch_size = 32\n",
    "param_decay=True\n",
    "eps_ppo = 0.2\n",
    "eps_model = compute_eps_model(gamma, tau, 790000)\n",
    "epochs = 1\n",
    "model_lr = 0.35869281717397965\n",
    "pol_lr = 0.343385176875263757\n",
    "temp = 5\n",
    "tuning_rate = 0.99"
   ]
  },
  {
   "cell_type": "code",
   "execution_count": null,
   "metadata": {},
   "outputs": [],
   "source": [
    "curr_PMPO = CurriculumPMPO(tmdp)\n",
    "tmdp.update_tau(tau) # Reset the teleport rate        "
   ]
  },
  {
   "cell_type": "code",
   "execution_count": null,
   "metadata": {},
   "outputs": [],
   "source": [
    "curr_PMPO.load_model(model_path)"
   ]
  },
  {
   "cell_type": "code",
   "execution_count": null,
   "metadata": {},
   "outputs": [],
   "source": [
    "#V_Q = compute_V_from_Q(Q, get_policy(curr_PMPO.Q))\n",
    "V_curr = compute_V_from_Q(Q, get_softmax_policy(curr_PMPO.theta, temperature=1e-4))\n",
    "\n",
    "j_curr = compute_expected_j(V_curr, tmdp.env.mu)\n",
    "#j_q_curr = compute_expected_j(V_Q, tmdp.env.mu)\n",
    "j_opt = compute_expected_j(V, tmdp.env.mu)\n",
    "\n",
    "print(\"optimal performance: \",j_opt)\n",
    "print(\"curriculum performance: \", j_curr)\n",
    "#print(\"Q curriculum performance: \",j_q_curr)\n"
   ]
  },
  {
   "cell_type": "code",
   "execution_count": null,
   "metadata": {},
   "outputs": [],
   "source": [
    "import matplotlib.pyplot as plt\n",
    "rewards = curr_PMPO.reward_records\n",
    "# Generate recent 50 interval average\n",
    "avg_rewards = []\n",
    "for idx in range(len(rewards)):\n",
    "    avg_list = np.empty(shape=(1,), dtype=int)\n",
    "    if idx < 50:\n",
    "        avg_list = rewards[:idx+1]\n",
    "    else:\n",
    "        avg_list = rewards[idx-49:idx+1]\n",
    "    avg_rewards.append(np.average(avg_list))\n",
    "# Plot\n",
    "#plt.plot(rewards)\n",
    "plt.plot(avg_rewards)"
   ]
  },
  {
   "cell_type": "code",
   "execution_count": null,
   "metadata": {},
   "outputs": [],
   "source": [
    "import matplotlib.pyplot as plt\n",
    "import numpy as np\n",
    "\n",
    "exp_performances = curr_PMPO.exp_performances\n",
    "# Generate recent 50 interval average\n",
    "avg_performances = []\n",
    "std_errors = []\n",
    "\n",
    "for idx in range(len(exp_performances)):\n",
    "    if idx < 500:\n",
    "        avg_list = exp_performances[:idx+1]\n",
    "    else:\n",
    "        avg_list = exp_performances[idx-499:idx+1]\n",
    "\n",
    "    average = np.mean(avg_list)\n",
    "    std_dev = np.std(avg_list)\n",
    "    n_samples = len(avg_list)\n",
    "    sem = std_dev / np.sqrt(n_samples)  # Standard Error of the Mean\n",
    "    std_errors.append(sem)\n",
    "\n",
    "    avg_performances.append(average)\n",
    "\n",
    "# Compute the upper and lower bounds for the 95% confidence interval\n",
    "ci = 1.96  # Z-score for 95% confidence\n",
    "upper_bound = [avg + ci * sem for avg, sem in zip(avg_performances, std_errors)]\n",
    "lower_bound = [avg - ci * sem for avg, sem in zip(avg_performances, std_errors)]\n",
    "\n",
    "# Plot\n",
    "plt.figure(figsize=(10, 5))\n",
    "#plt.plot(exp_performances, label='Exp Performances')\n",
    "plt.plot(avg_performances, label='Moving Average', color='r')\n",
    "plt.fill_between(range(len(avg_performances)), lower_bound, upper_bound, color='r', alpha=0.2, label='95% Confidence Interval')\n",
    "plt.legend()\n",
    "plt.title('Experiment Performances with Moving Average and Confidence Interval')\n",
    "plt.xlabel('Index')\n",
    "plt.ylabel('Performance')\n",
    "plt.show()\n"
   ]
  },
  {
   "cell_type": "code",
   "execution_count": null,
   "metadata": {},
   "outputs": [],
   "source": [
    "import numpy as np\n",
    "rew = [[2,4,6,10], [3,5,7,9]]\n",
    "max = np.max(rew, axis=0)\n",
    "print(max)\n",
    "avg = np.average(rew, axis=0)\n",
    "print(avg)"
   ]
  },
  {
   "cell_type": "code",
   "execution_count": null,
   "metadata": {},
   "outputs": [],
   "source": []
  },
  {
   "cell_type": "code",
   "execution_count": null,
   "metadata": {},
   "outputs": [],
   "source": []
  },
  {
   "cell_type": "code",
   "execution_count": null,
   "metadata": {},
   "outputs": [],
   "source": [
    "test_rewards = test_policies(tmdp, curr_PMPO.thetas, episodes=1000, temp=1e-4)\n",
    "plt.plot(test_rewards)"
   ]
  },
  {
   "cell_type": "markdown",
   "metadata": {},
   "source": []
  }
 ],
 "metadata": {
  "kernelspec": {
   "display_name": "Python 3",
   "language": "python",
   "name": "python3"
  },
  "language_info": {
   "codemirror_mode": {
    "name": "ipython",
    "version": 3
   },
   "file_extension": ".py",
   "mimetype": "text/x-python",
   "name": "python",
   "nbconvert_exporter": "python",
   "pygments_lexer": "ipython3",
   "version": "3.11.5"
  }
 },
 "nbformat": 4,
 "nbformat_minor": 2
}
