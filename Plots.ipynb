{
 "cells": [
  {
   "cell_type": "code",
   "execution_count": null,
   "metadata": {},
   "outputs": [],
   "source": [
    "import numpy as np\n",
    "import matplotlib.pyplot as plt\n",
    "from matplotlib.ticker import ScalarFormatter, FuncFormatter, MaxNLocator\n",
    "import gymnasium as gym\n",
    "import math\n",
    "import mlflow\n",
    "from mlflow.tracking import MlflowClient\n",
    "import optuna\n",
    "import os\n",
    "\n",
    "from algorithms import *\n",
    "from model_functions import *\n",
    "from policy_utils import *\n",
    "from experiment_result_utils import *\n",
    "from constants import *\n",
    "np.random.seed(constants.SEEDS[3])\n"
   ]
  },
  {
   "cell_type": "code",
   "execution_count": null,
   "metadata": {},
   "outputs": [],
   "source": [
    "nS = 20\n",
    "nrows = 20\n",
    "num_bins = 10\n",
    "experiment_name = f\"FrozenLake_{nrows}x{nrows}_{num_bins}\"\n",
    "#experiment_name = f\"RiverSwim{nS}\"\n",
    "\n",
    "mlflow.set_tracking_uri(MLFLOW_URI)\n",
    "experiment_id = get_or_create_experiment(experiment_name)\n",
    "mlflow.set_experiment(experiment_name)\n"
   ]
  },
  {
   "cell_type": "code",
   "execution_count": null,
   "metadata": {},
   "outputs": [],
   "source": [
    "results = get_parent_artifacts(experiment_id=experiment_id)"
   ]
  },
  {
   "cell_type": "code",
   "execution_count": null,
   "metadata": {},
   "outputs": [],
   "source": [
    "from matplotlib.ticker import ScalarFormatter, FuncFormatter"
   ]
  },
  {
   "cell_type": "code",
   "execution_count": null,
   "metadata": {},
   "outputs": [],
   "source": [
    "def plot_experiment_results(results, title=None, figsize=(8, 5), \n",
    "                            reduce:bool=False, extend:bool=False,\n",
    "                            conf_int:bool=False, x_scale:int=500):\n",
    "    plt.close('all')\n",
    "    rew = [r[\"tests_rewards\"] for r in results]\n",
    "    reduced_len = np.min([len(r[0]) for r in rew])\n",
    "    fig, ax = plt.subplots(figsize=figsize)\n",
    "\n",
    "    title = \"Average Return\" if title is None else title\n",
    "    for i, result in enumerate(results):\n",
    "        rewards = result[\"tests_rewards\"]\n",
    "        label = result[\"label\"]\n",
    "        avg_rewards = np.average(rewards, axis=0)\n",
    "        if reduce:\n",
    "            avg_rewards = avg_rewards[:reduced_len]\n",
    "\n",
    "        x_values = np.arange(len(avg_rewards)) * x_scale\n",
    "        ax.plot(x_values, avg_rewards, label=label, c=COLORS[i], marker = MARKERS[i%len(MARKERS)],\n",
    "                markevery=MARKER_FREQUENCY[i%len(MARKER_FREQUENCY)],\n",
    "                linestyle=LINE_STYLES[i%len(LINE_STYLES)],\n",
    "                )\n",
    "        \n",
    "        if conf_int:\n",
    "            std_dev = np.std(rewards, axis=0)\n",
    "            if reduce:\n",
    "                std_dev = std_dev[:reduced_len]\n",
    "            \n",
    "            n_samples = len(rewards)\n",
    "            std_err = std_dev / np.sqrt(n_samples)\n",
    "            ci = 1.96\n",
    "            upper_bound = avg_rewards + ci * std_err\n",
    "            lower_bound = avg_rewards - ci * std_err\n",
    "            plt.fill_between(x_values, lower_bound, upper_bound, color=COLORS[i], alpha=0.2)\n",
    "    \n",
    "   \n",
    "    ax.legend(loc=\"lower right\", framealpha=1.)\n",
    "    ax.set_title(title)\n",
    "    ax.set_xlabel('Million Episodes')\n",
    "    ax.set_ylabel('Avg Return')\n",
    "    ax.grid()\n",
    "    plt.show()\n",
    "    return fig\n"
   ]
  },
  {
   "cell_type": "code",
   "execution_count": null,
   "metadata": {},
   "outputs": [],
   "source": [
    "fig = plot_experiment_results(results, reduce=True, conf_int=True)\n"
   ]
  }
 ],
 "metadata": {
  "kernelspec": {
   "display_name": "mlflow_env",
   "language": "python",
   "name": "python3"
  },
  "language_info": {
   "codemirror_mode": {
    "name": "ipython",
    "version": 3
   },
   "file_extension": ".py",
   "mimetype": "text/x-python",
   "name": "python",
   "nbconvert_exporter": "python",
   "pygments_lexer": "ipython3",
   "version": "3.11.5"
  }
 },
 "nbformat": 4,
 "nbformat_minor": 2
}
