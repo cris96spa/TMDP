{
 "cells": [
  {
   "cell_type": "code",
   "execution_count": null,
   "metadata": {},
   "outputs": [],
   "source": [
    "import numpy as np\n",
    "import matplotlib.pyplot as plt\n",
    "from matplotlib.ticker import ScalarFormatter, FuncFormatter, MaxNLocator\n",
    "import gymnasium as gym\n",
    "import math\n",
    "import mlflow\n",
    "from mlflow.tracking import MlflowClient\n",
    "import optuna\n",
    "import os\n",
    "from scipy.ndimage import gaussian_filter1d\n",
    "\n",
    "from algorithms import *\n",
    "from model_functions import *\n",
    "from policy_utils import *\n",
    "from experiment_result_utils import *\n",
    "from constants import *\n",
    "np.random.seed(constants.SEEDS[3])\n"
   ]
  },
  {
   "cell_type": "code",
   "execution_count": null,
   "metadata": {},
   "outputs": [],
   "source": [
    "\n",
    "nrows = 30\n",
    "num_bins = 0\n",
    "experiment_name = f\"FrozenLake_{nrows}x{nrows}_{num_bins}\"\n",
    "#experiment_name = f\"RiverSwim{nS}\"\n",
    "\n",
    "mlflow.set_tracking_uri(MLFLOW_URI)\n",
    "experiment_id = get_or_create_experiment(experiment_name)\n",
    "mlflow.set_experiment(experiment_name)\n"
   ]
  },
  {
   "cell_type": "code",
   "execution_count": null,
   "metadata": {},
   "outputs": [],
   "source": [
    "results = get_parent_artifacts(experiment_id=experiment_id)"
   ]
  },
  {
   "cell_type": "code",
   "execution_count": null,
   "metadata": {},
   "outputs": [],
   "source": [
    "print(results[0].keys())"
   ]
  },
  {
   "cell_type": "code",
   "execution_count": null,
   "metadata": {},
   "outputs": [],
   "source": [
    "def plot_experiment_results(results, title=None, figsize=(6, 6), \n",
    "                            reduce:bool=False, extend:bool=False,\n",
    "                            conf_int:bool=False, x_scale:int=500, \n",
    "                            x_len_ticks:int=2):\n",
    "    assert x_len_ticks >= 2, \"Error: x_len_ticks must be >= than 2\" \n",
    "    plt.close('all')\n",
    "    rew = [r[\"tests_returns\"] for r in results]\n",
    "    reduced_len = np.min([len(r[0]) for r in rew])\n",
    "    max_len = np.max([len(r[0]) for r in rew])\n",
    "    fig, ax = plt.subplots(figsize=figsize)\n",
    "\n",
    "    title = \"Average Return\" if title is None else title\n",
    "    for i, result in enumerate(results):\n",
    "        rewards = result[\"tests_returns\"]\n",
    "        label = result[\"label\"]\n",
    "        avg_rewards = np.average(rewards, axis=0)\n",
    "        if reduce:\n",
    "            avg_rewards = avg_rewards[:reduced_len]\n",
    "\n",
    "        #g_rewards = gaussian_filter1d(avg_rewards, sigma=1)\n",
    "        current_x_scale = x_scale if not \"checkpoint_step\" in result else result[\"checkpoint_step\"]\n",
    "        x_values = np.arange(len(avg_rewards)) * current_x_scale\n",
    "        ax.plot(x_values, avg_rewards, label=label, c=COLORS[i], marker = MARKERS[i%len(MARKERS)],\n",
    "                markevery=MARKER_FREQUENCY[i%len(MARKER_FREQUENCY)],\n",
    "                linestyle=LINE_STYLES[i%len(LINE_STYLES)],\n",
    "                #linewidth=1.5\n",
    "                )\n",
    "        \n",
    "        if conf_int:\n",
    "            std_dev = np.std(rewards, axis=0)\n",
    "            if reduce:\n",
    "                std_dev = std_dev[:reduced_len]\n",
    "            \n",
    "            n_samples = len(rewards)\n",
    "            std_err = std_dev / np.sqrt(n_samples)\n",
    "            ci = 1.96\n",
    "            upper_bound = avg_rewards + ci * std_err\n",
    "            lower_bound = avg_rewards - ci * std_err\n",
    "            plt.fill_between(x_values, lower_bound, upper_bound, color=COLORS[i], alpha=0.2)\n",
    "    \n",
    "    length = max_len if not reduce else reduced_len\n",
    "    length = length * x_scale\n",
    "    ax.legend(loc=\"lower right\", framealpha=1.)\n",
    "    ax.set_title(title)\n",
    "    labels = generate_M_labels(length, x_len_ticks)\n",
    "    \n",
    "    plt.xticks(np.linspace(0, length, x_len_ticks), labels)\n",
    "    ax.set_xlabel('Episodes')\n",
    "    #ax.set_ylabel('Avg Return')\n",
    "    #ax.grid()\n",
    "    plt.show()\n",
    "    return fig\n"
   ]
  },
  {
   "cell_type": "code",
   "execution_count": null,
   "metadata": {},
   "outputs": [],
   "source": [
    "parts = experiment_name.split(\"_\")\n",
    "if len(parts) == 3:\n",
    "    title = f\"{parts[0]} {parts[1]}, {parts[2]} Reward bins\"\n",
    "    if parts[2] == \"0\":\n",
    "        title = f\"{parts[0]} {parts[1]}\"\n",
    "\n",
    "else:\n",
    "    title = f\"{parts[0]} {parts[1]}\"\n",
    "fig = plot_experiment_results(results, reduce=False, conf_int=True, x_len_ticks=5, title=title)\n"
   ]
  }
 ],
 "metadata": {
  "kernelspec": {
   "display_name": "mlflow_env",
   "language": "python",
   "name": "python3"
  },
  "language_info": {
   "codemirror_mode": {
    "name": "ipython",
    "version": 3
   },
   "file_extension": ".py",
   "mimetype": "text/x-python",
   "name": "python",
   "nbconvert_exporter": "python",
   "pygments_lexer": "ipython3",
   "version": "3.11.5"
  }
 },
 "nbformat": 4,
 "nbformat_minor": 2
}
