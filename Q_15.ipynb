{
 "cells": [
  {
   "cell_type": "code",
   "execution_count": null,
   "metadata": {},
   "outputs": [],
   "source": [
    "import numpy as np\n",
    "from TMDP import TMDP\n",
    "from RiverSwim import River\n",
    "\n",
    "from algorithms import *\n",
    "from model_functions import *\n",
    "\n",
    "import matplotlib.pyplot as plt\n",
    "\n",
    "\n",
    "\n",
    "#np.set_printoptions(precision=4)\n",
    "import math\n",
    "from utils import *\n",
    "\n",
    "nS = 350\n",
    "nA = 2\n",
    "seed = get_current_seed()\n",
    "seed = 47146882006333120128184314011326542902\n",
    "gamma = .9\n",
    "mu = np.ones(nS) * 1/nS\n",
    "river = River(nS, mu, small=5, large=1000, seed=seed)\n",
    "tau = 1.\n",
    "xi = np.ones(nS) * 1/nS\n",
    "tmdp = TMDP(river, xi, tau=tau, gamma=gamma, seed=seed)\n",
    "mdp = TMDP(river, xi, tau=0., gamma=gamma, seed=seed)\n",
    "tmdp_1 = TMDP(river, xi, tau=.5, gamma=gamma, seed=seed)\n"
   ]
  },
  {
   "cell_type": "code",
   "execution_count": null,
   "metadata": {},
   "outputs": [],
   "source": [
    "q_c = np.zeros((nS, nA))\n",
    "tmdp.reset()\n",
    "cur_res = curriculum_Q_learning(tmdp, q_c, curriculum=[0.], alpha = 0.08, eps = 0.2, episodes=1500000, \n",
    "                        batch_nS=1, lam=0)\n"
   ]
  },
  {
   "cell_type": "code",
   "execution_count": null,
   "metadata": {},
   "outputs": [],
   "source": []
  },
  {
   "cell_type": "code",
   "execution_count": null,
   "metadata": {},
   "outputs": [],
   "source": [
    "res = bellman_optimal_q(mdp.env.P_mat, mdp.env.reward, mdp.gamma)\n",
    "Q = res[\"Q\"]\n",
    "V = compute_V_from_Q(Q, get_policy(Q))\n",
    "#print(Q)\n",
    "\n",
    "delta_pol = get_policy(Q)-get_policy(q_c)\n",
    "print(delta_pol)\n",
    "\n",
    "\n",
    "V_curr = compute_V_from_Q(Q, get_policy(q_c))\n",
    "\n",
    "\n",
    "j_curr = compute_expected_j(V_curr, tmdp.env.mu)\n",
    "j_opt = compute_expected_j(V, tmdp.env.mu)\n",
    "print(\"optimal performance: \",j_opt)\n",
    "print(\"curriculum performance: \", j_curr)"
   ]
  },
  {
   "cell_type": "code",
   "execution_count": null,
   "metadata": {},
   "outputs": [],
   "source": [
    "import matplotlib.pyplot as plt\n",
    "reward_records = cur_res[\"reward_records\"]\n",
    "# Generate recent 50 interval average\n",
    "average_reward = []\n",
    "for idx in range(len(reward_records)):\n",
    "    avg_list = np.empty(shape=(1,), dtype=int)\n",
    "    if idx < 500:\n",
    "        avg_list = reward_records[:idx+1]\n",
    "    else:\n",
    "        avg_list = reward_records[idx-499:idx+1]\n",
    "    average_reward.append(np.average(avg_list))\n",
    "# Plot\n",
    "#plt.plot(reward_records)\n",
    "plt.plot(average_reward)"
   ]
  },
  {
   "cell_type": "markdown",
   "metadata": {},
   "source": []
  },
  {
   "cell_type": "code",
   "execution_count": null,
   "metadata": {},
   "outputs": [],
   "source": [
    "import matplotlib.pyplot as plt\n",
    "exp_performances = cur_res[\"exp_performance\"]\n",
    "# Generate recent 50 interval average\n",
    "avg_performances = []\n",
    "for idx in range(len(exp_performances)):\n",
    "    avg_list = np.empty(shape=(1,), dtype=int)\n",
    "    if idx < 500:\n",
    "        avg_list = exp_performances[:idx+1]\n",
    "    else:\n",
    "        avg_list = exp_performances[idx-499:idx+1]\n",
    "    avg_performances.append(np.average(avg_list))\n",
    "# Plot\n",
    "plt.plot(exp_performances)\n",
    "#plt.plot(avg_performances)"
   ]
  }
 ],
 "metadata": {
  "kernelspec": {
   "display_name": "Python 3",
   "language": "python",
   "name": "python3"
  },
  "language_info": {
   "codemirror_mode": {
    "name": "ipython",
    "version": 3
   },
   "file_extension": ".py",
   "mimetype": "text/x-python",
   "name": "python",
   "nbconvert_exporter": "python",
   "pygments_lexer": "ipython3",
   "version": "3.11.5"
  }
 },
 "nbformat": 4,
 "nbformat_minor": 2
}
