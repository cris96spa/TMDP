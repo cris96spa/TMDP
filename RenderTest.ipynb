{
 "cells": [
  {
   "cell_type": "code",
   "execution_count": 1,
   "metadata": {},
   "outputs": [],
   "source": [
    "import numpy as np\n",
    "from TMDP import TMDP\n",
    "from River_swim import River\n",
    "\n",
    "from algorithms import *\n",
    "from model_functions import *\n",
    "\n",
    "import matplotlib.pyplot as plt\n",
    "import autograd.numpy as np\n",
    "from autograd import grad, jacobian, elementwise_grad\n",
    "\n",
    "#np.set_printoptions(precision=4)\n",
    "import math\n",
    "from utils import *\n",
    "\n",
    "nS = 8\n",
    "nA = 2\n",
    "seed = 2184109\n",
    "gamma = .9\n",
    "mu = np.ones(nS) * 1/nS\n",
    "river = River(nS, mu, gamma=gamma, small=5, large=1000, seed=seed)\n",
    "tau = 1.\n",
    "xi = np.ones(nS) * 1/nS\n",
    "tmdp = TMDP(river, xi, tau=tau, gamma=gamma, seed=seed)  # Initialize your TMDP environment with appropriate parameters\n",
    "# argnum=5 corresponds to the position of 'tau'\n",
    "\n"
   ]
  },
  {
   "cell_type": "code",
   "execution_count": 2,
   "metadata": {},
   "outputs": [],
   "source": [
    "Q= np.zeros((nS, nA))\n",
    "episodes = 10000\n",
    "alpha = 0.1\n",
    "status_step = 1000\n",
    "res = Q_learning(tmdp, Q, episodes=episodes, alpha=alpha, status_step=status_step)\n",
    "tmdp.env.close()"
   ]
  },
  {
   "cell_type": "code",
   "execution_count": null,
   "metadata": {},
   "outputs": [],
   "source": []
  }
 ],
 "metadata": {
  "kernelspec": {
   "display_name": "Python 3",
   "language": "python",
   "name": "python3"
  },
  "language_info": {
   "codemirror_mode": {
    "name": "ipython",
    "version": 3
   },
   "file_extension": ".py",
   "mimetype": "text/x-python",
   "name": "python",
   "nbconvert_exporter": "python",
   "pygments_lexer": "ipython3",
   "version": "3.11.5"
  }
 },
 "nbformat": 4,
 "nbformat_minor": 2
}
