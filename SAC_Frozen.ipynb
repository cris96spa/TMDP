{
 "cells": [
  {
   "cell_type": "code",
   "execution_count": null,
   "metadata": {},
   "outputs": [],
   "source": [
    "import numpy as np\n",
    "from TMDP import TMDP\n",
    "from River_swim import River\n",
    "\n",
    "from algorithms import *\n",
    "from model_functions import *\n",
    "\n",
    "import matplotlib.pyplot as plt\n",
    "import gymnasium as gym\n",
    "from FrozenLake import *\n",
    "from PG_algorithms import *\n",
    "from ActorCritic import *\n",
    "from ReplayBuffer import *\n",
    "#np.set_printoptions(precision=4)\n",
    "import math\n",
    "from utils import *\n",
    "\n",
    "nrows = 10\n",
    "nS = nrows**2\n",
    "nA = 4\n",
    "seed = get_current_seed()\n",
    "gamma = .99\n",
    "tau = 1.\n",
    "#tmdp = TMDP(river, xi, tau=tau, gamma=gamma, seed=seed)\n",
    "#mdp = TMDP(river, xi, tau=0., gamma=gamma, seed=seed)\n",
    "\n",
    "env = FrozenLakeEnv(is_slippery=False, seed=seed, desc=generate_random_map(nrows), r_shape=True)#, render_mode=\"human\")\n",
    "xi_frozen = np.ones(env.nS) * 1/env.nS\n",
    "tmdp = TMDP(env, xi_frozen, tau=tau, gamma=gamma, seed=seed)\n",
    "tmdp.reset()"
   ]
  },
  {
   "cell_type": "code",
   "execution_count": null,
   "metadata": {},
   "outputs": [],
   "source": [
    "rep_buffer = ReplayBuffer(max_size=int(1e6), input_shape=(1,), seed=seed)"
   ]
  },
  {
   "cell_type": "code",
   "execution_count": null,
   "metadata": {},
   "outputs": [],
   "source": [
    "device = torch.device(\"cuda\" if torch.cuda.is_available() else \"cpu\")\n",
    "ref_policy = ActorNet(nS, nA, hidden_dim=64).to(device)\n",
    "policy_pi = ActorNet(nS, nA, hidden_dim=64).to(device)\n",
    "\n",
    "q1_func = QNet(nS, nA, hidden_dim=64).to(device)\n",
    "q2_func = QNet(nS, nA, hidden_dim=64).to(device)\n",
    "q1_target = QNet(nS, nA, hidden_dim=64).to(device)\n",
    "q2_target = QNet(nS, nA, hidden_dim=64).to(device)"
   ]
  },
  {
   "cell_type": "code",
   "execution_count": null,
   "metadata": {},
   "outputs": [],
   "source": [
    "ref_opt = torch.optim.AdamW(ref_policy.parameters(), lr=1e-3)\n",
    "q1_opt = torch.optim.AdamW(q1_func.parameters(), lr=1e-3)\n",
    "q2_opt = torch.optim.AdamW(q2_func.parameters(), lr=1e-3)\n"
   ]
  },
  {
   "cell_type": "code",
   "execution_count": null,
   "metadata": {},
   "outputs": [],
   "source": [
    "#env.render_mode = \"human\""
   ]
  },
  {
   "cell_type": "code",
   "execution_count": null,
   "metadata": {},
   "outputs": [],
   "source": [
    "tmdp.update_tau(.5)\n",
    "tmdp.reset()\n",
    "cur_res = curriculum_SAC(tmdp, policy_pi, ref_policy, q1_target, q2_target, q1_func,\n",
    "                           q2_func, ref_opt, q1_opt, q2_opt, rep_buffer, \n",
    "                           alpha=.2, alpha_u=.2, beta=0.05, episodes=2000000, \n",
    "                           batch_size=256, sample_steps=8, update_rate=32, \n",
    "                           biased=False)"
   ]
  },
  {
   "cell_type": "code",
   "execution_count": null,
   "metadata": {},
   "outputs": [],
   "source": [
    "print(q1_func.get_values())"
   ]
  },
  {
   "cell_type": "code",
   "execution_count": null,
   "metadata": {},
   "outputs": [],
   "source": [
    "pi = get_policy(q1_func.get_values())\n",
    "tmdp = TMDP(env, xi_frozen, tau=0., gamma=gamma, seed=seed)\n",
    "tmdp.update_tau(0.)\n",
    "env.render_mode = \"human\"\n",
    "tmdp.reset()\n",
    "done = False\n",
    "step = 0\n",
    "while True:\n",
    "    a = greedy(tmdp.env.s, pi, tmdp.env.allowed_actions[int(tmdp.env.s)])\n",
    "    s_prime, reward, flags, prob = tmdp.step(a)\n",
    "    if flags[\"done\"]:\n",
    "        tmdp.reset()\n",
    "    step +=1\n",
    "    if step > max(100,nrows*2):\n",
    "        break"
   ]
  }
 ],
 "metadata": {
  "kernelspec": {
   "display_name": "Python 3",
   "language": "python",
   "name": "python3"
  },
  "language_info": {
   "codemirror_mode": {
    "name": "ipython",
    "version": 3
   },
   "file_extension": ".py",
   "mimetype": "text/x-python",
   "name": "python",
   "nbconvert_exporter": "python",
   "pygments_lexer": "ipython3",
   "version": "3.11.5"
  }
 },
 "nbformat": 4,
 "nbformat_minor": 2
}
