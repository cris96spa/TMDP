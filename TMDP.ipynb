{
 "cells": [
  {
   "cell_type": "code",
   "execution_count": null,
   "metadata": {},
   "outputs": [],
   "source": []
  },
  {
   "cell_type": "code",
   "execution_count": 5,
   "metadata": {},
   "outputs": [],
   "source": [
    "import numpy as np\n",
    "from TMDP import TMDP\n",
    "from River_swim import River\n",
    "\n",
    "from algorithms import *\n",
    "from model_functions import *\n",
    "\n",
    "#np.set_printoptions(precision=4)\n",
    "import math\n",
    "from utils import *\n",
    "\n",
    "nS = 8\n",
    "nA = 2\n",
    "seed = 3231\n",
    "gamma = .9\n",
    "river = River(nS, gamma=gamma, small=5, large=1000, seed=seed)\n",
    "tau = 0.9\n",
    "xi = np.ones(nS) * 1/nS\n",
    "tmdp = TMDP(river, xi, tau=tau, gamma=gamma, seed=seed)\n"
   ]
  },
  {
   "cell_type": "code",
   "execution_count": 6,
   "metadata": {},
   "outputs": [
    {
     "name": "stdout",
     "output_type": "stream",
     "text": [
      "[1]\n",
      "[1] [0.] {'done': False, 'teleport': False} [0.1725]\n"
     ]
    }
   ],
   "source": [
    "print(tmdp.s)\n",
    "s_prime, r, flags, prob = tmdp.step(1)\n",
    "print(s_prime, r, flags, prob)"
   ]
  },
  {
   "cell_type": "code",
   "execution_count": 7,
   "metadata": {},
   "outputs": [
    {
     "name": "stdout",
     "output_type": "stream",
     "text": [
      "[[1. 0.]\n",
      " [1. 0.]\n",
      " [1. 0.]\n",
      " [1. 0.]\n",
      " [0. 1.]\n",
      " [0. 1.]\n",
      " [0. 1.]\n",
      " [0. 1.]]\n"
     ]
    }
   ],
   "source": [
    "r_s_a = compute_r_s_a(tmdp.nS, tmdp.nA, tmdp.P_mat_tau, tmdp.reward)\n",
    "Q_star = bellman_optimal_q(tmdp.nS, tmdp.nA, tmdp.P_mat_tau, tmdp.reward, 1e-4, gamma)\n",
    "pi = get_policy(Q_star[0])\n",
    "\n",
    "print(pi)\n",
    "V_star = get_value_function(Q_star[0])\n",
    "\n"
   ]
  },
  {
   "cell_type": "code",
   "execution_count": 13,
   "metadata": {},
   "outputs": [
    {
     "name": "stdout",
     "output_type": "stream",
     "text": [
      "[[[140.91500938 139.95876781 139.87271035 139.86496937 139.867284\n",
      "   139.97183841 143.63419057 271.91715768]\n",
      "  [139.85250938 138.89626781 138.81021035 138.80246937 138.804784\n",
      "   138.90933841 142.57169057 270.85465768]]\n",
      "\n",
      " [[139.85250938 138.89626781 138.81021035 138.80246937 138.804784\n",
      "   138.90933841 142.57169057 270.85465768]\n",
      "  [139.85250938 138.89626781 138.81021035 138.80246937 138.804784\n",
      "   138.90933841 142.57169057 270.85465768]]\n",
      "\n",
      " [[139.85250938 138.89626781 138.81021035 138.80246937 138.804784\n",
      "   138.90933841 142.57169057 270.85465768]\n",
      "  [139.85250938 138.89626781 138.81021035 138.80246937 138.804784\n",
      "   138.90933841 142.57169057 270.85465768]]\n",
      "\n",
      " [[139.85250938 138.89626781 138.81021035 138.80246937 138.804784\n",
      "   138.90933841 142.57169057 270.85465768]\n",
      "  [139.85250938 138.89626781 138.81021035 138.80246937 138.804784\n",
      "   138.90933841 142.57169057 270.85465768]]\n",
      "\n",
      " [[139.85250938 138.89626781 138.81021035 138.80246937 138.804784\n",
      "   138.90933841 142.57169057 270.85465768]\n",
      "  [139.85250938 138.89626781 138.81021035 138.80246937 138.804784\n",
      "   138.90933841 142.57169057 270.85465768]]\n",
      "\n",
      " [[139.85250938 138.89626781 138.81021035 138.80246937 138.804784\n",
      "   138.90933841 142.57169057 270.85465768]\n",
      "  [139.85250938 138.89626781 138.81021035 138.80246937 138.804784\n",
      "   138.90933841 142.57169057 270.85465768]]\n",
      "\n",
      " [[139.85250938 138.89626781 138.81021035 138.80246937 138.804784\n",
      "   138.90933841 142.57169057 270.85465768]\n",
      "  [139.85250938 138.89626781 138.81021035 138.80246937 138.804784\n",
      "   138.90933841 142.57169057 270.85465768]]\n",
      "\n",
      " [[139.85250938 138.89626781 138.81021035 138.80246937 138.804784\n",
      "   138.90933841 142.57169057 270.85465768]\n",
      "  [282.35250938 281.39626781 281.31021035 281.30246937 281.304784\n",
      "   281.40933841 285.07169057 413.35465768]]]\n",
      "[[-4.06971759e-05 -3.26070235e-05]\n",
      " [-3.13367623e-05 -2.78128753e-05]\n",
      " [-2.65732831e-05 -2.31362133e-05]\n",
      " [-2.19248122e-05 -1.85841548e-05]\n",
      " [-1.73820578e-05 -2.09609369e-05]\n",
      " [-1.28741940e-05 -1.63709503e-05]\n",
      " [-8.46912505e-06 -1.18749446e-05]\n",
      " [-4.16642655e-06 -5.27747363e-06]]\n"
     ]
    }
   ],
   "source": [
    "U_star = get_state_action_nextstate_value_function(tmdp.P_mat_tau, tmdp.reward, tmdp.gamma, Q_star[0])\n",
    "print(U_star)\n",
    "\n",
    "q_reb = rebuild_Q_from_U(tmdp.P_mat_tau, U_star)\n",
    "print(Q_star[0] - q_reb)"
   ]
  },
  {
   "cell_type": "code",
   "execution_count": null,
   "metadata": {},
   "outputs": [],
   "source": []
  }
 ],
 "metadata": {
  "kernelspec": {
   "display_name": "Python 3",
   "language": "python",
   "name": "python3"
  },
  "language_info": {
   "codemirror_mode": {
    "name": "ipython",
    "version": 3
   },
   "file_extension": ".py",
   "mimetype": "text/x-python",
   "name": "python",
   "nbconvert_exporter": "python",
   "pygments_lexer": "ipython3",
   "version": "3.11.5"
  }
 },
 "nbformat": 4,
 "nbformat_minor": 2
}
