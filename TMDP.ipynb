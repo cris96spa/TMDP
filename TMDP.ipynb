{
 "cells": [
  {
   "cell_type": "code",
   "execution_count": null,
   "metadata": {},
   "outputs": [],
   "source": []
  },
  {
   "cell_type": "code",
   "execution_count": 1,
   "metadata": {},
   "outputs": [],
   "source": [
    "import numpy as np\n",
    "from TMDP import TMDP\n",
    "from River_swim import River\n",
    "\n",
    "from algorithms import *\n",
    "from model_functions import *\n",
    "\n",
    "#np.set_printoptions(precision=4)\n",
    "import math\n",
    "from utils import *\n",
    "\n",
    "nS = 8\n",
    "nA = 2\n",
    "seed = 3231\n",
    "gamma = .9\n",
    "river = River(nS, gamma=gamma, small=5, large=1000, seed=seed)\n",
    "tau = 0.9\n",
    "xi = np.ones(nS) * 1/nS\n",
    "tmdp = TMDP(river, xi, tau=tau, gamma=gamma, seed=seed)\n"
   ]
  },
  {
   "cell_type": "code",
   "execution_count": 3,
   "metadata": {},
   "outputs": [
    {
     "name": "stdout",
     "output_type": "stream",
     "text": [
      "(8, 2, 8)\n",
      "[[155.39191625 154.30072883]\n",
      " [154.32941634 154.24077201]\n",
      " [154.23379139 154.22581344]\n",
      " [154.2251852  154.22455752]\n",
      " [154.22441068 154.22775533]\n",
      " [154.22464204 154.34392193]\n",
      " [154.23509708 158.41319717]\n",
      " [154.60133189 300.94982072]]\n"
     ]
    }
   ],
   "source": [
    "r_s_a = compute_r_s_a(tmdp.P_mat_tau, tmdp.reward)\n",
    "Q_star, _ = bellman_optimal_q(tmdp.P_mat_tau, tmdp.reward, gamma).values()\n",
    "pi = get_policy(Q_star)\n",
    "pi_prime = np.array([[0., 1.] for i in range(nS)])\n",
    "\n",
    "V_star = get_value_function(Q_star)\n",
    "print(tmdp.P_mat.shape)\n",
    "print(Q_star)\n"
   ]
  },
  {
   "cell_type": "code",
   "execution_count": 4,
   "metadata": {},
   "outputs": [],
   "source": [
    "Q = np.zeros((nS, nA))\n",
    "Qs = Q_learning(tmdp, Q_star, alpha=.4, episodes=500000, status_step=100000)\n",
    "\n"
   ]
  },
  {
   "cell_type": "code",
   "execution_count": 1,
   "metadata": {},
   "outputs": [
    {
     "ename": "NameError",
     "evalue": "name 'Qs' is not defined",
     "output_type": "error",
     "traceback": [
      "\u001b[1;31m---------------------------------------------------------------------------\u001b[0m",
      "\u001b[1;31mNameError\u001b[0m                                 Traceback (most recent call last)",
      "Cell \u001b[1;32mIn[1], line 1\u001b[0m\n\u001b[1;32m----> 1\u001b[0m Q \u001b[38;5;241m=\u001b[39m\u001b[43mQs\u001b[49m[\u001b[38;5;124m\"\u001b[39m\u001b[38;5;124mQs\u001b[39m\u001b[38;5;124m\"\u001b[39m][\u001b[38;5;241m-\u001b[39m\u001b[38;5;241m1\u001b[39m]\n\u001b[0;32m      2\u001b[0m \u001b[38;5;28mprint\u001b[39m(Q)\n",
      "\u001b[1;31mNameError\u001b[0m: name 'Qs' is not defined"
     ]
    }
   ],
   "source": [
    "Q =Qs[\"Qs\"][-1]\n",
    "print(Q)"
   ]
  },
  {
   "cell_type": "code",
   "execution_count": null,
   "metadata": {},
   "outputs": [],
   "source": []
  }
 ],
 "metadata": {
  "kernelspec": {
   "display_name": "Python 3",
   "language": "python",
   "name": "python3"
  },
  "language_info": {
   "codemirror_mode": {
    "name": "ipython",
    "version": 3
   },
   "file_extension": ".py",
   "mimetype": "text/x-python",
   "name": "python",
   "nbconvert_exporter": "python",
   "pygments_lexer": "ipython3",
   "version": "3.11.5"
  }
 },
 "nbformat": 4,
 "nbformat_minor": 2
}
