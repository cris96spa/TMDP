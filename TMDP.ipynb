{
 "cells": [
  {
   "cell_type": "code",
   "execution_count": null,
   "metadata": {},
   "outputs": [],
   "source": []
  },
  {
   "cell_type": "code",
   "execution_count": 1,
   "metadata": {},
   "outputs": [],
   "source": [
    "import numpy as np\n",
    "from TMDP import TMDP\n",
    "from River_swim import River\n",
    "\n",
    "from algorithms import *\n",
    "from model_functions import *\n",
    "\n",
    "#np.set_printoptions(precision=4)\n",
    "import math\n",
    "from utils import *\n",
    "\n",
    "nS = 8\n",
    "nA = 2\n",
    "seed = 3231\n",
    "gamma = .9\n",
    "river = River(nS, gamma=gamma, small=5, large=1000, seed=seed)\n",
    "tau = 0.9\n",
    "xi = np.ones(nS) * 1/nS\n",
    "tmdp = TMDP(river, xi, tau=tau, gamma=gamma, seed=seed)\n"
   ]
  },
  {
   "cell_type": "code",
   "execution_count": 2,
   "metadata": {},
   "outputs": [
    {
     "name": "stdout",
     "output_type": "stream",
     "text": [
      "[1]\n",
      "[1] [0.] {'done': False, 'teleport': False} [0.1725]\n"
     ]
    }
   ],
   "source": [
    "print(tmdp.s)\n",
    "s_prime, r, flags, prob = tmdp.step(1)\n",
    "print(s_prime, r, flags, prob)"
   ]
  },
  {
   "cell_type": "code",
   "execution_count": 3,
   "metadata": {},
   "outputs": [
    {
     "name": "stdout",
     "output_type": "stream",
     "text": [
      "(8, 2, 8)\n",
      "[[155.39191625 154.30072883]\n",
      " [154.32941634 154.24077201]\n",
      " [154.23379139 154.22581344]\n",
      " [154.2251852  154.22455752]\n",
      " [154.22441068 154.22775533]\n",
      " [154.22464204 154.34392193]\n",
      " [154.23509708 158.41319717]\n",
      " [154.60133189 300.94982072]]\n"
     ]
    }
   ],
   "source": [
    "r_s_a = compute_r_s_a(tmdp.P_mat_tau, tmdp.reward)\n",
    "Q_star, _ = bellman_optimal_q(tmdp.P_mat_tau, tmdp.reward, gamma).values()\n",
    "pi = get_policy(Q_star)\n",
    "pi_prime = np.array([[0., 1.] for i in range(nS)])\n",
    "\n",
    "V_star = get_value_function(Q_star)\n",
    "print(tmdp.P_mat.shape)\n",
    "print(Q_star)\n"
   ]
  },
  {
   "cell_type": "code",
   "execution_count": 4,
   "metadata": {},
   "outputs": [],
   "source": [
    "Q = np.zeros((nS, nA))\n",
    "#Qs = Q_learning_2(tmdp, Q_star, alpha=.4, episodes=1000000, status_step=100000)\n",
    "\n"
   ]
  },
  {
   "cell_type": "code",
   "execution_count": 5,
   "metadata": {},
   "outputs": [
    {
     "name": "stdout",
     "output_type": "stream",
     "text": [
      "[[0. 0.]\n",
      " [0. 0.]\n",
      " [0. 0.]\n",
      " [0. 0.]\n",
      " [0. 0.]\n",
      " [0. 0.]\n",
      " [0. 0.]\n",
      " [0. 0.]]\n"
     ]
    }
   ],
   "source": [
    "#Q =Qs[\"Qs\"][-1]\n",
    "print(Q)"
   ]
  },
  {
   "cell_type": "code",
   "execution_count": 6,
   "metadata": {},
   "outputs": [
    {
     "name": "stdout",
     "output_type": "stream",
     "text": [
      "[[0.1373545  0.        ]\n",
      " [0.12491773 0.        ]\n",
      " [0.12408586 0.        ]\n",
      " [0.11484289 0.        ]\n",
      " [0.         0.121432  ]\n",
      " [0.         0.12496323]\n",
      " [0.         0.1318389 ]\n",
      " [0.         0.1205649 ]]\n"
     ]
    },
    {
     "data": {
      "text/plain": [
       "1"
      ]
     },
     "execution_count": 6,
     "metadata": {},
     "output_type": "execute_result"
    }
   ],
   "source": [
    "d = compute_d(tmdp.mu, tmdp.P_mat_tau, pi, tmdp.gamma)\n",
    "delta = compute_delta(d, pi)\n",
    "print(delta)\n",
    "tmdp.s.item()\n",
    "#tmdp.allowed_actions[tmdp.s]"
   ]
  },
  {
   "cell_type": "code",
   "execution_count": 7,
   "metadata": {},
   "outputs": [
    {
     "name": "stdout",
     "output_type": "stream",
     "text": [
      "[[155.39191665 154.30072915]\n",
      " [154.32941665 154.24077228]\n",
      " [154.23379166 154.22581367]\n",
      " [154.22518541 154.2245577 ]\n",
      " [154.22441085 154.22775553]\n",
      " [154.22464217 154.34392209]\n",
      " [154.23509716 158.41319729]\n",
      " [154.60133193 300.94982077]]\n"
     ]
    }
   ],
   "source": [
    "U_star = get_state_action_nextstate_value_function(tmdp.P_mat_tau, tmdp.reward, tmdp.gamma, Q_star)\n",
    "q_reb = rebuild_Q_from_U(tmdp.P_mat_tau, U_star)\n",
    "print(q_reb)"
   ]
  },
  {
   "cell_type": "code",
   "execution_count": 11,
   "metadata": {},
   "outputs": [
    {
     "name": "stdout",
     "output_type": "stream",
     "text": [
      "-5.469410456367923\n",
      "-5.469410236881051\n"
     ]
    }
   ],
   "source": [
    "model_adv = get_model_advantage_function(tmdp.P_mat_tau, tmdp.reward, tmdp.gamma, Q_star)\n",
    "rel_model_adv_hat = compute_relative_model_advantage_function_hat(tmdp.P_mat, tmdp.xi, U_star)\n",
    "# With the fixed policy, evaluate the relative model advantage function in moving from P_mat_tau to P_mat, that is, moving from the simplified problem\n",
    "# with tau != 0 to the original problem with tau = 0\n",
    "rel_model_adv = compute_relative_model_advantage_function(tmdp.P_mat, model_adv)\n",
    "\n",
    "\n",
    "print(compute_discounted_distribution_relative_model_advantage_function_from_delta_tau(rel_model_adv_hat, delta, tmdp.tau, 0.))\n",
    "print(compute_discounted_distribution_relative_model_advantage_function(rel_model_adv, delta))"
   ]
  },
  {
   "cell_type": "code",
   "execution_count": 9,
   "metadata": {},
   "outputs": [
    {
     "name": "stdout",
     "output_type": "stream",
     "text": [
      "1.394688077659496\n",
      "(8, 2, 8)\n",
      "1.5092592543131351\n",
      "1.394688077659496\n"
     ]
    }
   ],
   "source": [
    "dif = get_expected_difference_transition_models(tmdp.P_mat_tau, tmdp.P_mat, delta)\n",
    "print(dif)\n",
    "print(tmdp.P_mat_tau.shape)\n",
    "\n",
    "expected_value = np.sum(delta.T * np.abs(tmdp.P_mat - tmdp.P_mat_tau))\n",
    "\n",
    "print(expected_value)\n",
    "dif_tau = get_expected_difference_transition_models(tmdp.P_mat, tmdp.xi, delta)\n",
    "print(dif_tau*tmdp.tau)\n"
   ]
  },
  {
   "cell_type": "code",
   "execution_count": 10,
   "metadata": {},
   "outputs": [
    {
     "name": "stdout",
     "output_type": "stream",
     "text": [
      "0.7875000000000001\n",
      "0.7875000000000001\n",
      "0.7875\n"
     ]
    }
   ],
   "source": [
    "sup = get_sup_difference_transition_models(tmdp.P_mat_tau, tmdp.P_mat)\n",
    "print(sup)\n",
    "\n",
    "print(np.max(np.abs(tmdp.P_mat_tau - tmdp.P_mat)))\n",
    "\n",
    "Xi = np.tile(tmdp.xi, (nA, nS)).T\n",
    "Xi = Xi.reshape((nS, nA, nS))\n",
    "\n",
    "print(np.max(np.abs(tmdp.P_mat - Xi))*tmdp.tau)"
   ]
  }
 ],
 "metadata": {
  "kernelspec": {
   "display_name": "Python 3",
   "language": "python",
   "name": "python3"
  },
  "language_info": {
   "codemirror_mode": {
    "name": "ipython",
    "version": 3
   },
   "file_extension": ".py",
   "mimetype": "text/x-python",
   "name": "python",
   "nbconvert_exporter": "python",
   "pygments_lexer": "ipython3",
   "version": "3.11.5"
  }
 },
 "nbformat": 4,
 "nbformat_minor": 2
}
