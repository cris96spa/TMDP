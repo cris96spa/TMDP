{
 "cells": [
  {
   "attachments": {},
   "cell_type": "markdown",
   "metadata": {},
   "source": [
    "# Stimare Q function ottimale\n",
    "## 1. Quanto tempo ci mette per convergere a Q*, al variare di tau\n",
    "## 2. Distanza tra Q* e Q_t \n",
    "## 3. distanza tra Q_0 e Q_0 appresa tramite i valori di tau\n",
    "## 4. cercare di integrare i bound trovati"
   ]
  },
  {
   "attachments": {},
   "cell_type": "markdown",
   "metadata": {},
   "source": [
    "### Estrarre policy da Q\n",
    "### Confrontare due diverse Q valutando diverse metriche \n",
    "### Calcolare Q*\n",
    "### Tentativo di implementazione di un curriculum\n",
    "### Plot functions"
   ]
  },
  {
   "cell_type": "code",
   "execution_count": 1,
   "metadata": {},
   "outputs": [],
   "source": [
    "import numpy as np\n",
    "from TMDP import TMDP\n",
    "from river_swim import River\n",
    "\n",
    "from algorithms import Q_learning, eps_greedy, SARSA, get_policy\n"
   ]
  },
  {
   "cell_type": "code",
   "execution_count": 2,
   "metadata": {},
   "outputs": [],
   "source": [
    "# Test with tau=0.9\n",
    "gamma = 0.9\n",
    "river = River(gamma)\n",
    "tau = 0.9\n",
    "xi = np.ones(river.nS)*1/river.nS\n",
    "tmdp = TMDP(river, xi, tau, gamma)\n"
   ]
  },
  {
   "cell_type": "code",
   "execution_count": 3,
   "metadata": {},
   "outputs": [
    {
     "name": "stdout",
     "output_type": "stream",
     "text": [
      "[[2295.37932017 1771.46170777]\n",
      " [1726.62245786 2045.61375673]\n",
      " [2151.43111671 1832.26507719]\n",
      " [1997.94487062 2002.17853929]\n",
      " [1834.03067288 2320.61042952]\n",
      " [2056.1261064  3683.61124103]]\n"
     ]
    }
   ],
   "source": [
    "s = tmdp.reset()\n",
    "M = 1000\n",
    "Q = np.zeros((tmdp.nS, tmdp.nA))\n",
    "ret = 0\n",
    "\n",
    "a = eps_greedy(s, Q, 1., tmdp.allowed_actions[s.item()])\n",
    "\n",
    "Q = Q_learning(tmdp, s, a, Q, M)\n",
    "\n",
    "print(Q)"
   ]
  },
  {
   "cell_type": "code",
   "execution_count": 4,
   "metadata": {},
   "outputs": [
    {
     "name": "stdout",
     "output_type": "stream",
     "text": [
      "0\n",
      "[[50.         43.27587434]\n",
      " [45.         39.98967386]\n",
      " [40.5        36.43253298]\n",
      " [36.44998982 32.81060079]\n",
      " [ 0.          0.        ]\n",
      " [ 0.          0.        ]]\n"
     ]
    }
   ],
   "source": [
    "tmdp_0 = TMDP(river, xi, 0, gamma)\n",
    "s = tmdp_0.reset()\n",
    "print(tmdp_0.tau)\n",
    "M = 10000\n",
    "Q = np.zeros((tmdp_0.nS, tmdp_0.nA))\n",
    "ret = 0\n",
    "a = eps_greedy(s, Q, 1., tmdp_0.allowed_actions[s.item()])\n",
    "\n",
    "Q = Q_learning(tmdp_0, s, a, Q, M)\n",
    "\n",
    "print(Q)"
   ]
  },
  {
   "cell_type": "code",
   "execution_count": 27,
   "metadata": {},
   "outputs": [
    {
     "name": "stdout",
     "output_type": "stream",
     "text": [
      "Tau: 1.0\n",
      "[[2124.93125414 1426.75457524]\n",
      " [1282.34522533 2048.21470816]\n",
      " [2048.09712304 1297.13325371]\n",
      " [1293.37125046 2020.42231722]\n",
      " [2116.91019724 1335.44819086]\n",
      " [1621.55150565 3723.7081449 ]]\n",
      "Tau: 0.9\n",
      "[[1633.47114911 1270.13214021]\n",
      " [1352.07539124 1646.19680538]\n",
      " [1282.930951   1711.75002275]\n",
      " [1637.92856007 1312.66684541]\n",
      " [1770.0713257  1397.78026753]\n",
      " [1409.56219363 3709.70044264]]\n",
      "Tau: 0.8\n",
      "[[1779.11406064 2268.59196207]\n",
      " [2310.67685398 2243.80579636]\n",
      " [2335.36709694 2189.31621153]\n",
      " [1926.95504549 2427.32261647]\n",
      " [2399.35624651 1763.69978777]\n",
      " [1762.78809147 4790.96143248]]\n",
      "Tau: 0.7\n",
      "[[1082.49928273 1904.03419369]\n",
      " [1809.19616388 1580.23054097]\n",
      " [1850.4348031  1356.34555757]\n",
      " [1341.38592883 1798.80929933]\n",
      " [1644.6028088  2053.13914765]\n",
      " [1381.75655136 3575.34417401]]\n",
      "Tau: 0.6\n",
      "[[2477.42839534 2648.94972141]\n",
      " [1508.97376608 2514.4012775 ]\n",
      " [2497.83786425 2375.60366383]\n",
      " [2487.84558699  897.6957089 ]\n",
      " [1237.26483953 3120.77412311]\n",
      " [ 933.89073887 5431.46831509]]\n",
      "Tau: 0.5\n",
      "[[ 914.34858414 2277.8293095 ]\n",
      " [ 834.59826815 2405.47178347]\n",
      " [2323.24828613  841.91874315]\n",
      " [ 883.2180604  2405.53604075]\n",
      " [ 849.71742219 3449.73101013]\n",
      " [ 914.76082921 5638.94615787]]\n",
      "Tau: 0.3999999999999999\n",
      "[[ 946.35401133 2613.22435787]\n",
      " [1600.48071486 2545.00256049]\n",
      " [2467.02313253 1249.96983392]\n",
      " [1278.7750479  2942.21620995]\n",
      " [ 984.23505885 3509.30062266]\n",
      " [1619.07503832 6410.08403121]]\n",
      "Tau: 0.29999999999999993\n",
      "[[3420.98783667 2002.15912292]\n",
      " [3649.62210314 1557.35809233]\n",
      " [1475.55220217 3575.42169855]\n",
      " [1843.68810948 3917.95130882]\n",
      " [2492.75496084 5181.114543  ]\n",
      " [2222.84980833 7942.69015172]]\n",
      "Tau: 0.19999999999999996\n",
      "[[ 994.97187351 1476.35900458]\n",
      " [1493.35052271  999.2744831 ]\n",
      " [1427.55998633  842.6196649 ]\n",
      " [1516.70839797  721.95954066]\n",
      " [ 820.74815118 2628.06872289]\n",
      " [1368.4386881  4788.48988179]]\n",
      "Tau: 0.09999999999999998\n",
      "[[ 544.36891399 2167.70047605]\n",
      " [ 481.41513904 2579.59613904]\n",
      " [1200.77957374 3109.01209113]\n",
      " [1422.37500178 3624.36624279]\n",
      " [2218.58069486 4711.69650855]\n",
      " [2441.35370558 7328.67642997]]\n",
      "Tau: 0\n",
      "[[50.         44.28999532]\n",
      " [45.         42.31003587]\n",
      " [40.5        35.33281656]\n",
      " [36.44999989 28.45936146]\n",
      " [32.11308791  0.        ]\n",
      " [ 0.          0.        ]]\n"
     ]
    }
   ],
   "source": [
    "taus = [1 - i*0.1 for i in range(10)]\n",
    "taus.append(0)\n",
    "Qs = []\n",
    "xi = np.ones(river.nS)*1/river.nS\n",
    "gamma = 0.9\n",
    "river = River(gamma)\n",
    "\n",
    "for tau in taus:\n",
    "    tmdp = TMDP(river, xi, tau, gamma)\n",
    "    s = tmdp.reset()\n",
    "    M = 10000\n",
    "    Q = np.zeros((tmdp.nS, tmdp.nA))\n",
    "    ret = 0\n",
    "    a = eps_greedy(s, Q, 1., tmdp.allowed_actions[s.item()])\n",
    "    Q = Q_learning(tmdp, s, a, Q, M)\n",
    "    Qs.append({\"tau\":tau, \"Q_function\":Q, \"env\":tmdp})\n",
    "\n",
    "for i in range(len(taus)):\n",
    "    print(\"Tau:\", Qs[i]['tau'])\n",
    "    print(Qs[i]['Q_function'])"
   ]
  },
  {
   "cell_type": "code",
   "execution_count": 28,
   "metadata": {},
   "outputs": [
    {
     "name": "stdout",
     "output_type": "stream",
     "text": [
      "[1, 1, 1, 1, 1, 1]\n",
      "[0, 0, 0, 0, 0, 0]\n"
     ]
    }
   ],
   "source": [
    "pi = get_policy(Qs[-2]['Q_function'])\n",
    "pi_prime = get_policy(Qs[-1]['Q_function'])\n",
    "\n",
    "print(pi)\n",
    "print(pi_prime)"
   ]
  },
  {
   "cell_type": "code",
   "execution_count": 31,
   "metadata": {},
   "outputs": [
    {
     "name": "stdout",
     "output_type": "stream",
     "text": [
      "Q function learned from scratch:\n",
      " [[50.         44.28999532]\n",
      " [45.         42.31003587]\n",
      " [40.5        35.33281656]\n",
      " [36.44999989 28.45936146]\n",
      " [32.11308791  0.        ]\n",
      " [ 0.          0.        ]]\n",
      "Q function learned with transfer learning:\n",
      " [[ 499.28890249 1028.31069227]\n",
      " [ 567.95346674 1726.16298339]\n",
      " [ 892.75431572 2841.44220435]\n",
      " [1894.15901516 4153.01197098]\n",
      " [3472.76210858 6413.56818659]\n",
      " [4349.12037286 9946.95186267]]\n",
      "[0, 0, 0, 0, 0, 0]\n",
      "[1, 1, 1, 1, 1, 1]\n"
     ]
    }
   ],
   "source": [
    "tmdp = TMDP(river, xi, 1, gamma)\n",
    "Q = np.zeros((tmdp.nS, tmdp.nA))\n",
    "\n",
    "# Curriculul for decreasing values of tau\n",
    "for tau in taus:\n",
    "    tmdp = TMDP(river, xi, tau, gamma)\n",
    "    s = tmdp.reset()\n",
    "    M = 10000\n",
    "    if tau == 0:\n",
    "        M = 100000\n",
    "    ret = 0\n",
    "    a = eps_greedy(s, Q, 1., tmdp.allowed_actions[s.item()])\n",
    "    Q = Q_learning(tmdp, s, a, Q, M)\n",
    "\n",
    "\n",
    "print(\"Q function learned from scratch:\\n\", Qs[-1]['Q_function'])\n",
    "print(\"Q function learned with transfer learning:\\n\", Q)\n",
    "\n",
    "pi = get_policy(Qs[-1]['Q_function'])\n",
    "pi_prime = get_policy(Q)\n",
    "\n",
    "print(pi)\n",
    "print(pi_prime)\n"
   ]
  }
 ],
 "metadata": {
  "kernelspec": {
   "display_name": "Python 3",
   "language": "python",
   "name": "python3"
  },
  "language_info": {
   "codemirror_mode": {
    "name": "ipython",
    "version": 3
   },
   "file_extension": ".py",
   "mimetype": "text/x-python",
   "name": "python",
   "nbconvert_exporter": "python",
   "pygments_lexer": "ipython3",
   "version": "3.11.3"
  },
  "orig_nbformat": 4
 },
 "nbformat": 4,
 "nbformat_minor": 2
}
