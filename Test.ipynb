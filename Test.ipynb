{
 "cells": [
  {
   "attachments": {},
   "cell_type": "markdown",
   "metadata": {},
   "source": []
  },
  {
   "cell_type": "code",
   "execution_count": 1,
   "metadata": {},
   "outputs": [],
   "source": [
    "import numpy as np\n",
    "from TMDP import TMDP\n",
    "from river_swim import River\n",
    "import pprint"
   ]
  },
  {
   "cell_type": "code",
   "execution_count": 3,
   "metadata": {},
   "outputs": [
    {
     "name": "stdout",
     "output_type": "stream",
     "text": [
      "[1. 1. 1. 1. 1. 1.]\n",
      "[1. 1. 1. 1. 1. 1.]\n"
     ]
    },
    {
     "ename": "AttributeError",
     "evalue": "'TMDP' object has no attribute 'P_mat'",
     "output_type": "error",
     "traceback": [
      "\u001b[1;31m---------------------------------------------------------------------------\u001b[0m",
      "\u001b[1;31mAttributeError\u001b[0m                            Traceback (most recent call last)",
      "Cell \u001b[1;32mIn[3], line 6\u001b[0m\n\u001b[0;32m      4\u001b[0m xi \u001b[39m=\u001b[39m np\u001b[39m.\u001b[39mones(river\u001b[39m.\u001b[39mnS)\u001b[39m*\u001b[39m\u001b[39m1\u001b[39m\u001b[39m/\u001b[39mriver\u001b[39m.\u001b[39mnS\n\u001b[0;32m      5\u001b[0m tmdp \u001b[39m=\u001b[39m TMDP(river, xi, tau, gamma)\n\u001b[1;32m----> 6\u001b[0m \u001b[39mprint\u001b[39m(tmdp\u001b[39m.\u001b[39;49mP_mat)\n\u001b[0;32m      7\u001b[0m \u001b[39mprint\u001b[39m(tmdp\u001b[39m.\u001b[39mP_mat_tau)\n",
      "\u001b[1;31mAttributeError\u001b[0m: 'TMDP' object has no attribute 'P_mat'"
     ]
    }
   ],
   "source": [
    "gamma = 0.9\n",
    "river = River(gamma)\n",
    "tau = 0.9\n",
    "xi = np.ones(river.nS)*1/river.nS\n",
    "tmdp = TMDP(river, xi, tau, gamma)\n",
    "print(tmdp.P_mat)\n",
    "print(tmdp.P_mat_tau)"
   ]
  },
  {
   "cell_type": "code",
   "execution_count": null,
   "metadata": {},
   "outputs": [],
   "source": []
  }
 ],
 "metadata": {
  "kernelspec": {
   "display_name": "Python 3",
   "language": "python",
   "name": "python3"
  },
  "language_info": {
   "codemirror_mode": {
    "name": "ipython",
    "version": 3
   },
   "file_extension": ".py",
   "mimetype": "text/x-python",
   "name": "python",
   "nbconvert_exporter": "python",
   "pygments_lexer": "ipython3",
   "version": "3.11.3"
  },
  "orig_nbformat": 4
 },
 "nbformat": 4,
 "nbformat_minor": 2
}
