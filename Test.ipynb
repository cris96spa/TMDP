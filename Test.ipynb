{
 "cells": [
  {
   "attachments": {},
   "cell_type": "markdown",
   "metadata": {},
   "source": [
    "# Stimare Q function ottimale\n",
    "## 1. Quanto tempo ci mette per convergere a Q*, al variare di tau\n",
    "## 2. Distanza tra Q* e Q_t \n",
    "## 3. distanza tra Q_0 e Q_0 appresa tramite i valori di tau\n",
    "## 4. cercare di integrare i bound trovati"
   ]
  },
  {
   "attachments": {},
   "cell_type": "markdown",
   "metadata": {},
   "source": [
    "Estrarre policy da Q\n",
    "Confrontare due diverse Q\n",
    "    Valutare diverse metriche \n",
    "Calcolare Q*\n",
    "Tentativo di implementazione di un curriculum\n",
    "Plot functions"
   ]
  },
  {
   "cell_type": "code",
   "execution_count": 1,
   "metadata": {},
   "outputs": [],
   "source": [
    "import numpy as np\n",
    "from TMDP import TMDP\n",
    "from river_swim import River\n",
    "\n",
    "from algorithms import Q_learning\n",
    "from algorithms import eps_greedy\n",
    "from algorithms import SARSA"
   ]
  },
  {
   "cell_type": "code",
   "execution_count": 2,
   "metadata": {},
   "outputs": [],
   "source": [
    "# Test with tau=0.9\n",
    "gamma = 0.9\n",
    "river = River(gamma)\n",
    "tau = 0.9\n",
    "xi = np.ones(river.nS)*1/river.nS\n",
    "tmdp = TMDP(river, xi, tau, gamma)\n"
   ]
  },
  {
   "cell_type": "code",
   "execution_count": 8,
   "metadata": {},
   "outputs": [
    {
     "name": "stdout",
     "output_type": "stream",
     "text": [
      "[[  36.37809258   26.87824841]\n",
      " [  29.01870936   23.22352681]\n",
      " [  45.33448947   21.21340718]\n",
      " [  21.81861539   19.45363368]\n",
      " [  19.4613051    18.90720731]\n",
      " [  18.89239207 1330.56657354]]\n"
     ]
    }
   ],
   "source": [
    "s = tmdp.reset()\n",
    "M = 1000\n",
    "Q = np.zeros((tmdp.nS, tmdp.nA))\n",
    "ret = 0\n",
    "\n",
    "a = eps_greedy(s, Q, 1., tmdp.allowed_actions[s.item()])\n",
    "\n",
    "Q = Q_learning(tmdp, s, a, Q, M)\n",
    "\n",
    "print(Q)"
   ]
  },
  {
   "cell_type": "code",
   "execution_count": 17,
   "metadata": {},
   "outputs": [
    {
     "name": "stdout",
     "output_type": "stream",
     "text": [
      "0\n",
      "[[50.         43.36964915]\n",
      " [45.         40.97637229]\n",
      " [40.5        36.51628325]\n",
      " [36.44997517 28.95315906]\n",
      " [32.69138118  0.        ]\n",
      " [ 0.          0.        ]]\n"
     ]
    }
   ],
   "source": [
    "tmdp_0 = TMDP(river, xi, 0, gamma)\n",
    "s = tmdp_0.reset()\n",
    "print(tmdp_0.tau)\n",
    "M = 10000\n",
    "Q = np.zeros((tmdp_0.nS, tmdp_0.nA))\n",
    "ret = 0\n",
    "a = eps_greedy(s, Q, 1., tmdp_0.allowed_actions[s.item()])\n",
    "\n",
    "Q = Q_learning(tmdp_0, s, a, Q, M)\n",
    "\n",
    "print(Q)"
   ]
  },
  {
   "cell_type": "code",
   "execution_count": 25,
   "metadata": {},
   "outputs": [
    {
     "name": "stdout",
     "output_type": "stream",
     "text": [
      "Tau: 1.0\n",
      "[[2546.24052544 1669.09467684]\n",
      " [1527.27087989 2502.3344815 ]\n",
      " [2667.14446194 2217.29047658]\n",
      " [1734.52362963 2596.75756412]\n",
      " [2520.07752127 2046.24370379]\n",
      " [2119.02840077 4533.46224113]]\n",
      "Tau: 0.9\n",
      "[[1489.00388018 2203.48763588]\n",
      " [2271.46539956 1565.89111228]\n",
      " [2165.01420383 1326.22237223]\n",
      " [1347.98695158 2260.63403459]\n",
      " [2090.77800475 1360.08069924]\n",
      " [1565.9631211  4479.37122187]]\n",
      "Tau: 0.8\n",
      "[[1190.93448882 2242.45501872]\n",
      " [1168.90483049 2204.26774846]\n",
      " [1252.75548002 2174.66043123]\n",
      " [ 858.93439475 2316.46809155]\n",
      " [1569.25438134 2383.13703792]\n",
      " [1136.97627099 4673.12249027]]\n",
      "Tau: 0.7\n",
      "[[1789.98058169 2956.40167969]\n",
      " [2964.22369069 1822.90691102]\n",
      " [2851.45489839 2215.72131867]\n",
      " [1671.56566136 2919.24899581]\n",
      " [1888.32789221 3352.62370107]\n",
      " [2201.75538546 5341.29207292]]\n",
      "Tau: 0.6\n",
      "[[1583.54700732 3205.52477098]\n",
      " [3238.16778907 1674.31726427]\n",
      " [3289.10933476 1550.39975238]\n",
      " [3146.53951144 1619.05923365]\n",
      " [1540.35257825 3607.62023275]\n",
      " [1954.48557571 5047.83489614]]\n",
      "Tau: 0.5\n",
      "[[2999.16290195 2157.56944252]\n",
      " [3439.33301653 1219.99944622]\n",
      " [3281.26602208 1401.13036286]\n",
      " [1524.55846815 3378.97640937]\n",
      " [1591.03814705 3772.024111  ]\n",
      " [1628.0481295  7137.57498265]]\n",
      "Tau: 0.3999999999999999\n",
      "[[1984.38303621 2811.31686919]\n",
      " [2789.28140731 1943.75099457]\n",
      " [2584.83863677 1484.12303605]\n",
      " [1968.28310038 3120.00499416]\n",
      " [2019.51590883 3900.68685019]\n",
      " [1958.62951846 5435.10098127]]\n",
      "Tau: 0.29999999999999993\n",
      "[[ 884.04732396 2842.9753115 ]\n",
      " [1184.03284853 2830.83814252]\n",
      " [2779.64104748 1230.5787349 ]\n",
      " [2780.62483094  846.66031543]\n",
      " [1545.91426413 4149.3749726 ]\n",
      " [ 862.47405677 6945.35788577]]\n",
      "Tau: 0.19999999999999996\n",
      "[[ 917.03943609 1338.35033057]\n",
      " [1443.86879386 1418.91398553]\n",
      " [1540.37572746 1617.55045334]\n",
      " [1745.61140137 1979.23874079]\n",
      " [2017.41903258 3010.15898574]\n",
      " [2607.0979483  6586.53379323]]\n",
      "Tau: 0.09999999999999998\n",
      "[[ 778.65481646 1271.23249388]\n",
      " [ 974.52200312 1558.98355791]\n",
      " [1317.75467419 2407.56706315]\n",
      " [2111.28014791 3403.2711219 ]\n",
      " [2524.85314707 5053.40280608]\n",
      " [1866.34540295 8689.58151699]]\n",
      "Tau: 0\n",
      "[[50.         44.26768002]\n",
      " [45.         40.49365346]\n",
      " [40.5        35.31029288]\n",
      " [36.44783316 32.66458597]\n",
      " [ 0.          0.        ]\n",
      " [ 0.          0.        ]]\n"
     ]
    }
   ],
   "source": [
    "taus = [1 - i*0.1 for i in range(10)]\n",
    "taus.append(0)\n",
    "Qs = []\n",
    "xi = np.ones(river.nS)*1/river.nS\n",
    "gamma = 0.9\n",
    "river = River(gamma)\n",
    "\n",
    "for tau in taus:\n",
    "    tmdp = TMDP(river, xi, tau, gamma)\n",
    "    s = tmdp.reset()\n",
    "    M = 5000\n",
    "    Q = np.zeros((tmdp.nS, tmdp.nA))\n",
    "    ret = 0\n",
    "    a = eps_greedy(s, Q, 1., tmdp.allowed_actions[s.item()])\n",
    "    Q = Q_learning(tmdp, s, a, Q, M)\n",
    "    Qs.append({\"tau\":tau, \"Q_function\":Q, \"env\":tmdp})\n",
    "\n",
    "for i in range(len(taus)):\n",
    "    print(\"Tau:\", Qs[i]['tau'])\n",
    "    print(Qs[i]['Q_function'])"
   ]
  }
 ],
 "metadata": {
  "kernelspec": {
   "display_name": "Python 3",
   "language": "python",
   "name": "python3"
  },
  "language_info": {
   "codemirror_mode": {
    "name": "ipython",
    "version": 3
   },
   "file_extension": ".py",
   "mimetype": "text/x-python",
   "name": "python",
   "nbconvert_exporter": "python",
   "pygments_lexer": "ipython3",
   "version": "3.11.3"
  },
  "orig_nbformat": 4
 },
 "nbformat": 4,
 "nbformat_minor": 2
}
