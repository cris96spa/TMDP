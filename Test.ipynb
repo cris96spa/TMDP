{
 "cells": [
  {
   "attachments": {},
   "cell_type": "markdown",
   "metadata": {},
   "source": [
    "# Stimare Q function ottimale\n",
    "## 1. Quanto tempo ci mette per convergere a Q*, al variare di tau\n",
    "## 2. Distanza tra Q* e Q_t \n",
    "## 3. distanza tra Q_0 e Q_0 appresa tramite i valori di tau\n",
    "## 4. cercare di integrare i bound trovati"
   ]
  },
  {
   "cell_type": "code",
   "execution_count": 1,
   "metadata": {},
   "outputs": [],
   "source": [
    "import numpy as np\n",
    "from TMDP import TMDP\n",
    "from river_swim import River\n"
   ]
  },
  {
   "cell_type": "code",
   "execution_count": 12,
   "metadata": {},
   "outputs": [],
   "source": [
    "gamma = 0.9\n",
    "river = River(gamma)\n",
    "tau = 0.9\n",
    "xi = np.ones(river.nS)*1/river.nS\n",
    "tmdp = TMDP(river, xi, tau, gamma)\n"
   ]
  },
  {
   "cell_type": "code",
   "execution_count": 13,
   "metadata": {},
   "outputs": [],
   "source": [
    "from algorithms import Q_learning\n",
    "from algorithms import eps_greedy\n",
    "from algorithms import SARSA"
   ]
  },
  {
   "cell_type": "code",
   "execution_count": 11,
   "metadata": {},
   "outputs": [
    {
     "name": "stdout",
     "output_type": "stream",
     "text": [
      "[[  50.           44.66886669]\n",
      " [  46.           42.07680793]\n",
      " [  42.4          38.36518522]\n",
      " [  39.16         36.41201191]\n",
      " [  36.244        35.41385209]\n",
      " [  33.56831142 9074.11671237]]\n"
     ]
    }
   ],
   "source": [
    "tmdp_0 = TMDP(river, xi, gamma)\n",
    "s = tmdp_0.reset()\n",
    "M = 100000\n",
    "Q = np.zeros((tmdp_0.nS, tmdp_0.nA))\n",
    "ret = 0\n",
    "\n",
    "a = eps_greedy(s, Q, 1., tmdp_0.allowed_actions[s.item()])\n",
    "\n",
    "Q = Q_learning(tmdp_0, s, a, Q, M)\n",
    "\n",
    "print(Q)"
   ]
  },
  {
   "cell_type": "code",
   "execution_count": 15,
   "metadata": {},
   "outputs": [
    {
     "name": "stdout",
     "output_type": "stream",
     "text": [
      "[[50.         44.80073335]\n",
      " [46.         43.12186974]\n",
      " [42.4        40.24116852]\n",
      " [39.16       33.73048561]\n",
      " [36.244      33.61959913]\n",
      " [32.55990516  0.        ]]\n"
     ]
    }
   ],
   "source": [
    "\n",
    "s = tmdp.reset()\n",
    "M = 100000\n",
    "Q = np.zeros((tmdp.nS, tmdp.nA))\n",
    "ret = 0\n",
    "\n",
    "a = eps_greedy(s, Q, 1., tmdp.allowed_actions[s.item()])\n",
    "\n",
    "Q = Q_learning(tmdp, s, a, Q, M)\n",
    "\n",
    "print(Q)"
   ]
  },
  {
   "cell_type": "code",
   "execution_count": 11,
   "metadata": {},
   "outputs": [
    {
     "name": "stdout",
     "output_type": "stream",
     "text": [
      "[1.0, 0.9, 0.8, 0.7, 0.6, 0.5, 0.3999999999999999, 0.29999999999999993, 0.19999999999999996, 0.09999999999999998]\n"
     ]
    }
   ],
   "source": [
    "taus = [1 - i*0.1 for i in range(10)]\n",
    "Qs = {}\n",
    "xi = np.ones(river.nS)*1/river.nS\n",
    "gamma = 0.9\n",
    "river = River(gamma)\n",
    "\n",
    "for tau in taus:\n",
    "    tmdp = TMDP(river, xi, tau, gamma)\n",
    "    s = tmdp.reset()\n",
    "    M = 5000\n",
    "    Q = np.zeros((tmdp.nS, tmdp.nA))\n",
    "    ret = 0"
   ]
  }
 ],
 "metadata": {
  "kernelspec": {
   "display_name": "Python 3",
   "language": "python",
   "name": "python3"
  },
  "language_info": {
   "codemirror_mode": {
    "name": "ipython",
    "version": 3
   },
   "file_extension": ".py",
   "mimetype": "text/x-python",
   "name": "python",
   "nbconvert_exporter": "python",
   "pygments_lexer": "ipython3",
   "version": "3.11.3"
  },
  "orig_nbformat": 4
 },
 "nbformat": 4,
 "nbformat_minor": 2
}
